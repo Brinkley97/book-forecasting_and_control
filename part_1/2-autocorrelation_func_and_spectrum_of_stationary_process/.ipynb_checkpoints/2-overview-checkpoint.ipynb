{
 "cells": [
  {
   "cell_type": "markdown",
   "id": "2715812a-49bf-43d3-9c13-e40973302e5d",
   "metadata": {
    "tags": []
   },
   "source": [
    "# Outline of CH\n",
    "\n",
    "- **General Overview** : \n",
    "    - Learn the properties **Spectral Density (SD)** & **Autocorrelation (ACor)** funcs\n",
    "    - **Stationary TS** can be described as : Mean, Variance, (ACor) Func $ \\Leftrightarrow $ Mean, Variance (SD) Func\n",
    "        \n",
    "- **Terms** \n",
    "    1. **Statistical equilibrium** []\n",
    "    2. **Stationarity** [A restrictive but useful assumption of statistical equilibrium]\n",
    "    3. **(ACor)Func** []\n",
    "    4. **Spectrum of Stationary Process** []"
   ]
  },
  {
   "cell_type": "markdown",
   "id": "b8335d0d-631e-4ddc-8fdb-7aecb4966e0f",
   "metadata": {
    "tags": []
   },
   "source": [
    "---\n",
    "\n",
    "## 2.1 (ACor) Properties of Stationary Models\n",
    "\n",
    "**Main Idea : **\n",
    "\n",
    "### 2.1.1 TS & Stochastic Processes (SP)\n",
    "### 2.1.2 Stationary (SP)\n",
    "### 2.1.3 Positive Definiteness and Autocovariance (ACov) Matrix\n",
    "### 2.1.4 (ACov) and (ACor) Funcs\n",
    "### 2.1.5 Estimation of (ACov) Funcs\n",
    "### 2.1.6 Standard Errors of (ACor) Estimates"
   ]
  },
  {
   "cell_type": "markdown",
   "id": "25b42902-7acf-45c0-96e1-957ce691a789",
   "metadata": {},
   "source": [
    "---\n",
    "\n",
    "## 2.2 Spectral Properties of Stationary Models\n",
    "\n",
    "**Main Idea : **\n",
    "\n",
    "### 2.2.1 Periodogram of a TS\n",
    "### 2.2.2 Analysis of Variance\n",
    "### 2.2.3 Spectrum and Spectral Density (SD) Funcs\n",
    "### 2.2.4 Simple Exs of (ACor) and (SD) Funcs\n",
    "### 2.2.5 Advantages and Disadvatages of the (ACor) and (SD) Funcs"
   ]
  },
  {
   "cell_type": "code",
   "execution_count": null,
   "id": "2ad1d517-b186-43d4-8cb8-78f6ec23cc2c",
   "metadata": {},
   "outputs": [],
   "source": []
  }
 ],
 "metadata": {
  "kernelspec": {
   "display_name": "Python 3",
   "language": "python",
   "name": "python3"
  },
  "language_info": {
   "codemirror_mode": {
    "name": "ipython",
    "version": 3
   },
   "file_extension": ".py",
   "mimetype": "text/x-python",
   "name": "python",
   "nbconvert_exporter": "python",
   "pygments_lexer": "ipython3",
   "version": "3.7.5"
  }
 },
 "nbformat": 4,
 "nbformat_minor": 5
}
