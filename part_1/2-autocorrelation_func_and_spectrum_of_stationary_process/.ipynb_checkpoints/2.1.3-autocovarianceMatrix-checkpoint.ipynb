{
 "cells": [
  {
   "cell_type": "markdown",
   "id": "571ebaa2-0fdb-4aa7-b153-32ebb9dc3de3",
   "metadata": {},
   "source": [
    "# Create the Autocovariance Matrix"
   ]
  },
  {
   "cell_type": "code",
   "execution_count": null,
   "id": "acba11fe-c4e8-4cc0-a2d1-b04f153157b8",
   "metadata": {},
   "outputs": [],
   "source": [
    "import numpy as np"
   ]
  },
  {
   "cell_type": "code",
   "execution_count": 67,
   "id": "96a0f0c5-a064-4d74-9b31-4743d0af146c",
   "metadata": {},
   "outputs": [],
   "source": [
    "time_series = [112, 118, 132, 129, 121, 135, 148, 148, 136, 119, 104, 118, 115,\n",
    "        126, 141, 135, 125, 149, 170, 170, 158, 133, 114, 140, 145, 150,\n",
    "        178, 163, 172, 178, 199, 199, 184, 162, 146, 166, 171, 180, 193,\n",
    "        181, 183, 218, 230, 242, 209, 191, 172, 194, 196, 196, 236, 235,\n",
    "        229, 243, 264, 272, 237, 211, 180, 201, 204, 188, 235, 227, 234,\n",
    "        264, 302, 293, 259, 229, 203, 229, 242, 233, 267, 269, 270, 315,\n",
    "        364, 347, 312, 274, 237, 278, 284, 277, 317, 313, 318, 374, 413,\n",
    "        405, 355, 306, 271, 306, 315, 301, 356, 348, 355, 422, 465, 467,\n",
    "        404, 347, 305, 336, 340, 318, 362, 348, 363, 435, 491, 505, 404,\n",
    "        359, 310, 337, 360, 342, 406, 396, 420, 472, 548, 559, 463, 407,\n",
    "        362, 405, 417, 391, 419, 461, 472, 535, 622, 606, 508, 461, 390,\n",
    "        432]"
   ]
  },
  {
   "cell_type": "code",
   "execution_count": 68,
   "id": "7e07844a-7585-465e-9564-47a2527db00e",
   "metadata": {},
   "outputs": [],
   "source": [
    "def autocovariance(data: list, lag: int = 0):\n",
    "    \"\"\"Compute the autocovariance of the time series data at a given lag.\n",
    "\n",
    "    Parameters\n",
    "    ----------\n",
    "    lag: `int`\n",
    "        The lag at which to compute the autocovariance\n",
    "\n",
    "    Returns\n",
    "    -------\n",
    "    autocovariance: `Number`\n",
    "        The autocovariance of the time series data at the given lag\n",
    "    \"\"\"\n",
    "    assert lag < len(data), \"The lag must be less than the length of\" \\\n",
    "        + \" the data\"\n",
    "    if lag == 0:\n",
    "        return np.var(data)\n",
    "    mean = np.mean(data)\n",
    "    # data = time_series[value_col].values\n",
    "    autocovariance = np.sum((data[lag:] - mean) * (data[:-lag] - mean)) \\\n",
    "        / len(data)\n",
    "    print(autocovariance)\n",
    "    return autocovariance"
   ]
  },
  {
   "cell_type": "code",
   "execution_count": 91,
   "id": "c70cb855-1ec4-40f9-9da9-31b12bf7650f",
   "metadata": {},
   "outputs": [],
   "source": [
    "def autocovariance_matrix(max_lag: int, time_series: list) -> np.array:\n",
    "    \"\"\"Compute the autocovariance matrix of the time series data.\n",
    "\n",
    "    Parameters\n",
    "    ----------\n",
    "    max_lag: `int`\n",
    "        The maximum lag at which to compute the autocovariance matrix\n",
    "\n",
    "    Returns\n",
    "    -------\n",
    "    autocovariance_matrix: `np.array`\n",
    "        The autocovariance matrix of the time series data\n",
    "    \"\"\"\n",
    "    autocovariance_matrix = np.zeros((max_lag + 1, max_lag + 1))\n",
    "    # Compute the autocovariance matrix using half the iterations taking\n",
    "    # advantage of symmetry\n",
    "    for row_i in range(max_lag + 1):\n",
    "        print(\"row_i:\", row_i)\n",
    "        for col_j in range(row_i, max_lag + 1):\n",
    "            print(\"col_j:\", col_j)\n",
    "            \n",
    "            # get the autocovariance value\n",
    "            autocovariance_matrix[row_i, col_j] = autocovariance(time_series, np.abs(row_i - col_j))\n",
    "            print(autocovariance_matrix)\n",
    "            print()\n",
    "            \n",
    "            # symmetry step\n",
    "            new_row_i = col_j\n",
    "            print(\"new_row_i:\", new_row_i)\n",
    "            new_col_j = row_i\n",
    "            print(\"new_col_j:\", new_col_j)\n",
    "            autocovariance_matrix[new_row_i, new_col_j] = autocovariance_matrix[row_i, col_j]\n",
    "            print(autocovariance_matrix)\n",
    "            print()\n",
    "    return autocovariance_matrix"
   ]
  },
  {
   "cell_type": "raw",
   "id": "92eefebf-a6d1-4cc7-a360-1c1fd1a06770",
   "metadata": {},
   "source": [
    "[[14391.91720085 13549.46731094]\n",
    " [13549.46731094 14391.91720085]]"
   ]
  },
  {
   "cell_type": "code",
   "execution_count": 92,
   "id": "5f3411dd-91e5-4f8b-b3e5-425270f4e9c8",
   "metadata": {},
   "outputs": [
    {
     "name": "stdout",
     "output_type": "stream",
     "text": [
      "row_i: 0\n",
      "col_j: 0\n",
      "[[14291.9733314     0.            0.       ]\n",
      " [    0.            0.            0.       ]\n",
      " [    0.            0.            0.       ]]\n",
      "\n",
      "new_row_i: 0\n",
      "new_col_j: 0\n",
      "[[14291.9733314     0.            0.       ]\n",
      " [    0.            0.            0.       ]\n",
      " [    0.            0.            0.       ]]\n",
      "\n",
      "col_j: 1\n",
      "13549.467310943395\n",
      "[[14291.9733314  13549.46731094     0.        ]\n",
      " [    0.             0.             0.        ]\n",
      " [    0.             0.             0.        ]]\n",
      "\n",
      "new_row_i: 1\n",
      "new_col_j: 0\n",
      "[[14291.9733314  13549.46731094     0.        ]\n",
      " [13549.46731094     0.             0.        ]\n",
      " [    0.             0.             0.        ]]\n",
      "\n",
      "col_j: 2\n",
      "12513.692193260245\n",
      "[[14291.9733314  13549.46731094 12513.69219326]\n",
      " [13549.46731094     0.             0.        ]\n",
      " [    0.             0.             0.        ]]\n",
      "\n",
      "new_row_i: 2\n",
      "new_col_j: 0\n",
      "[[14291.9733314  13549.46731094 12513.69219326]\n",
      " [13549.46731094     0.             0.        ]\n",
      " [12513.69219326     0.             0.        ]]\n",
      "\n",
      "row_i: 1\n",
      "col_j: 1\n",
      "[[14291.9733314  13549.46731094 12513.69219326]\n",
      " [13549.46731094 14291.9733314      0.        ]\n",
      " [12513.69219326     0.             0.        ]]\n",
      "\n",
      "new_row_i: 1\n",
      "new_col_j: 1\n",
      "[[14291.9733314  13549.46731094 12513.69219326]\n",
      " [13549.46731094 14291.9733314      0.        ]\n",
      " [12513.69219326     0.             0.        ]]\n",
      "\n",
      "col_j: 2\n",
      "13549.467310943395\n",
      "[[14291.9733314  13549.46731094 12513.69219326]\n",
      " [13549.46731094 14291.9733314  13549.46731094]\n",
      " [12513.69219326     0.             0.        ]]\n",
      "\n",
      "new_row_i: 2\n",
      "new_col_j: 1\n",
      "[[14291.9733314  13549.46731094 12513.69219326]\n",
      " [13549.46731094 14291.9733314  13549.46731094]\n",
      " [12513.69219326 13549.46731094     0.        ]]\n",
      "\n",
      "row_i: 2\n",
      "col_j: 2\n",
      "[[14291.9733314  13549.46731094 12513.69219326]\n",
      " [13549.46731094 14291.9733314  13549.46731094]\n",
      " [12513.69219326 13549.46731094 14291.9733314 ]]\n",
      "\n",
      "new_row_i: 2\n",
      "new_col_j: 2\n",
      "[[14291.9733314  13549.46731094 12513.69219326]\n",
      " [13549.46731094 14291.9733314  13549.46731094]\n",
      " [12513.69219326 13549.46731094 14291.9733314 ]]\n",
      "\n"
     ]
    },
    {
     "data": {
      "text/plain": [
       "array([[14291.9733314 , 13549.46731094, 12513.69219326],\n",
       "       [13549.46731094, 14291.9733314 , 13549.46731094],\n",
       "       [12513.69219326, 13549.46731094, 14291.9733314 ]])"
      ]
     },
     "execution_count": 92,
     "metadata": {},
     "output_type": "execute_result"
    }
   ],
   "source": [
    "autocovariance_matrix(2, time_series)"
   ]
  },
  {
   "cell_type": "code",
   "execution_count": 51,
   "id": "1b52fe5d-50ce-4010-a258-8875c13a1b97",
   "metadata": {},
   "outputs": [
    {
     "data": {
      "text/plain": [
       "array([[0., 0.],\n",
       "       [0., 0.]])"
      ]
     },
     "execution_count": 51,
     "metadata": {},
     "output_type": "execute_result"
    }
   ],
   "source": [
    "autocovariance_matrix = np.zeros((1 + 1, 1 + 1))\n",
    "autocovariance_matrix"
   ]
  },
  {
   "cell_type": "code",
   "execution_count": 53,
   "id": "0d316e68-e460-4283-b4a2-3c0359840086",
   "metadata": {},
   "outputs": [
    {
     "data": {
      "text/plain": [
       "(array([0., 0.]), array([0., 0.]))"
      ]
     },
     "execution_count": 53,
     "metadata": {},
     "output_type": "execute_result"
    }
   ],
   "source": [
    "autocovariance_matrix[0], autocovariance_matrix[1]"
   ]
  },
  {
   "cell_type": "code",
   "execution_count": null,
   "id": "0c01d2fe-1f84-451e-8f0a-9cb81a0387b4",
   "metadata": {},
   "outputs": [],
   "source": []
  }
 ],
 "metadata": {
  "kernelspec": {
   "display_name": "Python 3 (ipykernel)",
   "language": "python",
   "name": "python3"
  },
  "language_info": {
   "codemirror_mode": {
    "name": "ipython",
    "version": 3
   },
   "file_extension": ".py",
   "mimetype": "text/x-python",
   "name": "python",
   "nbconvert_exporter": "python",
   "pygments_lexer": "ipython3",
   "version": "3.9.16"
  }
 },
 "nbformat": 4,
 "nbformat_minor": 5
}
