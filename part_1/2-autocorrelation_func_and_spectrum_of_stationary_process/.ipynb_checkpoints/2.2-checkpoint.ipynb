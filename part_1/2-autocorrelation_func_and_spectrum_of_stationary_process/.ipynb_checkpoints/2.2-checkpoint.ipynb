{
 "cells": [
  {
   "cell_type": "markdown",
   "id": "9527dd0e-ba39-472d-8ac1-34eef8e76d4f",
   "metadata": {},
   "source": [
    "## 2.2 Spectral Properties of Stationary Models\n",
    "\n",
    "- **Main Idea :** *(Copy directly to overview notebook)*\n",
    "- **Questions/Further Explore :**\n",
    "- **Notation :** \n",
    "    1. z, observations\n",
    "    2. t, time step\n",
    "    3. z$_{t}$, observation at t\n",
    "    4. p(z$ _{t} $), probability distribution of some observation at t w/ a mean & standard deviation\n",
    "    \n",
    "---"
   ]
  },
  {
   "cell_type": "markdown",
   "id": "adbfc2e5-475d-45e4-9eed-5a415f7802b8",
   "metadata": {},
   "source": [
    "---\n",
    "\n",
    "### 2.2.1 Periodogram of a TS\n",
    "- **Main Idea :**\n",
    "    - Can analyze a TS based on the assumption that it is composed of sine and cosine waves w/ diff frequencies. A device that we can measure w/ is called the **periodogram** which derives from detecting and estimating while buried in noise, the amplitude of a sine component, of known frequency. The **periodogram** can also be used to check the residuals after fitting a model.\n",
    "    \n",
    "- **Questions/Further Explore :**\n",
    "    1. **Fourier series model** and mathematical calcs\n",
    "    \n",
    "- **Terms :**\n",
    "    1. **Periodogram** [a device use to measure the sine & cosine of a TS]\n",
    "    2. **Intensity** [type w/ latex but it's the \"sum of squares\" associated w/ the pair of coefficients]"
   ]
  },
  {
   "cell_type": "markdown",
   "id": "c3d3f194-f6e5-4eb6-be7e-f4deb5690a70",
   "metadata": {},
   "source": [
    "---\n",
    "\n",
    "### 2.2.2 Analysis of Variance\n",
    "- **Main Idea :**\n",
    "    - Given some TS, calc the variance & analyze it\n",
    "    - Two diff comparisons\n",
    "        1. The series containing no systematic sinusoidal component, each component *I(f${_i}$) would be yield some result\n",
    "        2. The series containing a systematic sine component which leads the sum of squares *I(f${_i}$)* to be inflated\n",
    "    \n",
    "- **Questions/Further Explore :**\n",
    "    1. Diffs and similarities in degrees of freedom here & in robotics\n",
    "    2. The comparisons above\n",
    "    \n",
    "- **Terms :**"
   ]
  },
  {
   "cell_type": "markdown",
   "id": "9b6077e3-eaf8-4ba2-8751-cbc60dfd75ab",
   "metadata": {},
   "source": [
    "---\n",
    "\n",
    "### 2.2.3 Spectrum and Spectral Density Function\n",
    "- They said this can be omitted being that they don't apply them to the analysis of time series in this book\n",
    "    \n",
    "- **Questions/Further Explore :**\n",
    "    1. \n",
    "    \n",
    "- **Terms :**"
   ]
  },
  {
   "cell_type": "markdown",
   "id": "455fc2c3-d1c9-4d6a-9bf4-aababdec93f4",
   "metadata": {},
   "source": [
    "---\n",
    "\n",
    "### 2.2.5 Advantages and Disadvantages of the Autocorrelation Spectral Density Function\n",
    "- **Main Idea :**\n",
    "    - The **autocorrelation func** $ \\Leftrightarrow $ **spectral density func** as in they transform each other. Both highlights diff aspsects of the data. Obtaining sample estimates of both are considered **nonstructural approaches** which an anology can be used. That is, representing an **empirical distribution func** by a histogram. All components of this analogy provide a first step in the analysis of the TS and in the distributional analysis of data, respectively. \n",
    "    - Params to be estimated - each correlation and each spectral ordinate - so either **nonstructural approach** may be prodigal w/ params (meaning : rich) when the approach via the model is considered to be **parsimonious** (meaning : less of/frugal).\n",
    "    - May be unsure of which model to initially use so using either **nonstructural approach** results in *identifying* the type model to use\n",
    "    \n",
    "- **Questions/Further Explore :**\n",
    "    1. \n",
    "    \n",
    "- **Terms :**\n",
    "    1. **Empirical distribution func** []\n",
    "    2. **Nonstructural methods** [two are **autocorrelation func** and **spectral density func**]\n",
    "    3. **Prodigal** [adj having or giving something on a lavish scale]\n",
    "    4. **Parsimonious** [adj unwilling to spend money or use resources; stingy or frugal.]"
   ]
  },
  {
   "cell_type": "code",
   "execution_count": null,
   "id": "19206186-ccae-4a24-b67a-f7d3b3b3c9d6",
   "metadata": {},
   "outputs": [],
   "source": []
  }
 ],
 "metadata": {
  "kernelspec": {
   "display_name": "Python 3 (ipykernel)",
   "language": "python",
   "name": "python3"
  },
  "language_info": {
   "codemirror_mode": {
    "name": "ipython",
    "version": 3
   },
   "file_extension": ".py",
   "mimetype": "text/x-python",
   "name": "python",
   "nbconvert_exporter": "python",
   "pygments_lexer": "ipython3",
   "version": "3.9.7"
  }
 },
 "nbformat": 4,
 "nbformat_minor": 5
}
