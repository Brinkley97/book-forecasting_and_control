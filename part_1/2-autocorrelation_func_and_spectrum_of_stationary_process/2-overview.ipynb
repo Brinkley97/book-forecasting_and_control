{
 "cells": [
  {
   "cell_type": "markdown",
   "id": "2715812a-49bf-43d3-9c13-e40973302e5d",
   "metadata": {
    "tags": []
   },
   "source": [
    "# Outline of CH\n",
    "\n",
    "- **General Overview** : \n",
    "    - Learn the properties **Spectral Density (SD)** & **Autocorrelation (ACor)** funcs\n",
    "    - **Stationary TS** can be described as : Mean, Variance, (ACor) Func $ \\Leftrightarrow $ Mean, Variance (SD) Func\n",
    "        \n",
    "- **Terms** \n",
    "    1. **Statistical equilibrium** []\n",
    "    2. **Stationarity** [A restrictive but useful assumption of statistical equilibrium]\n",
    "    3. **(ACor)Func** []\n",
    "    4. **Spectrum of Stationary Process** []\n",
    "    \n",
    "---"
   ]
  },
  {
   "cell_type": "markdown",
   "id": "b8335d0d-631e-4ddc-8fdb-7aecb4966e0f",
   "metadata": {
    "tags": []
   },
   "source": [
    "---\n",
    "\n",
    "## 2.1 (ACor) Properties of Stationary Models\n",
    "\n",
    "**Main Idea :**\n",
    "\n",
    "### 2.1.1 TS & Stochastic Processes (SP)\n",
    "- There are different types of TS. We'll only consider the **discrete** case but $ \\exists $ two more which are **continuous** and **successive**. **Discrete TS** can be determined by both 1) **sampling** which is getting data at a *specific time* (ie : every 9 secs) & 2) **accumulating** which is collecting data *over time* (ie : days, months). To distinguish the two, think of multiple checker boards side-by-side. **Discrete TS** can be determined by both 1) getting data of any block on any board (ie : every 2 blocks across all the boards) & 2) getting the data of every board (so a sum of the each block). \n",
    "\n",
    "### 2.1.2 Stationary (SP)\n",
    "- Here, we are dealing w/ submodules of **stochastic processes** called **stationary processes** & **strictly stationary**. W/ the checkboards ex, let's assign a \"weight/value\" to each block. As I move across each block w/ **strictly stationary**, my \"weight\" doesn't change. $ \\therefore $, $ \\exists $ for **stochastic processes** a constant mean & constant variance w/ a (single) pr() distribution of p(z$ _{t} $). This is also true for both joint pr() distributions (1) p(z$_{t_1}$, z$ _{t_2} $) & (2) p(z$_{t}$, z$ _{t + k} $) bc of the **stationary assumption**.\n",
    "\n",
    "### 2.1.3 Positive Definiteness and Autocovariance (ACov) Matrix\n",
    "- PD deals w/ funcs being > 0 given some observation & a linear func for a **stationary process**. $ \\exists $ a few conditions... For **positive definiteness** to hold true for an **ACov Matrix**, the determinants & principle minors (of the **ACov Matrix**) MUST be > 0.\n",
    "- **White noise** plays a role in the properties through **linear filtering operations**\n",
    "    \n",
    "### 2.1.4 (ACov) and (ACor) Funcs\n",
    "- Of **autocovariance func** and **autocorrelation func** (both are **stochastic processes**), take in the **coefficients** of both **autocovariance** $ \\gamma_k $ and **autocorrelation** $ \\rho{_k} $ w/ some lag *k*, to produce a plot. The **autocorrelation func** is *symmetric* about 0, so plotting only the positive half is standard.\n",
    "    - Characteristics of a *normal* **stationary process z$ {_t} $** : mean and **autocovariance func** $ \\Leftrightarrow $ mean, variance, and **autocorrelation func**\n",
    "    \n",
    "### 2.1.5 Estimation of (ACov) Funcs\n",
    "- Goal is to obtain *estimates* of the mean and the **autocorrelations** of a finite TS w/ N observations. Need at least 50 observations, and a K (total **autocorrelations** as in k = 0, 1, ..., K) < N/4. The **autocorrelation function** is characterized by correlations that alternate in sign and tend to damp out with increasing lag.\n",
    "\n",
    "### 2.1.6 Standard Errors of (ACor) Estimates"
   ]
  },
  {
   "cell_type": "markdown",
   "id": "25b42902-7acf-45c0-96e1-957ce691a789",
   "metadata": {},
   "source": [
    "---\n",
    "\n",
    "## 2.2 Spectral Properties of Stationary Models\n",
    "\n",
    "**Main Idea : **\n",
    "\n",
    "### 2.2.1 Periodogram of a TS\n",
    "- Can analyze a TS based on the assumption that it is composed of sine and cosine waves w/ diff frequencies. A device that we can measure w/ is called the **periodogram** which derives from detecting and estimating while buried in noise, the amplitude of a sine component, of known frequency. The **periodogram** can also be used to check the residuals after fitting a model.\n",
    "\n",
    "### 2.2.2 Analysis of Variance\n",
    "- Given some TS, calc the variance & analyze it\n",
    "    - Two diff comparisons\n",
    "        1. The series containing no systematic sinusoidal component, each component *I(f${_i}$)* would be yield some result\n",
    "        2. The series containing a systematic sine component which leads the sum of squares *I(f${_i}$)* to be inflated\n",
    "        \n",
    "### 2.2.3 Spectrum and Spectral Density (SD) Funcs\n",
    "- They said this can be omitted being that they don't apply them to the analysis of time series in this book\n",
    "    \n",
    "### 2.2.4 Simple Exs of (ACor) and (SD) Funcs\n",
    "\n",
    "### 2.2.5 Advantages and Disadvatages of the (ACor) and (SD) Funcs\n",
    "- The **autocorrelation func** $ \\Leftrightarrow $ **spectral density func** as in they transform each other. Both highlights diff aspsects of the data. Obtaining sample estimates of both are considered **nonstructural approaches** which an anology can be used. That is, representing an **empirical distribution func** by a histogram. All components of this analogy provide a first step in the analysis of the TS and in the distributional analysis of data, respectively. \n",
    "    - Params to be estimated - each correlation and each spectral ordinate - so either **nonstructural approach** may be prodigal w/ params (meaning : rich) when the approach via the model is considered to be **parsimonious** (meaning : less of/frugal).\n",
    "    - May be unsure of which model to initially use so using either **nonstructural approach** results in *identifying* the type model to use"
   ]
  },
  {
   "cell_type": "code",
   "execution_count": null,
   "id": "2ad1d517-b186-43d4-8cb8-78f6ec23cc2c",
   "metadata": {},
   "outputs": [],
   "source": []
  }
 ],
 "metadata": {
  "kernelspec": {
   "display_name": "Python 3 (ipykernel)",
   "language": "python",
   "name": "python3"
  },
  "language_info": {
   "codemirror_mode": {
    "name": "ipython",
    "version": 3
   },
   "file_extension": ".py",
   "mimetype": "text/x-python",
   "name": "python",
   "nbconvert_exporter": "python",
   "pygments_lexer": "ipython3",
   "version": "3.9.7"
  }
 },
 "nbformat": 4,
 "nbformat_minor": 5
}
