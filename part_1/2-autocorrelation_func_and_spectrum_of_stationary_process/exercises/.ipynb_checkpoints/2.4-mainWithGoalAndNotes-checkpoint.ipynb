{
 "cells": [
  {
   "cell_type": "markdown",
   "id": "baa4674f-731e-4787-8366-ad811531e52b",
   "metadata": {},
   "source": [
    "# Problem Statement + Goal + Notes\n",
    "\n",
    "- For code, see [2.4.1-withDarian.ipynb](https://github.com/Brinkley97/book-forecasting_and_control/blob/main/part_1/2-autocorrelation_func_and_spectrum_of_stationary_process/exercises/2.4.1-withDarian.ipynb) and [2.4.2-calculateAndPlotAcovAcor.ipynb](https://github.com/Brinkley97/book-forecasting_and_control/blob/main/part_1/2-autocorrelation_func_and_spectrum_of_stationary_process/exercises/2.4.2-calculateAndPlotAcovAcor.ipynb)\n",
    "- [Notion notes](https://detraviousjbrinkley.notion.site/CH-2-Autocorrelation-Function-and-Spectrum-of-Stationary-Processes-9597792538c54da3ac4eb45e9ca6790f)"
   ]
  },
  {
   "cell_type": "markdown",
   "id": "065f6a8a-a117-4573-8e95-c3543d72c650",
   "metadata": {},
   "source": [
    "# Problem Statement + Goal\n",
    "\n",
    "1. Calculate $ c_{0}, c_{1}, c_{2}, c_{3}, r_{1}, r_{2}, r_{3} $ for the series given in Exercise 2.1.\n",
    "2. Make a graph of $ r_{k} $, k = 0, 1, 2, 3\n",
    "\n",
    "3. My interpretation : \n",
    "    - Of the TS in 2.1, find the estimates of both \n",
    "        1. $c_k$ is the estimated autocovariance (ACov) $(\\hat{\\gamma}_{k})$ at lag k\n",
    "        2. $r_k$ is the estimated autocorrelation (ACor) $(\\hat{\\rho}_{k})$ at lag k\n",
    "        3. where k = 0, 1, 2, 3\n",
    "    - Graph the autocorrelations at k\n",
    "        - x-axis represents the k lags\n",
    "        - y-axis represents the ACor values"
   ]
  },
  {
   "cell_type": "markdown",
   "id": "49b66f5d-311c-492a-a27a-04212abc26d4",
   "metadata": {},
   "source": [
    "# Questions + Futher Explore\n",
    "- [pandas.DataFrame.shift](https://pandas.pydata.org/pandas-docs/stable/reference/api/pandas.DataFrame.shift.html)\n",
    "    - See example with simpler code in [5-basic_feature_engineering.ipynb](https://github.com/Brinkley97/book-intro_to_tsf_with_python/blob/main/5-basic_feature_engineering.ipynb) by Detravious Jamari Brinkley based on [Introduction to Time Series Forecasting With Python](https://machinelearningmastery.com/introduction-to-time-series-forecasting-with-python/) by Jason Brownlee\n",
    "    - Attempting to use the `shift()` attribute (of a DataFrame) in [2.4.3-withPandasShiftMethod.ipynb](https://github.com/Brinkley97/book-forecasting_and_control/blob/main/part_1/2-autocorrelation_func_and_spectrum_of_stationary_process/exercises/2.4.3-withPandasShiftMethod.ipynb)\n"
   ]
  },
  {
   "cell_type": "markdown",
   "id": "6bb1d0bf-724f-47de-864d-e9266be742d5",
   "metadata": {},
   "source": [
    "# Display Datasets\n",
    "1. Book dataset\n",
    "2. [LEW dataset](https://www.itl.nist.gov/div898/handbook/eda/section3/eda35c.htm)\n",
    "3. [UCI Original Diabetes dataset](https://archive.ics.uci.edu/ml/datasets/diabetes)"
   ]
  },
  {
   "cell_type": "raw",
   "id": "9fa70e58-5cab-4ed4-8ad2-c72de34795e7",
   "metadata": {},
   "source": [
    "Book dataset\n",
    "z = [200, 202, 208, 204, 204, 207, 207, 204, 202, 199, 201, 198, 200, \n",
    "        202, 203, 205, 207, 211, 204, 206, 203, 203, 201, 198, 200, 206, \n",
    "        207, 206, 200, 203, 203, 200, 200, 195, 202, 204, 207, 206, 200]"
   ]
  },
  {
   "cell_type": "markdown",
   "id": "12cb99a9-7c4b-40a6-8dcb-b7d8e45934e2",
   "metadata": {},
   "source": [
    "## Terminology\n",
    "\n",
    "- **Variance** is the spread ($\\sigma^{2}$) of a single variable - single distribution\n",
    "    - $\\sigma^{2}$ = E [($z{_t} - \\mu){^2}$] = $\\int_{-\\infty}^{\\infty}$ ($z - \\mu){^2}$ * p(z) dz\n",
    "    - $ \\underline{\\textbf{Why (importance)}} $: To determine the confidence of our distribution\n",
    "\n",
    "- **Sample Variance** of the stochastic process with the same pr() distribution p(z) being the same for all times t, the variance $\\sigma_{z}^{2}$ can be estimated\n",
    "    - $\\sigma_{z}^{2}$ = 1/N $\\sum_{t=1}^N (z{_t} - \\bar{z})$, where $\\bar{z}$ is the sample mean\n",
    "    - ***Think :*** \n",
    "        - Why (importance): estimate the confidence of our distribution bc (1) it's the same for all times t and (2) it may be computationally expensive to find the actual variance $\\sigma$\n",
    "    \n",
    "- **Covariance** is the spread ($\\gamma$) of two variables - joint distributions (JD)\n",
    "    - $\\sigma$[X, Y]\n",
    "    - (JD) [Given two random variables that are defined on the same probability space, the joint probability distribution is the corresponding probability distribution on all possible pairs of outputs.] [Wiki](https://en.wikipedia.org/wiki/Joint_probability_distribution)\n",
    "    - ***Think:*** \n",
    "        - V[X] and V[Y] = cov[X, Y]\n",
    "        - Why (importance): So, of these two variables in the same probability space, how do they vary/differ? If low, then low confidence then they differ a great bit which results in a wide distribution? \n",
    "        \n",
    "- **AutoCovariance** is the spread at lag k ($\\gamma_{k}$) of two variables - joint distributions\n",
    "    - $\\gamma_{k}$ = $cov[z{_t}, z_t{_+}{_k}]$ = $E[(z{_t} - \\mu)(z_t{_+}{_k} - \\mu)]$\n",
    "    - ***Think:***\n",
    "        - covariance but w/ the same variable and different time steps\n",
    "        - So, of these two time steps, spaced k intervals apart, in the same probability space, how do they vary/differ?\n",
    "        - Why (importance) : gather insights (ie : spread or confidence) on the same variable but at different times t and t + k\n",
    "        \n",
    "- **Estimated AutoCov** is the spread at lag k ($\\hat{\\gamma}_{k}$) of two variables - joint distributions\n",
    "    - $ \\hat{\\gamma}_{k} $ (gamma hat) = 1/N * $ \\sum_{t=1}^{N - k} (z_{t} - \\bar{z})(z_{t+k} - \\bar{z}) $ k = 0, 1, 2,..., K\n",
    "    - ***Think:*** \n",
    "        - We want to find the estimated confidence in our single variable (z) at two different times t and t + k\n",
    "            - Estimated bc we may ! be able to draw an exact value to due the complexity (of data, time it'll take, computations, etc)\n",
    "            - If large, then high variance which results in a wide distribution but if small, then low variance and a narrow distribution\n",
    "            - (?) Can I have a (-) confidence? If so, does this means that I'm ! confident at all?\n",
    "                - Yes, can have a (-) Est AutoCov which implies that the value falls to the left of 0 when looking at the distribution curve.\n",
    "        - ***Analogy - Points in a basketball game of a single player***\n",
    "            - Single variable : points (p)\n",
    "            - p$_t$ : points when t = end of 1st quarter\n",
    "            - $p{_t}{_+}{_k}$ : points when t + k = end of another quarter\n",
    "            - Find the estimated confidence/spread at the end of the 1st quarter compared to the end of another quarter\n",
    "                - Confidence/spread here can be pr() of scoring x points\n",
    "        - Why (importance): same as AutoCov except here it's an approx bc we may ! be able to get the true value\n",
    "- P 31 in book has to obtain a useful estimate of the ACor func, need \n",
    "    - at least 50 observations so $ N \\le 50 $\n",
    "    - the estimated ACor ($ r_k $) would be calculated for $ k = 0, 1, ..., K $, where $ K \\le N/4 $ (maybe use df.head(50) or df.head(N/4) which will give a subset of the data)"
   ]
  },
  {
   "cell_type": "markdown",
   "id": "621db00c-53d1-4f1c-aed2-953c5e60c3e8",
   "metadata": {},
   "source": [
    "## Estimate the ACov @ lag k\n",
    "\n",
    "\n",
    "\\begin{align}\n",
    "\\hat{\\gamma}_{k} = \\frac{1}{N} \\times \\sum_{t=1}^{N - k} (z_{t} - \\bar{z})(z_{t+k} - \\bar{z}),\n",
    "\\space where \n",
    "\\end{align}\n",
    "\n",
    "\\begin{align}\n",
    "k = 0, 1, 2,..., K\n",
    "\\end{align}\n",
    "\n",
    "\\begin{align}\n",
    "\\bar{z} = \\sum_{t=1}^{N} \\frac{z_t}{N}\n",
    "\\end{align}\n",
    "\n"
   ]
  },
  {
   "cell_type": "markdown",
   "id": "dcba9a33-2980-4323-a0ac-190fcea8ed5f",
   "metadata": {},
   "source": [
    "## Estimate AutoCor @ lag k\n",
    "\n",
    "$ \\hat{\\rho}{_k} $ (rho hat) = $ c_k $ / $ c_0 $\n",
    "\n",
    "\n",
    "- [Correlation, AutoCor, and Correlogram](https://www.youtube.com/watch?v=Aft25mI1ffw)\n",
    "- **Correlation** is the measure of the relationship between two items or vars\n",
    "    - ie : \n",
    "        - (+) #gallons and $ amount spent\n",
    "        - (-) miles traveled and amount gas left in tank\n",
    "\n",
    "- **AutoCorrelation** is the measure of the relationship between the same var but at different times (t and t + k)\n",
    "    - Why : \n",
    "        - To determine if data is random. Where do t and t + k stop correlating? That's when $ \\exists $ no relationship/ no significance so can disregard\n",
    "        - To determine the trend. If $ \\exists $, then highly correlated. The autocov is significantly ! 0 but may decline towards 0. Series may said to be non-stationary\n",
    "\n",
    "- **Correlogram** is the plot of the autocorrelation vs time lag\n",
    "    - x-axis : lag\n",
    "    - y-axis : autocorrelation"
   ]
  },
  {
   "cell_type": "markdown",
   "id": "3fedba13-09d7-4753-8521-fb195806519c",
   "metadata": {},
   "source": [
    "# Graph AutoCor\n",
    "- also known as correlogram\n",
    "- xcorr : Plot the cross correlation between x and y; returns the lag vector\n",
    "    - A measure of not only the strength of a relation between to stochastic process but also its direction [Book : TSA by Henrik Madsen | P 107]\n",
    "        - How does this differ from a histogram?\n",
    "    - Not symmetric\n",
    "    - Also known as cross correlogram\n",
    "- acorr : Plot the autocorrelation of x; returns the lag vector\n",
    "    - Comparison of t = 0 and t + k so it follows as t = 0 and t + k = 0, t = 0 and t + k = 1, t = 0 and t + k = K, \n",
    "        - Why t = 0 every time? Bc $r{_k}$ = $\\hat{\\rho}{_k}$ = $c_k$ / $c{_0}$, where k in $c_k$ updates and k in $c{_k}{_=}{_0}$ which implies the first t\n",
    "- The autocorrelation function is characterized by correlations that alternate in sign and tend to damp out with increasing lag [P 31]\n",
    "- [ ] Draw line of significance"
   ]
  },
  {
   "cell_type": "code",
   "execution_count": null,
   "id": "82a14e6d-59e0-43d6-aca6-d177cf2f13c2",
   "metadata": {},
   "outputs": [],
   "source": []
  }
 ],
 "metadata": {
  "kernelspec": {
   "display_name": "Python 3 (ipykernel)",
   "language": "python",
   "name": "python3"
  },
  "language_info": {
   "codemirror_mode": {
    "name": "ipython",
    "version": 3
   },
   "file_extension": ".py",
   "mimetype": "text/x-python",
   "name": "python",
   "nbconvert_exporter": "python",
   "pygments_lexer": "ipython3",
   "version": "3.9.7"
  }
 },
 "nbformat": 4,
 "nbformat_minor": 5
}
