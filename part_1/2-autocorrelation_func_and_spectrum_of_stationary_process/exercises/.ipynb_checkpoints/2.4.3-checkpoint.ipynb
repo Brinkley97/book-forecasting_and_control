{
 "cells": [
  {
   "cell_type": "markdown",
   "id": "065f6a8a-a117-4573-8e95-c3543d72c650",
   "metadata": {},
   "source": [
    "# Problem Statement\n",
    "\n",
    "1. Calculate $ c_{0}, c_{1}, c_{2}, c_{3}, r_{1}, r_{2}, r_{3} $ for the series given in Exercise 2.1.\n",
    "2. Make a graph of $ r_{k} $, k = 0, 1, 2, 3\n",
    "\n",
    "3. My interpretation : \n",
    "    - Of the TS in 2.1, find the estimates of both \n",
    "        1. c_k - autocovariance (ACov) $(\\hat{\\gamma}_{k})$ \n",
    "        2. r_k - autocorrelation (ACor) $(\\hat{\\rho}_{k})$\n",
    "        3. where k = 0, 1, 2, 3\n",
    "    - Graph the autocorrelations at k\n",
    "        - x-axis : k\n",
    "        - y-axis : value"
   ]
  },
  {
   "cell_type": "markdown",
   "id": "49b66f5d-311c-492a-a27a-04212abc26d4",
   "metadata": {},
   "source": [
    "# Questions + Futher Explore"
   ]
  },
  {
   "cell_type": "markdown",
   "id": "925d1d6a-b237-444d-8238-d993407d8f42",
   "metadata": {},
   "source": [
    "# TODO\n",
    "\n",
    "- [ ] Import Packages/Libraries + Load Data\n",
    "\n",
    "- [ ] (2.1.12) **Estimate the ACov @ lag k :** $ \\hat{\\gamma}_{k} $ (gamma hat) = 1/N * $ \\sum_{t=1}^{N - k} (z_{t} - \\bar{z})(z_{t+k} - \\bar{z}) $ k = 0, 1, 2,..., K\n",
    "\n",
    "- [ ] (2.1.12) Set : $ c_k $ = $ \\hat{\\gamma}_{k} $\n",
    "\n",
    "- [ ] (2.1.11) **Estimate the ACor @ lag k :** $ \\hat{\\rho}{_k} $ (rho hat) = $ c_k $ / $ c_0 $\n",
    "\n",
    "- [ ] (2.1.11) Set : $ r_k $ to  $ \\hat{\\rho}{_k} $\n",
    "\n",
    "- [ ] Graph $ r_k $"
   ]
  },
  {
   "cell_type": "markdown",
   "id": "b4d29512-8e7e-4452-a099-a5ab25bc537b",
   "metadata": {},
   "source": [
    "## Import + Load Data"
   ]
  },
  {
   "cell_type": "code",
   "execution_count": 1,
   "id": "e694b353-a4b1-4f09-a114-a063e22c9c7e",
   "metadata": {},
   "outputs": [],
   "source": [
    "import pandas as pd"
   ]
  },
  {
   "cell_type": "code",
   "execution_count": 11,
   "id": "5b232961-ea80-4863-a2de-1e51f0a4d8cc",
   "metadata": {},
   "outputs": [
    {
     "data": {
      "text/html": [
       "<div>\n",
       "<style scoped>\n",
       "    .dataframe tbody tr th:only-of-type {\n",
       "        vertical-align: middle;\n",
       "    }\n",
       "\n",
       "    .dataframe tbody tr th {\n",
       "        vertical-align: top;\n",
       "    }\n",
       "\n",
       "    .dataframe thead th {\n",
       "        text-align: right;\n",
       "    }\n",
       "</style>\n",
       "<table border=\"1\" class=\"dataframe\">\n",
       "  <thead>\n",
       "    <tr style=\"text-align: right;\">\n",
       "      <th></th>\n",
       "      <th>measurements</th>\n",
       "    </tr>\n",
       "  </thead>\n",
       "  <tbody>\n",
       "    <tr>\n",
       "      <th>0</th>\n",
       "      <td>-213</td>\n",
       "    </tr>\n",
       "    <tr>\n",
       "      <th>1</th>\n",
       "      <td>-564</td>\n",
       "    </tr>\n",
       "    <tr>\n",
       "      <th>2</th>\n",
       "      <td>-35</td>\n",
       "    </tr>\n",
       "    <tr>\n",
       "      <th>3</th>\n",
       "      <td>-15</td>\n",
       "    </tr>\n",
       "    <tr>\n",
       "      <th>4</th>\n",
       "      <td>141</td>\n",
       "    </tr>\n",
       "    <tr>\n",
       "      <th>...</th>\n",
       "      <td>...</td>\n",
       "    </tr>\n",
       "    <tr>\n",
       "      <th>195</th>\n",
       "      <td>-385</td>\n",
       "    </tr>\n",
       "    <tr>\n",
       "      <th>196</th>\n",
       "      <td>198</td>\n",
       "    </tr>\n",
       "    <tr>\n",
       "      <th>197</th>\n",
       "      <td>-218</td>\n",
       "    </tr>\n",
       "    <tr>\n",
       "      <th>198</th>\n",
       "      <td>-536</td>\n",
       "    </tr>\n",
       "    <tr>\n",
       "      <th>199</th>\n",
       "      <td>96</td>\n",
       "    </tr>\n",
       "  </tbody>\n",
       "</table>\n",
       "<p>200 rows × 1 columns</p>\n",
       "</div>"
      ],
      "text/plain": [
       "     measurements\n",
       "0            -213\n",
       "1            -564\n",
       "2             -35\n",
       "3             -15\n",
       "4             141\n",
       "..            ...\n",
       "195          -385\n",
       "196           198\n",
       "197          -218\n",
       "198          -536\n",
       "199            96\n",
       "\n",
       "[200 rows x 1 columns]"
      ]
     },
     "execution_count": 11,
     "metadata": {},
     "output_type": "execute_result"
    }
   ],
   "source": [
    "data = pd.read_csv(\"lewDataset.csv\")\n",
    "data"
   ]
  },
  {
   "cell_type": "markdown",
   "id": "621db00c-53d1-4f1c-aed2-953c5e60c3e8",
   "metadata": {},
   "source": [
    "## Estimate the ACov @ lag k\n",
    "\n",
    "\n",
    "\\begin{align}\n",
    "\\hat{\\gamma}_{k} = \\frac{1}{N} \\times \\sum_{t=1}^{N - k} (z_{t} - \\bar{z})(z_{t+k} - \\bar{z}),\n",
    "\\space where \n",
    "\\end{align}\n",
    "\n",
    "\\begin{align}\n",
    "k = 0, 1, 2,..., K\n",
    "\\end{align}\n",
    "\n",
    "\\begin{align}\n",
    "\\bar{z} = \\sum_{t=1}^{N} \\frac{z_t}{N}\n",
    "\\end{align}\n",
    "\n"
   ]
  },
  {
   "cell_type": "code",
   "execution_count": 12,
   "id": "cdfffad7-349f-4abc-bd09-ca302fa7c6fb",
   "metadata": {},
   "outputs": [],
   "source": [
    "def sample_mean(z):\n",
    "    \"\"\"Given the data, calculate the sample mean\n",
    "    \"\"\"\n",
    "    \n",
    "    sample_z = (z / len(z)).sum()\n",
    "    \n",
    "    return sample_z"
   ]
  },
  {
   "cell_type": "code",
   "execution_count": 19,
   "id": "f2e8ed5c-a29e-405c-b452-749bf73f9774",
   "metadata": {},
   "outputs": [],
   "source": [
    "def acov(df):\n",
    "    \"\"\"Given the data, calculate the autocovariance\n",
    "    \n",
    "    Parameters:\n",
    "    df -- pd DataFrame\n",
    "    \n",
    "    Return:\n",
    "    autocovariance -- int\n",
    "    \"\"\"\n",
    "    z_t = df\n",
    "    z_t_k = df.shift(-1)\n",
    "    z_t_vs_z_t_k_df = pd.concat([z_t, z_t_k], axis = 1)\n",
    "    print(z_t_vs_z_t_k_df)\n",
    "    \n",
    "    z_bar = sample_mean(df)\n",
    "    print(z_bar)\n",
    "    \n",
    "    gamma_hat_k = 1 / len(df) * ((z_t - z_bar)*(z_t_k - z_bar)).sum()\n",
    "    c_not = 1 / len(df) * ((z_t - z_bar)*(z_t_k - z_bar))\n",
    "    c_0 = c_not.loc[0]\n",
    "    print(c_0)\n",
    "    \n",
    "    return gamma_hat_k, c_0 "
   ]
  },
  {
   "cell_type": "code",
   "execution_count": 20,
   "id": "295584c4-8d29-45a7-b0f0-bac151c5a5f1",
   "metadata": {},
   "outputs": [
    {
     "name": "stdout",
     "output_type": "stream",
     "text": [
      "     measurements  measurements\n",
      "0            -213        -564.0\n",
      "1            -564         -35.0\n",
      "2             -35         -15.0\n",
      "3             -15         141.0\n",
      "4             141         115.0\n",
      "..            ...           ...\n",
      "195          -385         198.0\n",
      "196           198        -218.0\n",
      "197          -218        -536.0\n",
      "198          -536          96.0\n",
      "199            96           NaN\n",
      "\n",
      "[200 rows x 2 columns]\n",
      "measurements   -177.435\n",
      "measurements   -176.370\n",
      "dtype: float64\n",
      "measurements    68.740921\n",
      "measurements    70.994434\n",
      "Name: 0, dtype: float64\n"
     ]
    },
    {
     "data": {
      "text/plain": [
       "(measurements   -23517.595646\n",
       " measurements   -23515.200435\n",
       " dtype: float64,\n",
       " measurements    68.740921\n",
       " measurements    70.994434\n",
       " Name: 0, dtype: float64)"
      ]
     },
     "execution_count": 20,
     "metadata": {},
     "output_type": "execute_result"
    }
   ],
   "source": [
    "# data = pd.DataFrame([1, 2, 3])\n",
    "gamma_hat_k, c_0 = acov(data)\n",
    "gamma_hat_k, c_0"
   ]
  },
  {
   "cell_type": "markdown",
   "id": "71549a79-2caf-4ede-aa5d-80114eaa5431",
   "metadata": {},
   "source": [
    "## TODO 2"
   ]
  },
  {
   "cell_type": "code",
   "execution_count": 21,
   "id": "c9ce1c4f-547e-482f-bf8d-d11b92f8c025",
   "metadata": {},
   "outputs": [],
   "source": [
    "def acor(c_k, c_0):\n",
    "    \"\"\"Given the data, calculate the autocorrelation\n",
    "    \n",
    "    Parameters:\n",
    "    df -- pd DataFrame\n",
    "    \n",
    "    Return:\n",
    "    autocorrelation -- int\n",
    "    \"\"\"\n",
    "    \n",
    "    rho_hat_k = c_k / c_0\n",
    "    \n",
    "    return rho_hat_k"
   ]
  },
  {
   "cell_type": "code",
   "execution_count": 22,
   "id": "4286c205-5e50-461f-9def-4d9dd32f62ed",
   "metadata": {},
   "outputs": [
    {
     "data": {
      "text/plain": [
       "measurements   -342.119298\n",
       "measurements   -331.225970\n",
       "dtype: float64"
      ]
     },
     "execution_count": 22,
     "metadata": {},
     "output_type": "execute_result"
    }
   ],
   "source": [
    "acor(gamma_hat_k, c_0)"
   ]
  },
  {
   "cell_type": "code",
   "execution_count": null,
   "id": "dff920f1-b4c3-44a4-9ad4-47afb2c664af",
   "metadata": {},
   "outputs": [],
   "source": []
  }
 ],
 "metadata": {
  "kernelspec": {
   "display_name": "Python 3",
   "language": "python",
   "name": "python3"
  },
  "language_info": {
   "codemirror_mode": {
    "name": "ipython",
    "version": 3
   },
   "file_extension": ".py",
   "mimetype": "text/x-python",
   "name": "python",
   "nbconvert_exporter": "python",
   "pygments_lexer": "ipython3",
   "version": "3.7.5"
  }
 },
 "nbformat": 4,
 "nbformat_minor": 5
}
