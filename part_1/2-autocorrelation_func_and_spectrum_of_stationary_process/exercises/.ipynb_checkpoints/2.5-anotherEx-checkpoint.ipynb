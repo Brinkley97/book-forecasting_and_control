{
 "cells": [
  {
   "cell_type": "markdown",
   "id": "a16af8c3-f90c-4784-8bbf-27328d5edfe4",
   "metadata": {},
   "source": [
    "# Testing Code w/ another dataset\n",
    "[Link](https://www.itl.nist.gov/div898/handbook/eda/section3/eda35c.htm)\n",
    "\n",
    "---"
   ]
  },
  {
   "cell_type": "code",
   "execution_count": 2,
   "id": "e2c28eb6-9c90-41ce-9181-b29c8b0ba801",
   "metadata": {},
   "outputs": [],
   "source": [
    "import numpy as np\n",
    "import pandas as pd"
   ]
  },
  {
   "cell_type": "markdown",
   "id": "6d2cda3d-0a9a-474d-bbe1-a7e55e053854",
   "metadata": {},
   "source": [
    "## Load Data"
   ]
  },
  {
   "cell_type": "code",
   "execution_count": 3,
   "id": "cf0880d9-c583-41c5-a224-691a98d6565b",
   "metadata": {},
   "outputs": [
    {
     "data": {
      "text/html": [
       "<div>\n",
       "<style scoped>\n",
       "    .dataframe tbody tr th:only-of-type {\n",
       "        vertical-align: middle;\n",
       "    }\n",
       "\n",
       "    .dataframe tbody tr th {\n",
       "        vertical-align: top;\n",
       "    }\n",
       "\n",
       "    .dataframe thead th {\n",
       "        text-align: right;\n",
       "    }\n",
       "</style>\n",
       "<table border=\"1\" class=\"dataframe\">\n",
       "  <thead>\n",
       "    <tr style=\"text-align: right;\">\n",
       "      <th></th>\n",
       "      <th>measurements</th>\n",
       "    </tr>\n",
       "  </thead>\n",
       "  <tbody>\n",
       "    <tr>\n",
       "      <th>0</th>\n",
       "      <td>-213</td>\n",
       "    </tr>\n",
       "    <tr>\n",
       "      <th>1</th>\n",
       "      <td>-564</td>\n",
       "    </tr>\n",
       "    <tr>\n",
       "      <th>2</th>\n",
       "      <td>-35</td>\n",
       "    </tr>\n",
       "    <tr>\n",
       "      <th>3</th>\n",
       "      <td>-15</td>\n",
       "    </tr>\n",
       "    <tr>\n",
       "      <th>4</th>\n",
       "      <td>141</td>\n",
       "    </tr>\n",
       "    <tr>\n",
       "      <th>...</th>\n",
       "      <td>...</td>\n",
       "    </tr>\n",
       "    <tr>\n",
       "      <th>195</th>\n",
       "      <td>-385</td>\n",
       "    </tr>\n",
       "    <tr>\n",
       "      <th>196</th>\n",
       "      <td>198</td>\n",
       "    </tr>\n",
       "    <tr>\n",
       "      <th>197</th>\n",
       "      <td>-218</td>\n",
       "    </tr>\n",
       "    <tr>\n",
       "      <th>198</th>\n",
       "      <td>-536</td>\n",
       "    </tr>\n",
       "    <tr>\n",
       "      <th>199</th>\n",
       "      <td>96</td>\n",
       "    </tr>\n",
       "  </tbody>\n",
       "</table>\n",
       "<p>200 rows × 1 columns</p>\n",
       "</div>"
      ],
      "text/plain": [
       "     measurements\n",
       "0            -213\n",
       "1            -564\n",
       "2             -35\n",
       "3             -15\n",
       "4             141\n",
       "..            ...\n",
       "195          -385\n",
       "196           198\n",
       "197          -218\n",
       "198          -536\n",
       "199            96\n",
       "\n",
       "[200 rows x 1 columns]"
      ]
     },
     "execution_count": 3,
     "metadata": {},
     "output_type": "execute_result"
    }
   ],
   "source": [
    "data = pd.read_csv(\"lewDataset.csv\")\n",
    "data"
   ]
  },
  {
   "cell_type": "code",
   "execution_count": 4,
   "id": "9a1edfa7-7201-478a-8a08-2dfe28eae891",
   "metadata": {},
   "outputs": [
    {
     "data": {
      "text/plain": [
       "(0     -213\n",
       " 1     -564\n",
       " 2      -35\n",
       " 3      -15\n",
       " 4      141\n",
       "       ... \n",
       " 195   -385\n",
       " 196    198\n",
       " 197   -218\n",
       " 198   -536\n",
       " 199     96\n",
       " Name: measurements, Length: 200, dtype: int64,\n",
       " 200,\n",
       " 0,\n",
       " -177.435)"
      ]
     },
     "execution_count": 4,
     "metadata": {},
     "output_type": "execute_result"
    }
   ],
   "source": [
    "z = data['measurements']\n",
    "N = len(z)\n",
    "k = 0\n",
    "zbar = np.mean(z)\n",
    "z, N, k, zbar"
   ]
  },
  {
   "cell_type": "markdown",
   "id": "76db6947-be94-4d9d-ac93-dcc8fc720858",
   "metadata": {},
   "source": [
    "## Estimate AutoCov @ lag k\n",
    "\n",
    "- The average (so a scalar) spread between any two given vars\n",
    "- I have var @ t and var @ t + k, the estimated AutoCov between two vars\n",
    "- If wide, then less confident but if narrow, more confident\n",
    "- **Motivation :** if we want to draw from this distribution, we'll know our confidence level\n",
    "- Estimated bc data can be too computationally expensive (take much space & time)\n",
    "- **Estimate the ACov @ lag k :** $ \\hat{\\gamma}_{k} $ (gamma hat) = 1/N * $ \\sum_{t=1}^{N - k} (z_{t} - \\bar{z})(z_{t+k} - \\bar{z}) $ k = 0, 1, 2,..., K\n",
    "\n",
    "- Set : $ c_k $ = $ \\hat{\\gamma}_{k} $"
   ]
  },
  {
   "cell_type": "code",
   "execution_count": 5,
   "id": "4d2b13c6-ddc7-47d9-b4ce-3e0b1406f14f",
   "metadata": {},
   "outputs": [],
   "source": [
    "def est_autocov(data, lag_k, sample_mean): \n",
    "    ck = 0\n",
    "    N = len(data)\n",
    "    \n",
    "    for t in range(N - lag_k):\n",
    "        ck += (data[t] - sample_mean) * (data[t + lag_k] - sample_mean)\n",
    "        \n",
    "    return ck/N"
   ]
  },
  {
   "cell_type": "code",
   "execution_count": 6,
   "id": "5939c631-099d-4241-a3f0-228d0466c5ad",
   "metadata": {},
   "outputs": [
    {
     "data": {
      "text/plain": [
       "76528.56577500004"
      ]
     },
     "execution_count": 6,
     "metadata": {},
     "output_type": "execute_result"
    }
   ],
   "source": [
    "est_autocov(z, k, zbar)"
   ]
  },
  {
   "cell_type": "markdown",
   "id": "7b76e398-99a2-4560-8ba5-adce904daa20",
   "metadata": {},
   "source": [
    "## Estimate AutoCor @ lag k\n",
    "\n",
    "- The relationship between two values at the same var when they are t (value 1) and t + k (value 2) distance apart\n",
    "- **Motivations :** I can determine at some point in which $ \\nexists $ a relationship between some entities :\n",
    "t and t + k\n",
    "- Estimated bc data can be too computationally expensive (take much space & time)\n",
    "- **Estimate the AutoCor @ lag k :** $ \\hat{\\rho}{_k} $ (rho hat) = $ c_k $ / $ c_0 $\n",
    "    - AutoCov at k / AutoCov at k = 0\n",
    "\n",
    "- Set : $ r_k $ to  $ \\hat{\\rho}{_k} $"
   ]
  },
  {
   "cell_type": "code",
   "execution_count": 7,
   "id": "957d315a-e751-4f9b-8238-3487c5c97511",
   "metadata": {},
   "outputs": [],
   "source": [
    "def est_autocor(data, lag_k, sample_mean):\n",
    "    ck = est_autocov(data, lag_k, sample_mean)\n",
    "    print(\"ck : \", ck)\n",
    "    cnot = est_autocov(data, 0, sample_mean)\n",
    "    print(\"cnot : \", cnot)\n",
    "    rho_hat_k = ck/cnot \n",
    "    return rho_hat_k"
   ]
  },
  {
   "cell_type": "code",
   "execution_count": 8,
   "id": "eb367083-effd-43f7-af5c-223f7bf0d633",
   "metadata": {},
   "outputs": [
    {
     "name": "stdout",
     "output_type": "stream",
     "text": [
      "ck :  76528.56577500004\n",
      "cnot :  76528.56577500004\n",
      "1.0\n"
     ]
    }
   ],
   "source": [
    "rk = est_autocor(z, k, zbar)\n",
    "print(rk)"
   ]
  },
  {
   "cell_type": "code",
   "execution_count": null,
   "id": "e3acff85-97ef-452a-afbf-86933b471f4a",
   "metadata": {},
   "outputs": [],
   "source": []
  }
 ],
 "metadata": {
  "kernelspec": {
   "display_name": "Python 3 (ipykernel)",
   "language": "python",
   "name": "python3"
  },
  "language_info": {
   "codemirror_mode": {
    "name": "ipython",
    "version": 3
   },
   "file_extension": ".py",
   "mimetype": "text/x-python",
   "name": "python",
   "nbconvert_exporter": "python",
   "pygments_lexer": "ipython3",
   "version": "3.9.7"
  }
 },
 "nbformat": 4,
 "nbformat_minor": 5
}
