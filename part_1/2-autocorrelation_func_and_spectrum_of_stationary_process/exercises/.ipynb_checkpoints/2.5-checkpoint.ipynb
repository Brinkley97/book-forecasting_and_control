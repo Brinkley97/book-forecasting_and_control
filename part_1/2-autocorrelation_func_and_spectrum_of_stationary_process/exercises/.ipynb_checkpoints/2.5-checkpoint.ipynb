{
 "cells": [
  {
   "cell_type": "markdown",
   "id": "17e012e7-24bd-4e00-8c0f-3683df76a054",
   "metadata": {
    "tags": []
   },
   "source": [
    "# Problem Statement\n",
    "\n",
    "1. On the assumption that $\\rho{_j}$ = 0 for *j* > 2, obtain the following :\n",
    "    - Approximate standard errors for *r${_1}$*, *r${_2}$*, and *r${_j}$*, *j* > 2.\n",
    "    - The approximate correlation between *r${_3}$* and *r${_5}$*.\n",
    "\n",
    "2. My interpretation : \n",
    "    - Problem is primarily dealing w/ section 2.1.6. When given a TS, we want to check if $\\rho{_k}$ = 0 beyond a certain lag (distance apart). *q* is the point at which k is 0/tend to 0.\n",
    "---\n",
    "# Questions/Futher Explore\n",
    "\n",
    "1. Differences between [here](https://github.com/Brinkley97/random_code/blob/main/foilVsNpSum.ipynb) : \n",
    "    - gamma_k = np.sum(z[t] - z_bar * z[t + k] - z_bar)\n",
    "    - gamma_k = z[t] - z_bar * z[t + k] - z_bar\n",
    "    - gamma_k = (z[t] - z_bar) * (z[t + k] - z_bar) \n",
    "    - gamma_k = np.sum(z[t] - z_bar) * (z[t + k] - z_bar) \n",
    "\n",
    "2. How can I intuitively understand that all the ACovs are (-)?\n",
    "---"
   ]
  },
  {
   "cell_type": "markdown",
   "id": "7dbdf242-1622-4a96-b126-f15559311dc8",
   "metadata": {},
   "source": [
    "# TODO\n",
    "\n",
    "- Load Data\n",
    "\n",
    "- (2.1.15) **Estimate the ACov @ lag k :** $ \\hat{\\gamma}_{k} $ (gamma hat) = 1/N * $ \\sum_{t=1}^{N - k} (z_{t} - \\bar{z})(z_{t+k} - \\bar{z}) $ k = 0, 1, 2,..., K\n",
    "\n",
    "- (2.1.12) Set : $ c_k $ = $ \\hat{\\gamma}_{k} $\n",
    "\n",
    "- (2.1.11) **Estimate the ACor @ lag k :** $ \\hat{\\rho}{_k} $ (rho hat) = $ c_k $ / $ c_0 $\n",
    "\n",
    "- (2.1.11) Set : $ r_k $ to  $ \\hat{\\rho}{_k} $\n",
    "\n",
    "- (Prob Statement) $\\rho{_j}$ = 0 for *j* > 2\n",
    "\n",
    "- (2.1.15) **Approximate the Variance of the Estimated ACor Coefficient @ lag k :** var[$ r_{k} $] $ \\simeq $ 1/N (1 + 2 * $ \\sum_{v=1}^{q} \\rho^{q}_{v}$) k > q"
   ]
  },
  {
   "cell_type": "markdown",
   "id": "ea6fdb11-3dc2-4025-9541-ba296a964c1b",
   "metadata": {},
   "source": [
    "---"
   ]
  },
  {
   "cell_type": "markdown",
   "id": "a16af8c3-f90c-4784-8bbf-27328d5edfe4",
   "metadata": {},
   "source": [
    "---"
   ]
  },
  {
   "cell_type": "code",
   "execution_count": 1,
   "id": "e2c28eb6-9c90-41ce-9181-b29c8b0ba801",
   "metadata": {},
   "outputs": [],
   "source": [
    "import numpy as np"
   ]
  },
  {
   "cell_type": "markdown",
   "id": "6d2cda3d-0a9a-474d-bbe1-a7e55e053854",
   "metadata": {},
   "source": [
    "## Load Data"
   ]
  },
  {
   "cell_type": "code",
   "execution_count": 2,
   "id": "cf0880d9-c583-41c5-a224-691a98d6565b",
   "metadata": {},
   "outputs": [],
   "source": [
    "z = [200, 202, 208, 204, 204, 207, 207, 204, 202, 199, 201, 198, 200, \n",
    "        202, 203, 205, 207, 211, 204, 206, 203, 203, 201, 198, 200, 206, \n",
    "        207, 206, 200, 203, 203, 200, 200, 195, 202, 204, 207, 206, 200]"
   ]
  },
  {
   "cell_type": "code",
   "execution_count": 3,
   "id": "9a1edfa7-7201-478a-8a08-2dfe28eae891",
   "metadata": {},
   "outputs": [
    {
     "data": {
      "text/plain": [
       "(39, 7, 203.02564102564102)"
      ]
     },
     "execution_count": 3,
     "metadata": {},
     "output_type": "execute_result"
    }
   ],
   "source": [
    "N = len(z)\n",
    "k = 7\n",
    "zbar = np.mean(z)\n",
    "N, k, zbar"
   ]
  },
  {
   "cell_type": "markdown",
   "id": "76db6947-be94-4d9d-ac93-dcc8fc720858",
   "metadata": {},
   "source": [
    "## Estimate ACov @ lag k\n",
    "\n",
    "- **Estimate the ACov @ lag k :** $ \\hat{\\gamma}_{k} $ (gamma hat) = 1/N * $ \\sum_{t=1}^{N - k} (z_{t} - \\bar{z})(z_{t+k} - \\bar{z}) $ k = 0, 1, 2,..., K\n",
    "\n",
    "- Set : $ c_k $ = $ \\hat{\\gamma}_{k} $"
   ]
  },
  {
   "cell_type": "code",
   "execution_count": 87,
   "id": "1cd807d3-7bda-49ea-b2d6-86e41a8d71d8",
   "metadata": {},
   "outputs": [
    {
     "data": {
      "text/plain": [
       "(32,\n",
       " [-0.07559129452620596,\n",
       "  0.0269728080378966,\n",
       "  -0.5134611170114127,\n",
       "  -0.05060773108110396,\n",
       "  -0.12555842141640997,\n",
       "  -0.30833291188320766,\n",
       "  -0.1045196311468498,\n",
       "  -0.0006406041908999601,\n",
       "  -0.05192265547295124,\n",
       "  -0.4102395522513866,\n",
       "  -0.4141843254269284,\n",
       "  -0.12555842141640997,\n",
       "  -0.2307523727642071,\n",
       "  0.0006743202009473217,\n",
       "  1.6858005023680704e-05,\n",
       "  -0.10254724455907888,\n",
       "  -0.5121461926195655,\n",
       "  -0.6186550683592099,\n",
       "  0.07431008614440604,\n",
       "  0.30310693032586583,\n",
       "  -0.001955528582747242,\n",
       "  0.0019892445927946036,\n",
       "  0.0013317823968709626,\n",
       "  0.0033041689846418855,\n",
       "  0.23473086194979625,\n",
       "  -0.2307523727642071,\n",
       "  -0.8178661137241022,\n",
       "  -0.07822114330990051,\n",
       "  -0.07559129452620596,\n",
       "  -0.002612990778670883,\n",
       "  -0.001955528582747242,\n",
       "  0.23473086194979625])"
      ]
     },
     "execution_count": 87,
     "metadata": {},
     "output_type": "execute_result"
    }
   ],
   "source": [
    "# Obtain list of ACovs @ lag k and set to ck\n",
    "\n",
    "# list of ACovs values\n",
    "est_acovs_list = []\n",
    "\n",
    "for t in range(N - k) :\n",
    "    \"\"\"\n",
    "    Check comparisons w/ print statements\n",
    "    \"\"\"\n",
    "    # print(\"\\nt : \", t, \"\\nt + k : \", t + k)\n",
    "    # print(\"(z[t] - zbar)(z[t + k] - zbar) : \", \"(\", z[t], \" - \", zbar, \") * (\", z[t + k], \" - \", zbar, \")\" )\n",
    "    \n",
    "    \"\"\"\n",
    "    Find gamma_hat_k\n",
    "    \"\"\"\n",
    "    # gamma_hat_k = np.multiply(np.divide(1, N), np.sum((z[t] - zbar) * (z[t + k] - zbar)))\n",
    "    \n",
    "    summation = np.sum((z[t] - zbar) * (z[t + k] - zbar))\n",
    "    avg = np.divide(1, N)\n",
    "    gamma_hat_k = np.multiply(avg, summation)\n",
    "    \n",
    "    # print(\"gamma_hat_k when t = \", t, \" : \", gamma_hat_k)\n",
    "\n",
    "    est_acovs_list.append(gamma_hat_k)\n",
    "    \n",
    "c_k = est_acovs_list\n",
    "len(c_k), c_k"
   ]
  },
  {
   "cell_type": "markdown",
   "id": "7b76e398-99a2-4560-8ba5-adce904daa20",
   "metadata": {},
   "source": [
    "## Estimate ACor @ lag k\n",
    "\n",
    "- **Estimate the ACor @ lag k :** $ \\hat{\\rho}{_k} $ (rho hat) = $ c_k $ / $ c_0 $\n",
    "\n",
    "- Set : $ r_k $ to  $ \\hat{\\rho}{_k} $"
   ]
  },
  {
   "cell_type": "code",
   "execution_count": 113,
   "id": "6481e355-d37e-44ef-a687-7f03f7038a72",
   "metadata": {},
   "outputs": [
    {
     "data": {
      "text/plain": [
       "(32,\n",
       " [1.0,\n",
       "  -0.35682426404995193,\n",
       "  6.792595896520945,\n",
       "  0.6694915254237285,\n",
       "  1.6610169491525433,\n",
       "  4.0789473684210416,\n",
       "  1.38269402319357,\n",
       "  0.008474576271185245,\n",
       "  0.6868867082961612,\n",
       "  5.427074041034777,\n",
       "  5.4792595896520755,\n",
       "  1.6610169491525433,\n",
       "  3.052631578947361,\n",
       "  -0.008920606601247563,\n",
       "  -0.00022301516503115816,\n",
       "  1.3566012488849208,\n",
       "  6.775200713648513,\n",
       "  8.184210526315763,\n",
       "  -0.9830508474576296,\n",
       "  -4.009812667261372,\n",
       "  0.025869759143618058,\n",
       "  -0.026315789473680375,\n",
       "  -0.017618198037463968,\n",
       "  -0.04371097234611319,\n",
       "  -3.105263157894721,\n",
       "  3.052631578947361,\n",
       "  10.819580731489719,\n",
       "  1.0347903657448656,\n",
       "  1.0,\n",
       "  0.03456735057983446,\n",
       "  0.025869759143618058,\n",
       "  -3.105263157894721])"
      ]
     },
     "execution_count": 113,
     "metadata": {},
     "output_type": "execute_result"
    }
   ],
   "source": [
    "# Obtain list of ACor @ lag k and set to rk\n",
    "\n",
    "# list of ACors values\n",
    "est_acors_list = []\n",
    "\n",
    "row_hat_k = np.divide(c_k, c_k[0])\n",
    "# row_hat_k = c_k / c_k[0]\n",
    "\n",
    "# correct output bc a # divided by itself is 1 by why dtype is numpy arr instead of py list?\n",
    "# print(\"row_hat_k : \", row_hat_k)\n",
    "\n",
    "# acor.append(row_k)\n",
    "# acor\n",
    "\n",
    "# acor.append(row_k) gives an arr w/ a list so instead type cast to list\n",
    "est_acors_list = list(row_hat_k)\n",
    "# print(\"est_acors_list : \", est_acors_list)\n",
    "\n",
    "r_k = est_acors_list\n",
    "len(r_k), r_k"
   ]
  },
  {
   "cell_type": "markdown",
   "id": "ebc268df-ef25-48bb-bf9a-b0ee9bba467e",
   "metadata": {},
   "source": [
    "## (Prob Statement) $\\rho{_j}$ = 0 for *j* > 2\n"
   ]
  },
  {
   "cell_type": "code",
   "execution_count": 120,
   "id": "2afbe771-2be0-4900-814c-152d69a51c1f",
   "metadata": {},
   "outputs": [
    {
     "data": {
      "text/plain": [
       "[1.0,\n",
       " -0.35682426404995193,\n",
       " 6.792595896520945,\n",
       " 0,\n",
       " 0,\n",
       " 0,\n",
       " 0,\n",
       " 0,\n",
       " 0,\n",
       " 0,\n",
       " 0,\n",
       " 0,\n",
       " 0,\n",
       " 0,\n",
       " 0,\n",
       " 0,\n",
       " 0,\n",
       " 0,\n",
       " 0,\n",
       " 0,\n",
       " 0,\n",
       " 0,\n",
       " 0,\n",
       " 0,\n",
       " 0,\n",
       " 0,\n",
       " 0,\n",
       " 0,\n",
       " 0,\n",
       " 0,\n",
       " 0,\n",
       " 0,\n",
       " 0,\n",
       " 0,\n",
       " 0,\n",
       " 0,\n",
       " 0,\n",
       " 0,\n",
       " 0,\n",
       " 0,\n",
       " 0,\n",
       " 0,\n",
       " 0,\n",
       " 0,\n",
       " 0,\n",
       " 0,\n",
       " 0,\n",
       " 0,\n",
       " 0,\n",
       " 0,\n",
       " 0,\n",
       " 0,\n",
       " 0,\n",
       " 0,\n",
       " 0,\n",
       " 0,\n",
       " 0,\n",
       " 0,\n",
       " 0,\n",
       " 0,\n",
       " 0]"
      ]
     },
     "execution_count": 120,
     "metadata": {},
     "output_type": "execute_result"
    }
   ],
   "source": [
    "j = 2\n",
    "\n",
    "set_to_zero_start_idx = len(est_acors_list[j : ])\n",
    "# print(\"set_to_zero_start_idx :  \", set_to_zero_start_idx)\n",
    "\n",
    "set_to_zero_values = est_acors_list[j : ]\n",
    "# print(\"set_to_zero_values :  \", set_to_zero_values)\n",
    "\n",
    "# est_acors_list.append(0)\n",
    "# est_acors_list\n",
    "\n",
    "for idx in range(len(r_k)) :\n",
    "    if idx > j :\n",
    "        # print(True)\n",
    "        r_k[idx] = 0\n",
    "    else :\n",
    "        # print(False)\n",
    "        pass\n",
    "r_k"
   ]
  },
  {
   "cell_type": "markdown",
   "id": "537c3569-4941-4092-a2a2-79e06787e1fb",
   "metadata": {},
   "source": [
    "## Approximate the Variance of the Estimated ACor Coefficient @ lag k\n",
    "\n",
    "- **Approximate the Variance of the Estimated ACor Coefficient @ lag k :** var[$ r_{k} $] $ \\simeq $ 1/N (1 + 2 * $ \\sum_{v=1}^{q} \\rho^{q}_{v}$) k > q"
   ]
  },
  {
   "cell_type": "code",
   "execution_count": 60,
   "id": "3c21fc4c-38c3-4af1-b647-dc07a2b1a0ee",
   "metadata": {},
   "outputs": [
    {
     "name": "stdout",
     "output_type": "stream",
     "text": [
      "set_to_zero :  2\n",
      "r_k[q : ] :  [0.025869759143618058, -3.105263157894721]\n"
     ]
    },
    {
     "data": {
      "text/plain": [
       "[0.07692307692307693,\n",
       " 0.032170438739219986,\n",
       " 2.391762000688881,\n",
       " 0.04862661039047133,\n",
       " 0.16712704130112935,\n",
       " 0.8788621350948174,\n",
       " 0.12368424419360106,\n",
       " 0.025644708638101338,\n",
       " 0.04983658205302234,\n",
       " 1.5360580844550533,\n",
       " 1.5652454179894477,\n",
       " 0.16712704130112935,\n",
       " 0.5035158747070081,\n",
       " 0.02564510652421201,\n",
       " 0.025641028191577632,\n",
       " 0.1200188178705706,\n",
       " 2.379658703088375,\n",
       " 3.460579586618345,\n",
       " 0.07519943429164941,\n",
       " 0.8501844936681926,\n",
       " 0.02567534586862302,\n",
       " 0.02567653952695503,\n",
       " 0.025656943636004476,\n",
       " 0.02573900764633039,\n",
       " 0.5201363733219639,\n",
       " 0.5035158747070081,\n",
       " 6.028888574626851,\n",
       " 0.08055338979684065,\n",
       " 0.07692307692307693,\n",
       " 0.02570230265262098,\n",
       " 0,\n",
       " 0]"
      ]
     },
     "execution_count": 60,
     "metadata": {},
     "output_type": "execute_result"
    }
   ],
   "source": [
    "# some lag q which every index after, values of rk have died out so q can be stated as \"die out at\"\n",
    "q = 2\n",
    "\n",
    "set_to_zero = len(r_k[q + 1: ])\n",
    "print(\"set_to_zero : \", set_to_zero)\n",
    "\n",
    "print(\"r_k[q : ] : \", r_k[q + 1: ])\n",
    "\n",
    "var_r_k_list = []\n",
    "\n",
    "var_r_k_list_die_out = []\n",
    "\n",
    "for v in range(len(r_k)) :\n",
    "    # print(\"v : \", v)\n",
    "    if v > q :\n",
    "        var_r_k_list.append(0)\n",
    "    else :\n",
    "        var_r_k_list.append(1 / N * (1 + 2 * np.sum(np.square(r_k[v]))))\n",
    "\n",
    "var_r_k_list"
   ]
  },
  {
   "cell_type": "code",
   "execution_count": null,
   "id": "137abeee-9341-402d-93ba-55600502be51",
   "metadata": {},
   "outputs": [],
   "source": [
    "# var_r_k_list = []\n",
    "# print(\"idx : \", idx)\n",
    "\n",
    "# for v in range(1, q_num) :\n",
    "    # print(\"v : \", v, \"\\nq : \", q, \"\\nk : \", k)\n",
    "#     if k > q : \n",
    "#         var_r_k_list.append(1 / N * (1 + 2 * np.sum(np.square(r_k[v]))))\n",
    "#     else :\n",
    "#         var_r_k_list.append(0)\n",
    "\n",
    "# # test = (r_k, var_r_k_list)       \n",
    "\n",
    "# len(var_r_k_list), var_r_k_list"
   ]
  }
 ],
 "metadata": {
  "kernelspec": {
   "display_name": "Python 3",
   "language": "python",
   "name": "python3"
  },
  "language_info": {
   "codemirror_mode": {
    "name": "ipython",
    "version": 3
   },
   "file_extension": ".py",
   "mimetype": "text/x-python",
   "name": "python",
   "nbconvert_exporter": "python",
   "pygments_lexer": "ipython3",
   "version": "3.7.5"
  }
 },
 "nbformat": 4,
 "nbformat_minor": 5
}
