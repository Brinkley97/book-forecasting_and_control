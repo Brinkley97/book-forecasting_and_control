{
 "cells": [
  {
   "cell_type": "markdown",
   "id": "17e012e7-24bd-4e00-8c0f-3683df76a054",
   "metadata": {},
   "source": [
    "# Problem Statement\n",
    "\n",
    "1. On the assumption that $\\rho{_j}$ = 0 for *j* > 2, obtain the following :\n",
    "    - Approximate standard errors for *r${_1}$*, *r${_2}$*, and *r${_j}$*, *j* > 2.\n",
    "    - The approximate correlation between *r${_3}$* and *r${_5}$*.\n",
    "\n",
    "2. My interpretation : \n",
    "    - Problem is primarily dealing w/ section 2.1.6. When given a TS, we want to check if $\\rho{_k}$ = 0 beyond a certain lag (distance apart). *q* is the point at which k is 0/tend to 0.\n",
    "---\n",
    "# Questions/Futher Explore\n",
    "\n",
    "1. Why do both gamma_k = np.sum(z[t] - z_bar * z[t + k] - z_bar) & g = z[t] - z_bar * z[t + k] - z_bar return the same outcome?\n",
    "\n",
    "2. How can I intuitively understand that all the ACovs are (-)?\n",
    "---"
   ]
  },
  {
   "cell_type": "markdown",
   "id": "ea6fdb11-3dc2-4025-9541-ba296a964c1b",
   "metadata": {},
   "source": [
    "---"
   ]
  },
  {
   "cell_type": "markdown",
   "id": "a16af8c3-f90c-4784-8bbf-27328d5edfe4",
   "metadata": {},
   "source": [
    "---"
   ]
  },
  {
   "cell_type": "code",
   "execution_count": 1,
   "id": "e2c28eb6-9c90-41ce-9181-b29c8b0ba801",
   "metadata": {},
   "outputs": [],
   "source": [
    "import numpy as np"
   ]
  },
  {
   "cell_type": "markdown",
   "id": "6d2cda3d-0a9a-474d-bbe1-a7e55e053854",
   "metadata": {},
   "source": [
    "# k is a single var\n",
    "\n",
    "# Process : Compute/Find\n",
    "\n",
    "1. Estimated ACov @ lag k : $ \\gamma_k $ (gamma hat) = $ 1/N \\sum (z_t - z\\bar)(z_t_k - z\\bar) $ \n",
    "2. Set $ \\gamma_k $ (gamma hat) to $ c_k $\n",
    "3. Estimated ACor @ lag k : $ \\rho_k $ (rho hat) = $ c_k $ / $ c_0 $\n",
    "4. Set $ r_k $ to $ \\rho_k $ (rho hat)\n",
    "5. Variance of $ r_k $ : approximately = 1/N * (1 + (2 * summation from v = 1 to q of $ \\rho^2_v $) $ \\forall $ k > q)) which q here is j"
   ]
  },
  {
   "cell_type": "code",
   "execution_count": 2,
   "id": "cf0880d9-c583-41c5-a224-691a98d6565b",
   "metadata": {},
   "outputs": [],
   "source": [
    "z = [200, 202, 208, 204, 204, 207, 207, 204, 202, 199, 201, 198, 200, \n",
    "        202, 203, 205, 207, 211, 204, 206, 203, 203, 201, 198, 200, 206, \n",
    "        207, 206, 200, 203, 203, 200, 200, 195, 202, 204, 207, 206, 200]"
   ]
  },
  {
   "cell_type": "code",
   "execution_count": 3,
   "id": "9a1edfa7-7201-478a-8a08-2dfe28eae891",
   "metadata": {},
   "outputs": [],
   "source": [
    "N = len(z)\n",
    "k = 2\n",
    "zbar = np.mean(z)"
   ]
  },
  {
   "cell_type": "code",
   "execution_count": 4,
   "id": "1cd807d3-7bda-49ea-b2d6-86e41a8d71d8",
   "metadata": {},
   "outputs": [
    {
     "data": {
      "text/plain": [
       "[-42232.35897435898,\n",
       " -41418.25641025641,\n",
       " -41412.25641025641,\n",
       " -42025.333333333336,\n",
       " -42025.333333333336,\n",
       " -41413.25641025641,\n",
       " -41007.205128205125,\n",
       " -40401.1282051282,\n",
       " -40809.179487179485,\n",
       " -40203.10256410256,\n",
       " -40607.153846153844,\n",
       " -41016.205128205125,\n",
       " -41217.230769230766,\n",
       " -41621.28205128205,\n",
       " -42026.333333333336,\n",
       " -42836.4358974359,\n",
       " -41413.25641025641,\n",
       " -41815.30769230769,\n",
       " -41213.230769230766,\n",
       " -41211.230769230766,\n",
       " -40808.179487179485,\n",
       " -40199.10256410256,\n",
       " -40607.153846153844,\n",
       " -41828.30769230769,\n",
       " -42029.333333333336,\n",
       " -41820.30769230769,\n",
       " -40601.153846153844,\n",
       " -41211.230769230766,\n",
       " -41217.230769230766,\n",
       " -40605.153846153844,\n",
       " -40605.153846153844,\n",
       " -39593.02564102564,\n",
       " -41014.205128205125,\n",
       " -41425.25641025641,\n",
       " -42027.333333333336,\n",
       " -41822.30769230769,\n",
       " -40601.153846153844]"
      ]
     },
     "execution_count": 4,
     "metadata": {},
     "output_type": "execute_result"
    }
   ],
   "source": [
    "# Obtain list of ACovs @ lag k and set to ck\n",
    "est_acov = []\n",
    "for t in range(N - k) :\n",
    "    # print(\"\\nt : \", t, \"\\nt + k : \", t + k)\n",
    "    # print(\"(z[t] - zbar)(z[t + k] - zbar) : \", \"(\", z[t], \" - \", zbar, \") * (\", z[t + k], \" - \", zbar, \")\" )\n",
    "    g = np.sum(z[t] - zbar * z[t + k] - zbar)\n",
    "    # gamma_hat_k = (z[t] - zbar) * (z[t + k] - zbar)\n",
    "    est_acov.append(g)\n",
    "    # print(\"ACov, gamma_hat_k : \", gamma_hat_k)\n",
    "# acov\n",
    "c_k = est_acov\n",
    "c_k"
   ]
  },
  {
   "cell_type": "code",
   "execution_count": 5,
   "id": "6481e355-d37e-44ef-a687-7f03f7038a72",
   "metadata": {},
   "outputs": [
    {
     "data": {
      "text/plain": [
       "37"
      ]
     },
     "execution_count": 5,
     "metadata": {},
     "output_type": "execute_result"
    }
   ],
   "source": [
    "# Obtain list of ACor @ lag k and set to rk\n",
    "est_acor = []\n",
    "\n",
    "# row_hat_k = np.divide(c_k, c_k[0])\n",
    "row_hat_k = c_k / c_k[0]\n",
    "# correct output bc a # divided by itself is 1 by why dtype is numpy arr instead of py list?\n",
    "# print(\"row_hat_k : \", row_hat_k)\n",
    "\n",
    "# acor.append(row_k)\n",
    "# acor\n",
    "\n",
    "# acor.append(row_k) gives an arr w/ a list so instead\n",
    "est_acor = list(row_hat_k)\n",
    "# print(\"est_acor : \", est_acor)\n",
    "\n",
    "r_k = est_acor\n",
    "len(r_k)"
   ]
  },
  {
   "cell_type": "code",
   "execution_count": 13,
   "id": "8bd437bc-bb94-4f51-b7e8-0ec314590e0a",
   "metadata": {},
   "outputs": [
    {
     "data": {
      "text/plain": [
       "[1.0,\n",
       " 0.9807232514623007,\n",
       " 0.9805811803077236,\n",
       " 0.9950979380254052,\n",
       " 0,\n",
       " 0,\n",
       " 0,\n",
       " 0,\n",
       " 0,\n",
       " 0,\n",
       " 0,\n",
       " 0,\n",
       " 0,\n",
       " 0,\n",
       " 0,\n",
       " 0,\n",
       " 0,\n",
       " 0,\n",
       " 0,\n",
       " 0,\n",
       " 0,\n",
       " 0,\n",
       " 0,\n",
       " 0,\n",
       " 0,\n",
       " 0,\n",
       " 0,\n",
       " 0,\n",
       " 0,\n",
       " 0,\n",
       " 0,\n",
       " 0,\n",
       " 0,\n",
       " 0,\n",
       " 0,\n",
       " 0,\n",
       " 0]"
      ]
     },
     "execution_count": 13,
     "metadata": {},
     "output_type": "execute_result"
    }
   ],
   "source": [
    "# come back to; \n",
    "# looping entire list of est ACor\n",
    "# when v is > q, assign the ACor at that v to 0\n",
    "q = 3\n",
    "q_list = []\n",
    "var_r_k_list = []\n",
    "est_acor_len = len(r_k)\n",
    "# print(\"est_acor_len : \", est_acor_len)\n",
    "v_more_than_q = 0\n",
    "\n",
    "for v in range(est_acor_len) :\n",
    "    # print(\"v : \", v, \"\\nq : \", q, \"\\nk : \", k, \"\\nest_acor[v] : \", est_acor[v], \"\\n\")\n",
    "    q_list.append(q)\n",
    "    if v > q : \n",
    "        r_k[v] = 0\n",
    "        v_more_than_q = v_more_than_q + 1\n",
    "        \n",
    "        \n",
    "    else : \n",
    "        pass\n",
    "# var_r_k_list\n",
    "r_k\n",
    "\n",
    "\n"
   ]
  },
  {
   "cell_type": "code",
   "execution_count": 22,
   "id": "8fcd94af-7636-47f2-938b-36fe958fea88",
   "metadata": {},
   "outputs": [
    {
     "data": {
      "text/plain": [
       "(33,\n",
       " [0.02564102564102564,\n",
       "  0.02564102564102564,\n",
       "  0,\n",
       "  0,\n",
       "  0,\n",
       "  0,\n",
       "  0,\n",
       "  0,\n",
       "  0,\n",
       "  0,\n",
       "  0,\n",
       "  0,\n",
       "  0,\n",
       "  0,\n",
       "  0,\n",
       "  0,\n",
       "  0,\n",
       "  0,\n",
       "  0,\n",
       "  0,\n",
       "  0,\n",
       "  0,\n",
       "  0,\n",
       "  0,\n",
       "  0,\n",
       "  0,\n",
       "  0,\n",
       "  0,\n",
       "  0,\n",
       "  0,\n",
       "  0,\n",
       "  0,\n",
       "  0])"
      ]
     },
     "execution_count": 22,
     "metadata": {},
     "output_type": "execute_result"
    }
   ],
   "source": [
    "v_more_than_q_len = v_more_than_q\n",
    "# print(\"v_more_than_q : \", v_more_than_q)\n",
    "\n",
    "var_r_k = []\n",
    "\n",
    "var_r_k_list = []\n",
    "\n",
    "\n",
    "for q in range(v_more_than_q_len) :\n",
    "    # print(\"\\nq : \", q, \"\\nk : \", k, \"\\nv : \", v)\n",
    "    if k > q : \n",
    "        var_r_k_list.append(1 / N * (1 + 2 * np.sum(np.square(r_k[v]))))\n",
    "    else :\n",
    "        var_r_k_list.append(0)\n",
    "\n",
    "len(var_r_k_list), var_r_k_list"
   ]
  },
  {
   "cell_type": "code",
   "execution_count": null,
   "id": "67791ba8-e1b6-4012-adbb-a2abb778bcba",
   "metadata": {},
   "outputs": [],
   "source": []
  }
 ],
 "metadata": {
  "kernelspec": {
   "display_name": "Python 3",
   "language": "python",
   "name": "python3"
  },
  "language_info": {
   "codemirror_mode": {
    "name": "ipython",
    "version": 3
   },
   "file_extension": ".py",
   "mimetype": "text/x-python",
   "name": "python",
   "nbconvert_exporter": "python",
   "pygments_lexer": "ipython3",
   "version": "3.7.5"
  }
 },
 "nbformat": 4,
 "nbformat_minor": 5
}
