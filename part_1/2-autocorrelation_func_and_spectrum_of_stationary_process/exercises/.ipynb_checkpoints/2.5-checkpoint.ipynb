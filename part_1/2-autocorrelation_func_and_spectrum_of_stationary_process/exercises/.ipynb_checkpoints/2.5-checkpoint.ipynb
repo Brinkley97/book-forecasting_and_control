{
 "cells": [
  {
   "cell_type": "markdown",
   "id": "17e012e7-24bd-4e00-8c0f-3683df76a054",
   "metadata": {
    "tags": []
   },
   "source": [
    "# Problem Statement\n",
    "\n",
    "1. On the assumption that $\\rho{_j}$ = 0 for *j* > 2, obtain the following :\n",
    "    - Approximate standard errors for *r${_1}$*, *r${_2}$*, and *r${_j}$*, *j* > 2.\n",
    "    - The approximate correlation between *r${_3}$* and *r${_5}$*.\n",
    "\n",
    "2. My interpretation : \n",
    "    - Problem is primarily dealing w/ section 2.1.6. When given a TS, we want to check if $\\rho{_k}$ = 0 beyond a certain lag (distance apart). *q* is the point at which k is 0/tend to 0.\n",
    "    - At what point (lag k) is there no relationship between our AutoCors?\n",
    "---\n",
    "# Questions/Futher Explore\n",
    "\n",
    "1. Differences between [here](https://github.com/Brinkley97/random_code/blob/main/foilVsNpSum.ipynb) : \n",
    "    - gamma_k = np.sum(z[t] - z_bar * z[t + k] - z_bar)\n",
    "    - gamma_k = z[t] - z_bar * z[t + k] - z_bar\n",
    "    - gamma_k = (z[t] - z_bar) * (z[t + k] - z_bar) \n",
    "    - gamma_k = np.sum(z[t] - z_bar) * (z[t + k] - z_bar) \n",
    "\n",
    "2. Causality (a) vs Correlation (b) vs both (c)\n",
    "    - Usage of car vs public transportation (a) bc as I use my car, my usage of pt decreases\n",
    "    - Usage of wifi vs celluar data (\n",
    "    - Distnace from wifi (c); (a) bc as I move away, the effect is losing connection & (b) at some distance (lag k), I will lose connection\n",
    "    - iPhone weekly time screen data (b) bc I can see the time of how each app correlate w/ another\n",
    "    - Nutrition, exercise, environment, sleep, mental state (b) as I'm able to see the relationship between all, 2/5, 4/5\n",
    "---"
   ]
  },
  {
   "cell_type": "markdown",
   "id": "7dbdf242-1622-4a96-b126-f15559311dc8",
   "metadata": {},
   "source": [
    "# TODO\n",
    "\n",
    "- [x] Load Data\n",
    "\n",
    "- [x] (2.1.15) **Estimate the ACov @ lag k :** $ \\hat{\\gamma}_{k} $ (gamma hat) = 1/N * $ \\sum_{t=1}^{N - k} (z_{t} - \\bar{z})(z_{t+k} - \\bar{z}) $ k = 0, 1, 2,..., K\n",
    "\n",
    "- [x] (2.1.12) Set : $ c_k $ = $ \\hat{\\gamma}_{k} $\n",
    "\n",
    "- [x] (2.1.11) **Estimate the ACor @ lag k :** $ \\hat{\\rho}{_k} $ (rho hat) = $ c_k $ / $ c_0 $\n",
    "\n",
    "- [x] (2.1.11) Set : $ r_k $ to  $ \\hat{\\rho}{_k} $\n",
    "\n",
    "- (Prob Statement) $\\rho{_j}$ = 0 for *j* > 2\n",
    "\n",
    "- (2.1.15) **Approximate the Variance of the Estimated ACor Coefficient @ lag k :** var[$ r_{k} $] $ \\simeq $ 1/N (1 + 2 * $ \\sum_{v=1}^{q} \\rho^{2}_{v}$) k > q"
   ]
  },
  {
   "cell_type": "markdown",
   "id": "ea6fdb11-3dc2-4025-9541-ba296a964c1b",
   "metadata": {},
   "source": [
    "---"
   ]
  },
  {
   "cell_type": "markdown",
   "id": "a16af8c3-f90c-4784-8bbf-27328d5edfe4",
   "metadata": {},
   "source": [
    "---"
   ]
  },
  {
   "cell_type": "code",
   "execution_count": 1,
   "id": "e2c28eb6-9c90-41ce-9181-b29c8b0ba801",
   "metadata": {},
   "outputs": [],
   "source": [
    "import numpy as np"
   ]
  },
  {
   "cell_type": "markdown",
   "id": "6d2cda3d-0a9a-474d-bbe1-a7e55e053854",
   "metadata": {},
   "source": [
    "## Load Data"
   ]
  },
  {
   "cell_type": "code",
   "execution_count": 2,
   "id": "cf0880d9-c583-41c5-a224-691a98d6565b",
   "metadata": {},
   "outputs": [],
   "source": [
    "z = [200, 202, 208, 204, 204, 207, 207, 204, 202, 199, 201, 198, 200, \n",
    "        202, 203, 205, 207, 211, 204, 206, 203, 203, 201, 198, 200, 206, \n",
    "        207, 206, 200, 203, 203, 200, 200, 195, 202, 204, 207, 206, 200]"
   ]
  },
  {
   "cell_type": "code",
   "execution_count": 3,
   "id": "9a1edfa7-7201-478a-8a08-2dfe28eae891",
   "metadata": {},
   "outputs": [
    {
     "data": {
      "text/plain": [
       "(39, 7, 203.02564102564102)"
      ]
     },
     "execution_count": 3,
     "metadata": {},
     "output_type": "execute_result"
    }
   ],
   "source": [
    "N = len(z)\n",
    "k = 7\n",
    "zbar = np.mean(z)\n",
    "N, k, zbar"
   ]
  },
  {
   "cell_type": "markdown",
   "id": "76db6947-be94-4d9d-ac93-dcc8fc720858",
   "metadata": {},
   "source": [
    "## Estimate AutoCov @ lag k\n",
    "\n",
    "- The average spread between any two given vars\n",
    "- I have var @ t and var @ t + k, the estimated AutoCov between two vars\n",
    "- If wide, then less confident but if narrow, more confident\n",
    "- **Motivation :** if we want to draw from this distribution, we'll know our confidence lvl\n",
    "- Estimated bc data can be too computationally expensive (take much space & time)\n",
    "- **Estimate the ACov @ lag k :** $ \\hat{\\gamma}_{k} $ (gamma hat) = 1/N * $ \\sum_{t=1}^{N - k} (z_{t} - \\bar{z})(z_{t+k} - \\bar{z}) $ k = 0, 1, 2,..., K\n",
    "\n",
    "- Set : $ c_k $ = $ \\hat{\\gamma}_{k} $"
   ]
  },
  {
   "cell_type": "code",
   "execution_count": 17,
   "id": "4d2b13c6-ddc7-47d9-b4ce-3e0b1406f14f",
   "metadata": {},
   "outputs": [],
   "source": [
    "def est_autocov(data, lag_k, sample_mean): \n",
    "    ck = 0\n",
    "    N = len(data)\n",
    "    \n",
    "    for t in range(N - lag_k):\n",
    "        ck += (data[t] - sample_mean) * (data[t + lag_k] - sample_mean)\n",
    "        \n",
    "    return ck/N"
   ]
  },
  {
   "cell_type": "code",
   "execution_count": 18,
   "id": "5939c631-099d-4241-a3f0-228d0466c5ad",
   "metadata": {},
   "outputs": [
    {
     "data": {
      "text/plain": [
       "-3.97250459380637"
      ]
     },
     "execution_count": 18,
     "metadata": {},
     "output_type": "execute_result"
    }
   ],
   "source": [
    "est_autocov(z, k, zbar)"
   ]
  },
  {
   "cell_type": "markdown",
   "id": "7b76e398-99a2-4560-8ba5-adce904daa20",
   "metadata": {},
   "source": [
    "## Estimate AutoCor @ lag k\n",
    "\n",
    "- The relationship between vars when they are k distance\n",
    "- How's my communication w/ my parents when I'm home vs when I'm at school?\n",
    "    - The relationship changes when k distance apart\n",
    "- **Motivations : ** I can determine at some point in which $ \\nexists $ a relationship between some entities\n",
    "- Estimated bc data can be too computationally expensive (take much space & time)\n",
    "- **Estimate the AutoCor @ lag k :** $ \\hat{\\rho}{_k} $ (rho hat) = $ c_k $ / $ c_0 $\n",
    "    - AutoCov at k / AutoCov at k = 0\n",
    "\n",
    "- Set : $ r_k $ to  $ \\hat{\\rho}{_k} $"
   ]
  },
  {
   "cell_type": "code",
   "execution_count": 19,
   "id": "957d315a-e751-4f9b-8238-3487c5c97511",
   "metadata": {},
   "outputs": [],
   "source": [
    "def est_autocor(data, lag_k, sample_mean):\n",
    "    ck = est_autocov(data, lag_k, sample_mean)\n",
    "    print(\"ck : \", ck)\n",
    "    cnot = est_autocov(data, 0, sample_mean)\n",
    "    print(\"cnot : \", cnot)\n",
    "    return  ck/cnot "
   ]
  },
  {
   "cell_type": "code",
   "execution_count": 20,
   "id": "eb367083-effd-43f7-af5c-223f7bf0d633",
   "metadata": {},
   "outputs": [
    {
     "name": "stdout",
     "output_type": "stream",
     "text": [
      "ck :  -3.97250459380637\n",
      "cnot :  10.742932281393824\n"
     ]
    },
    {
     "data": {
      "text/plain": [
       "-0.3697784263879735"
      ]
     },
     "execution_count": 20,
     "metadata": {},
     "output_type": "execute_result"
    }
   ],
   "source": [
    "est_autocor(z, k, zbar)"
   ]
  },
  {
   "cell_type": "markdown",
   "id": "ebc268df-ef25-48bb-bf9a-b0ee9bba467e",
   "metadata": {},
   "source": [
    "## (Prob Statement) $\\rho{_j}$ = 0 for *j* > 2\n"
   ]
  },
  {
   "cell_type": "code",
   "execution_count": null,
   "id": "2afbe771-2be0-4900-814c-152d69a51c1f",
   "metadata": {},
   "outputs": [],
   "source": [
    "j = 2\n",
    "\n",
    "set_to_zero_start_idx = len(est_acors_list[j : ])\n",
    "# print(\"set_to_zero_start_idx :  \", set_to_zero_start_idx)\n",
    "\n",
    "set_to_zero_values = est_acors_list[j : ]\n",
    "# print(\"set_to_zero_values :  \", set_to_zero_values)\n",
    "\n",
    "# est_acors_list.append(0)\n",
    "# est_acors_list\n",
    "\n",
    "for idx in range(len(r_k)) :\n",
    "    if idx > j :\n",
    "        # print(True)\n",
    "        r_k[idx] = 0\n",
    "    else :\n",
    "        # print(False)\n",
    "        pass\n",
    "len(r_k), r_k"
   ]
  },
  {
   "cell_type": "markdown",
   "id": "537c3569-4941-4092-a2a2-79e06787e1fb",
   "metadata": {},
   "source": [
    "## Approximate the Variance of the Estimated ACor Coefficient @ lag k\n",
    "\n",
    "- **Approximate the Variance of the Estimated ACor Coefficient @ lag k :** var[$ r_{k} $] $ \\simeq $ 1/N (1 + 2 * $ \\sum_{v=1}^{q} \\rho^{q}_{v}$) k > q"
   ]
  },
  {
   "cell_type": "code",
   "execution_count": null,
   "id": "3c21fc4c-38c3-4af1-b647-dc07a2b1a0ee",
   "metadata": {},
   "outputs": [],
   "source": [
    "# some lag q which every index after, values of rk have died out so q can be stated as \"die out at\"\n",
    "q = 2\n",
    "\n",
    "set_to_zero = len(r_k[q + 1: ])\n",
    "print(\"set_to_zero : \", set_to_zero)\n",
    "\n",
    "print(\"r_k[q : ] : \", r_k[q + 1: ])\n",
    "\n",
    "var_r_k_list = []\n",
    "\n",
    "var_r_k_list_die_out = []\n",
    "# print(\"r_k : \", r_k)\n",
    "for v in range(len(r_k)) :\n",
    "    # print(\"v : \", v)\n",
    "    if v > q :\n",
    "        var_r_k_list.append(0)\n",
    "    else :\n",
    "        var_r_k_list.append(1 / N * (1 + 2 * np.sum(np.square(r_k[v]))))\n",
    "\n",
    "var_r_k_list"
   ]
  },
  {
   "cell_type": "code",
   "execution_count": null,
   "id": "137abeee-9341-402d-93ba-55600502be51",
   "metadata": {},
   "outputs": [],
   "source": [
    "# var_r_k_list = []\n",
    "# print(\"idx : \", idx)\n",
    "\n",
    "# for v in range(1, q_num) :\n",
    "    # print(\"v : \", v, \"\\nq : \", q, \"\\nk : \", k)\n",
    "#     if k > q : \n",
    "#         var_r_k_list.append(1 / N * (1 + 2 * np.sum(np.square(r_k[v]))))\n",
    "#     else :\n",
    "#         var_r_k_list.append(0)\n",
    "\n",
    "# # test = (r_k, var_r_k_list)       \n",
    "\n",
    "# len(var_r_k_list), var_r_k_list"
   ]
  },
  {
   "cell_type": "code",
   "execution_count": null,
   "id": "b21cf5e1-5fd0-40c2-93f6-ecee6c04fb32",
   "metadata": {},
   "outputs": [],
   "source": [
    "# want to loop the q values starting at v = 1\n",
    "\n",
    "q_vals = r_k[q : ]\n",
    "# print(\"q_vals : \", len(q_vals), q_vals)\n",
    "\n",
    "for v in range(1, len(q_vals)) :\n",
    "    # print(\"v : \", v)\n",
    "    # print(\"q_vals : \", q_vals[v])\n",
    "    # print(\"est_acors_list : \", v, est_acors_list[v])\n",
    "    \n",
    "    if k > q : \n",
    "        # print(v, True)\n",
    "        # r_k[v] = (1 / N * (1 + 2 * np.sum(np.square(r_k[v]))))\n",
    "        print(v, \"\\nrho_v : \", est_acors_list[v])\n",
    "        square_rho_v = np.square(est_acors_list[v])\n",
    "        print(\"square_rho_v : \", square_rho_v, \"\\n\")\n",
    "#         two_times_summation = 2 * np.sum()\n",
    "        \n",
    "#         one_plus_summation = 1 + two_times_summation\n",
    "#         mean = 1 / N\n",
    "#         r_k[k] = np.multiply(mean, one_plus_summation)\n",
    "        \n",
    "    else :\n",
    "        # print(v, False)\n",
    "        pass\n",
    "# r_k"
   ]
  },
  {
   "cell_type": "code",
   "execution_count": null,
   "id": "7db4191b-5a6f-47a0-b15c-b1560e42fa4e",
   "metadata": {},
   "outputs": [],
   "source": [
    "\n"
   ]
  }
 ],
 "metadata": {
  "kernelspec": {
   "display_name": "Python 3",
   "language": "python",
   "name": "python3"
  },
  "language_info": {
   "codemirror_mode": {
    "name": "ipython",
    "version": 3
   },
   "file_extension": ".py",
   "mimetype": "text/x-python",
   "name": "python",
   "nbconvert_exporter": "python",
   "pygments_lexer": "ipython3",
   "version": "3.7.5"
  }
 },
 "nbformat": 4,
 "nbformat_minor": 5
}
