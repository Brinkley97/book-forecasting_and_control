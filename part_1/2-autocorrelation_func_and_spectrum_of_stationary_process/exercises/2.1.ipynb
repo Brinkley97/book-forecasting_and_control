{
 "cells": [
  {
   "cell_type": "code",
   "execution_count": 1,
   "id": "13eba35e-8b91-4147-9d7c-50857f4ec871",
   "metadata": {},
   "outputs": [],
   "source": [
    "import numpy as np\n",
    "import pandas as pd"
   ]
  },
  {
   "cell_type": "markdown",
   "id": "859928ae-b4a9-4a69-b33d-80faf1fcca36",
   "metadata": {
    "jupyter": {
     "source_hidden": true
    },
    "tags": []
   },
   "source": [
    "## Questions\n",
    "\n",
    "1. What's your method of creating generalized functions? I have two ways in mind. (1) Create body of func, then create func name or (2) Create func name along with/before body."
   ]
  },
  {
   "cell_type": "markdown",
   "id": "7f885ff3-88a2-4ac6-9861-688dbdb584cf",
   "metadata": {
    "tags": []
   },
   "source": [
    "# 2.1\n",
    "\n",
    "- The following are temperature measurements z${_t}$ made every minute on a chemical reactor:\n",
    "    1. Plot the time series.\n",
    "    2. Plot $𝑧_{𝑡+1}$ versus $𝑧_𝑡$.\n",
    "    3. Plot $𝑧_{𝑡+2}$ versus $𝑧_𝑡$.\n",
    "    4. After inspecting the graphs, do you think that the series is autocorrelated?"
   ]
  },
  {
   "cell_type": "markdown",
   "id": "86e22a65-810e-40fa-a4be-03d5037028bf",
   "metadata": {
    "jupyter": {
     "source_hidden": true
    },
    "tags": []
   },
   "source": [
    "## Data "
   ]
  },
  {
   "cell_type": "code",
   "execution_count": 140,
   "id": "a83a7795-5978-4c4c-ac65-02772bd88aa5",
   "metadata": {
    "tags": []
   },
   "outputs": [
    {
     "data": {
      "text/html": [
       "<div>\n",
       "<style scoped>\n",
       "    .dataframe tbody tr th:only-of-type {\n",
       "        vertical-align: middle;\n",
       "    }\n",
       "\n",
       "    .dataframe tbody tr th {\n",
       "        vertical-align: top;\n",
       "    }\n",
       "\n",
       "    .dataframe thead th {\n",
       "        text-align: right;\n",
       "    }\n",
       "</style>\n",
       "<table border=\"1\" class=\"dataframe\">\n",
       "  <thead>\n",
       "    <tr style=\"text-align: right;\">\n",
       "      <th></th>\n",
       "      <th>0</th>\n",
       "    </tr>\n",
       "  </thead>\n",
       "  <tbody>\n",
       "    <tr>\n",
       "      <th>0</th>\n",
       "      <td>200</td>\n",
       "    </tr>\n",
       "    <tr>\n",
       "      <th>1</th>\n",
       "      <td>202</td>\n",
       "    </tr>\n",
       "    <tr>\n",
       "      <th>2</th>\n",
       "      <td>208</td>\n",
       "    </tr>\n",
       "    <tr>\n",
       "      <th>3</th>\n",
       "      <td>204</td>\n",
       "    </tr>\n",
       "    <tr>\n",
       "      <th>4</th>\n",
       "      <td>204</td>\n",
       "    </tr>\n",
       "    <tr>\n",
       "      <th>5</th>\n",
       "      <td>207</td>\n",
       "    </tr>\n",
       "    <tr>\n",
       "      <th>6</th>\n",
       "      <td>207</td>\n",
       "    </tr>\n",
       "    <tr>\n",
       "      <th>7</th>\n",
       "      <td>204</td>\n",
       "    </tr>\n",
       "    <tr>\n",
       "      <th>8</th>\n",
       "      <td>202</td>\n",
       "    </tr>\n",
       "    <tr>\n",
       "      <th>9</th>\n",
       "      <td>199</td>\n",
       "    </tr>\n",
       "    <tr>\n",
       "      <th>10</th>\n",
       "      <td>201</td>\n",
       "    </tr>\n",
       "    <tr>\n",
       "      <th>11</th>\n",
       "      <td>198</td>\n",
       "    </tr>\n",
       "    <tr>\n",
       "      <th>12</th>\n",
       "      <td>200</td>\n",
       "    </tr>\n",
       "    <tr>\n",
       "      <th>13</th>\n",
       "      <td>202</td>\n",
       "    </tr>\n",
       "    <tr>\n",
       "      <th>14</th>\n",
       "      <td>203</td>\n",
       "    </tr>\n",
       "    <tr>\n",
       "      <th>15</th>\n",
       "      <td>205</td>\n",
       "    </tr>\n",
       "    <tr>\n",
       "      <th>16</th>\n",
       "      <td>207</td>\n",
       "    </tr>\n",
       "    <tr>\n",
       "      <th>17</th>\n",
       "      <td>211</td>\n",
       "    </tr>\n",
       "    <tr>\n",
       "      <th>18</th>\n",
       "      <td>204</td>\n",
       "    </tr>\n",
       "    <tr>\n",
       "      <th>19</th>\n",
       "      <td>206</td>\n",
       "    </tr>\n",
       "    <tr>\n",
       "      <th>20</th>\n",
       "      <td>203</td>\n",
       "    </tr>\n",
       "    <tr>\n",
       "      <th>21</th>\n",
       "      <td>203</td>\n",
       "    </tr>\n",
       "    <tr>\n",
       "      <th>22</th>\n",
       "      <td>201</td>\n",
       "    </tr>\n",
       "    <tr>\n",
       "      <th>23</th>\n",
       "      <td>198</td>\n",
       "    </tr>\n",
       "    <tr>\n",
       "      <th>24</th>\n",
       "      <td>200</td>\n",
       "    </tr>\n",
       "    <tr>\n",
       "      <th>25</th>\n",
       "      <td>206</td>\n",
       "    </tr>\n",
       "    <tr>\n",
       "      <th>26</th>\n",
       "      <td>207</td>\n",
       "    </tr>\n",
       "    <tr>\n",
       "      <th>27</th>\n",
       "      <td>206</td>\n",
       "    </tr>\n",
       "    <tr>\n",
       "      <th>28</th>\n",
       "      <td>200</td>\n",
       "    </tr>\n",
       "    <tr>\n",
       "      <th>29</th>\n",
       "      <td>203</td>\n",
       "    </tr>\n",
       "    <tr>\n",
       "      <th>30</th>\n",
       "      <td>203</td>\n",
       "    </tr>\n",
       "    <tr>\n",
       "      <th>31</th>\n",
       "      <td>200</td>\n",
       "    </tr>\n",
       "    <tr>\n",
       "      <th>32</th>\n",
       "      <td>200</td>\n",
       "    </tr>\n",
       "    <tr>\n",
       "      <th>33</th>\n",
       "      <td>195</td>\n",
       "    </tr>\n",
       "    <tr>\n",
       "      <th>34</th>\n",
       "      <td>202</td>\n",
       "    </tr>\n",
       "    <tr>\n",
       "      <th>35</th>\n",
       "      <td>204</td>\n",
       "    </tr>\n",
       "    <tr>\n",
       "      <th>36</th>\n",
       "      <td>207</td>\n",
       "    </tr>\n",
       "    <tr>\n",
       "      <th>37</th>\n",
       "      <td>206</td>\n",
       "    </tr>\n",
       "    <tr>\n",
       "      <th>38</th>\n",
       "      <td>200</td>\n",
       "    </tr>\n",
       "  </tbody>\n",
       "</table>\n",
       "</div>"
      ],
      "text/plain": [
       "      0\n",
       "0   200\n",
       "1   202\n",
       "2   208\n",
       "3   204\n",
       "4   204\n",
       "5   207\n",
       "6   207\n",
       "7   204\n",
       "8   202\n",
       "9   199\n",
       "10  201\n",
       "11  198\n",
       "12  200\n",
       "13  202\n",
       "14  203\n",
       "15  205\n",
       "16  207\n",
       "17  211\n",
       "18  204\n",
       "19  206\n",
       "20  203\n",
       "21  203\n",
       "22  201\n",
       "23  198\n",
       "24  200\n",
       "25  206\n",
       "26  207\n",
       "27  206\n",
       "28  200\n",
       "29  203\n",
       "30  203\n",
       "31  200\n",
       "32  200\n",
       "33  195\n",
       "34  202\n",
       "35  204\n",
       "36  207\n",
       "37  206\n",
       "38  200"
      ]
     },
     "execution_count": 140,
     "metadata": {},
     "output_type": "execute_result"
    }
   ],
   "source": [
    "time_series_data = [200, 202, 208, 204, 204, 207, 207, 204, 202, 199, 201, 198, 200, \n",
    "        202, 203, 205, 207, 211, 204, 206, 203, 203, 201, 198, 200, 206, \n",
    "        207, 206, 200, 203, 203, 200, 200, 195, 202, 204, 207, 206, 200]\n",
    "\n",
    "\n",
    "# print(\"time_series_data : \", time_series_data)\n",
    "ts_data = pd.DataFrame(time_series_data)\n",
    "ts_data\n",
    "# pre_plot = pd.DataFrame({\n",
    "#     'temperature measurements' : time_series_data\n",
    "#     })\n",
    "\n",
    "# print(\"pre_plot : \", pre_plot)"
   ]
  },
  {
   "cell_type": "markdown",
   "id": "17fd2ea0-9582-4137-ba8f-692dd8bb1a3f",
   "metadata": {
    "tags": []
   },
   "source": [
    "## Q1 Plots w/ mini analysis\n",
    "\n",
    "1. Histogram : Temp to occour the most is 204 and the least is a tie between 4 of them.\n",
    "2. Line : Over the course of 39 temps, $ \\exists $ a main peak between 15 - 20 w/ 3 other minor peaks. Starting temp is same/similar to ending temp.\n",
    "3. Density : \"Generate Kernel Density Estimate plot using Gaussian kernels.\" So, we are estimating this distribution's **probability density function** using **kernel density estimate**\n",
    "4. KDE : same as (3) Density"
   ]
  },
  {
   "cell_type": "code",
   "execution_count": 5,
   "id": "661a2ca6-c0c0-4873-80fc-2e58a8700a7a",
   "metadata": {
    "collapsed": true,
    "jupyter": {
     "outputs_hidden": true
    },
    "tags": []
   },
   "outputs": [
    {
     "data": {
      "image/png": "[encoded data removed]",
      "text/plain": [
       "<Figure size 432x288 with 1 Axes>"
      ]
     },
     "metadata": {
      "needs_background": "light"
     },
     "output_type": "display_data"
    }
   ],
   "source": [
    "plot_histogram = pre_plot.plot.hist()"
   ]
  },
  {
   "cell_type": "code",
   "execution_count": 6,
   "id": "cc9b9e0e-e41c-4d33-aa1a-a5041e3994e3",
   "metadata": {
    "collapsed": true,
    "jupyter": {
     "outputs_hidden": true
    },
    "tags": []
   },
   "outputs": [
    {
     "data": {
      "image/png": "[encoded data removed]",
      "text/plain": [
       "<Figure size 432x288 with 1 Axes>"
      ]
     },
     "metadata": {
      "needs_background": "light"
     },
     "output_type": "display_data"
    }
   ],
   "source": [
    "plot_line = pre_plot.plot.line()"
   ]
  },
  {
   "cell_type": "code",
   "execution_count": 7,
   "id": "fa7a6fc7-e01d-4cfd-9ea7-8372ae0ec97f",
   "metadata": {
    "collapsed": true,
    "jupyter": {
     "outputs_hidden": true
    },
    "tags": []
   },
   "outputs": [
    {
     "data": {
      "image/png": "[encoded data removed]",
      "text/plain": [
       "<Figure size 432x288 with 1 Axes>"
      ]
     },
     "metadata": {
      "needs_background": "light"
     },
     "output_type": "display_data"
    }
   ],
   "source": [
    "plot_density = pre_plot.plot.density()"
   ]
  },
  {
   "cell_type": "code",
   "execution_count": 8,
   "id": "117b731d-826a-4842-b863-c6d2a191fd64",
   "metadata": {
    "collapsed": true,
    "jupyter": {
     "outputs_hidden": true
    },
    "tags": []
   },
   "outputs": [
    {
     "data": {
      "image/png": "[encoded data removed]",
      "text/plain": [
       "<Figure size 432x288 with 1 Axes>"
      ]
     },
     "metadata": {
      "needs_background": "light"
     },
     "output_type": "display_data"
    }
   ],
   "source": [
    "plot_kde = pre_plot.plot.kde()"
   ]
  },
  {
   "cell_type": "markdown",
   "id": "91101471-e5eb-41b6-ba79-534bb04f392b",
   "metadata": {
    "jp-MarkdownHeadingCollapsed": true,
    "tags": []
   },
   "source": [
    "---\n",
    " \n",
    "## Q2 & Q3 Plots w/ mini analysis\n",
    "1. W/ each plot, $ \\nexists $ a shift which is noticeable unless there's a significant difference between t & k of z$ {_t}{_+}{_k} $\n",
    "2. [ ] Basic stats sa : mean, median, range, etc will remain the same bc we're only increasing by a factor of k? "
   ]
  },
  {
   "cell_type": "code",
   "execution_count": 23,
   "id": "fca8692d-c092-428a-b6b7-fb22d716d43c",
   "metadata": {
    "tags": []
   },
   "outputs": [
    {
     "name": "stdout",
     "output_type": "stream",
     "text": [
      "data[t] :  0 200 202 208\n",
      "data[t] :  1 202 208 204\n",
      "data[t] :  2 208 204 204\n",
      "data[t] :  3 204 204 207\n",
      "data[t] :  4 204 207 207\n",
      "data[t] :  5 207 207 204\n",
      "data[t] :  6 207 204 202\n",
      "data[t] :  7 204 202 199\n",
      "data[t] :  8 202 199 201\n",
      "data[t] :  9 199 201 198\n",
      "data[t] :  10 201 198 200\n",
      "data[t] :  11 198 200 202\n",
      "data[t] :  12 200 202 203\n",
      "data[t] :  13 202 203 205\n",
      "data[t] :  14 203 205 207\n",
      "data[t] :  15 205 207 211\n",
      "data[t] :  16 207 211 204\n",
      "data[t] :  17 211 204 206\n",
      "data[t] :  18 204 206 203\n",
      "data[t] :  19 206 203 203\n",
      "data[t] :  20 203 203 201\n",
      "data[t] :  21 203 201 198\n",
      "data[t] :  22 201 198 200\n",
      "data[t] :  23 198 200 206\n",
      "data[t] :  24 200 206 207\n",
      "data[t] :  25 206 207 206\n",
      "data[t] :  26 207 206 200\n",
      "data[t] :  27 206 200 203\n",
      "data[t] :  28 200 203 203\n",
      "data[t] :  29 203 203 200\n",
      "data[t] :  30 203 200 200\n",
      "data[t] :  31 200 200 195\n",
      "data[t] :  32 200 195 202\n",
      "data[t] :  33 195 202 204\n",
      "data[t] :  34 202 204 207\n",
      "data[t] :  35 204 207 206\n",
      "data[t] :  36 207 206 200\n"
     ]
    },
    {
     "ename": "IndexError",
     "evalue": "list index out of range",
     "output_type": "error",
     "traceback": [
      "\u001b[0;31m---------------------------------------------------------------------------\u001b[0m",
      "\u001b[0;31mIndexError\u001b[0m                                Traceback (most recent call last)",
      "\u001b[0;32m<ipython-input-23-0db0f61d4074>\u001b[0m in \u001b[0;36m<module>\u001b[0;34m\u001b[0m\n\u001b[1;32m      5\u001b[0m \u001b[0;34m\u001b[0m\u001b[0m\n\u001b[1;32m      6\u001b[0m \u001b[0;32mfor\u001b[0m \u001b[0mt\u001b[0m \u001b[0;32min\u001b[0m \u001b[0mrange\u001b[0m\u001b[0;34m(\u001b[0m\u001b[0;36m0\u001b[0m\u001b[0;34m,\u001b[0m \u001b[0mlen\u001b[0m\u001b[0;34m(\u001b[0m\u001b[0mdata\u001b[0m\u001b[0;34m)\u001b[0m\u001b[0;34m)\u001b[0m\u001b[0;34m:\u001b[0m\u001b[0;34m\u001b[0m\u001b[0;34m\u001b[0m\u001b[0m\n\u001b[0;32m----> 7\u001b[0;31m     \u001b[0mprint\u001b[0m\u001b[0;34m(\u001b[0m\u001b[0;34m\"data[t] : \"\u001b[0m\u001b[0;34m,\u001b[0m \u001b[0mt\u001b[0m\u001b[0;34m,\u001b[0m \u001b[0mdata\u001b[0m\u001b[0;34m[\u001b[0m\u001b[0mt\u001b[0m\u001b[0;34m]\u001b[0m\u001b[0;34m,\u001b[0m \u001b[0mdata\u001b[0m\u001b[0;34m[\u001b[0m\u001b[0mt\u001b[0m \u001b[0;34m+\u001b[0m \u001b[0;36m1\u001b[0m\u001b[0;34m]\u001b[0m\u001b[0;34m,\u001b[0m \u001b[0mdata\u001b[0m\u001b[0;34m[\u001b[0m\u001b[0mt\u001b[0m \u001b[0;34m+\u001b[0m \u001b[0;36m2\u001b[0m\u001b[0;34m]\u001b[0m\u001b[0;34m)\u001b[0m\u001b[0;34m\u001b[0m\u001b[0;34m\u001b[0m\u001b[0m\n\u001b[0m\u001b[1;32m      8\u001b[0m     \u001b[0;31m# t_plus_one = data[t] + 1\u001b[0m\u001b[0;34m\u001b[0m\u001b[0;34m\u001b[0m\u001b[0;34m\u001b[0m\u001b[0m\n\u001b[1;32m      9\u001b[0m     \u001b[0mt_plus_one\u001b[0m \u001b[0;34m=\u001b[0m \u001b[0mdata\u001b[0m\u001b[0;34m[\u001b[0m\u001b[0mt\u001b[0m \u001b[0;34m-\u001b[0m \u001b[0;36m1\u001b[0m\u001b[0;34m]\u001b[0m\u001b[0;34m\u001b[0m\u001b[0;34m\u001b[0m\u001b[0m\n",
      "\u001b[0;31mIndexError\u001b[0m: list index out of range"
     ]
    }
   ],
   "source": [
    "## DATA PREP\n",
    "\n",
    "t_plus_one_arr = []\n",
    "t_plus_two_arr = []\n",
    "\n",
    "for t in range(0, len(data)): \n",
    "    print(\"data[t] : \", t, data[t], data[t + 1], data[t + 2])\n",
    "    # t_plus_one = data[t] + 1\n",
    "    t_plus_one = data[t - 1]\n",
    "    t_plus_one_arr.append(t_plus_one)\n",
    "    \n",
    "    # t_plus_two = data[t] + 10\n",
    "    t_plus_two = data[t - 2]\n",
    "    t_plus_two_arr.append(t_plus_two)\n",
    "\n",
    "# print(\"\\noriginal data : \", data)\n",
    "# print(\"\\nt_plus_one_arr : \", t_plus_one_arr)\n",
    "# print(\"\\nt_plus_two_arr : \", t_plus_two_arr)\n",
    "\n",
    "\n",
    "new_pre_plot = pd.DataFrame({\n",
    "    'temperature measurements' : data,\n",
    "    'temperature measurements + 1' : t_plus_one_arr,\n",
    "    'temperature measurements + 2' : t_plus_two_arr\n",
    "    })\n",
    "\n",
    "# print(\"new_pre_plot : \", new_pre_plot)\n",
    "\n",
    "t_m = new_pre_plot['temperature measurements']\n",
    "t_m_1 = new_pre_plot['temperature measurements + 1']\n",
    "t_m_2 = new_pre_plot['temperature measurements + 2']"
   ]
  },
  {
   "cell_type": "code",
   "execution_count": 21,
   "id": "ab2b1504-5e3b-4f88-938b-34f5118e7762",
   "metadata": {
    "tags": []
   },
   "outputs": [
    {
     "data": {
      "image/png": "[encoded data removed]",
      "text/plain": [
       "<Figure size 432x288 with 1 Axes>"
      ]
     },
     "metadata": {
      "needs_background": "light"
     },
     "output_type": "display_data"
    }
   ],
   "source": [
    "org_histogram = t_m.plot.hist()\n",
    "p1_histogram = t_m_1.plot.hist()"
   ]
  },
  {
   "cell_type": "code",
   "execution_count": 11,
   "id": "efcc764c-ae6e-4a35-bcbf-2052f9246335",
   "metadata": {
    "tags": []
   },
   "outputs": [
    {
     "data": {
      "image/png": "[encoded data removed]",
      "text/plain": [
       "<Figure size 432x288 with 1 Axes>"
      ]
     },
     "metadata": {
      "needs_background": "light"
     },
     "output_type": "display_data"
    }
   ],
   "source": [
    "org_histogram = t_m.plot.hist()\n",
    "p2_histogram = t_m_2.plot.hist()"
   ]
  },
  {
   "cell_type": "code",
   "execution_count": 12,
   "id": "e835c256-4fff-4fee-9576-096ce738afc5",
   "metadata": {
    "tags": []
   },
   "outputs": [
    {
     "data": {
      "image/png": "[encoded data removed]",
      "text/plain": [
       "<Figure size 432x288 with 1 Axes>"
      ]
     },
     "metadata": {
      "needs_background": "light"
     },
     "output_type": "display_data"
    }
   ],
   "source": [
    "plot_line = t_m.plot.line()\n",
    "plot_line = t_m_1.plot.line()"
   ]
  },
  {
   "cell_type": "code",
   "execution_count": 13,
   "id": "78e6bec3-1f43-4fda-bef2-dcb515fa2de5",
   "metadata": {
    "tags": []
   },
   "outputs": [
    {
     "data": {
      "image/png": "[encoded data removed]",
      "text/plain": [
       "<Figure size 432x288 with 1 Axes>"
      ]
     },
     "metadata": {
      "needs_background": "light"
     },
     "output_type": "display_data"
    }
   ],
   "source": [
    "plot_line = t_m.plot.line()\n",
    "plot_line = t_m_2.plot.line()"
   ]
  },
  {
   "cell_type": "code",
   "execution_count": null,
   "id": "bd302ef6-8da7-491c-ae25-fc530d9c0e0a",
   "metadata": {
    "jupyter": {
     "source_hidden": true
    },
    "tags": []
   },
   "outputs": [],
   "source": [
    "plot_density = t_m.plot.density()\n",
    "plot_density = t_m_1.plot.density()"
   ]
  },
  {
   "cell_type": "code",
   "execution_count": null,
   "id": "c50202bb-e757-45d0-b2a9-dc86c91905db",
   "metadata": {
    "jupyter": {
     "source_hidden": true
    },
    "tags": []
   },
   "outputs": [],
   "source": [
    "plot_density = t_m.plot.density()\n",
    "plot_density = t_m_2.plot.density()"
   ]
  },
  {
   "cell_type": "markdown",
   "id": "7593b188-a684-4f02-b934-4111a77baaef",
   "metadata": {},
   "source": [
    "---\n",
    "\n",
    "## Correcting plots"
   ]
  },
  {
   "cell_type": "code",
   "execution_count": 168,
   "id": "5bafd3eb-55b6-41dd-88e7-a796075ebcf6",
   "metadata": {},
   "outputs": [],
   "source": [
    "def plot_ts_with_pandas(ts_data):\n",
    "    \"\"\"\n",
    "    ts_data -- pd DataFrame\n",
    "    return -- plots ((1) z_t, (2) z_t vs z_t+1, (3) z_t vs z_t+2)\n",
    "    \"\"\"\n",
    "    # print(z)\n",
    "    \n",
    "    z = ts_data\n",
    "    plot_ts = z.plot()\n",
    "    \n",
    "    \n",
    "    \"\"\"\n",
    "    z_t vs z_t+1\n",
    "    \"\"\"\n",
    "    z1 = ts_data.shift(-1)\n",
    "    z_vs_z1 = pd.concat([z, z1], axis = 1)\n",
    "    z_vs_z1.columns = [\"z\", \"z1\"]\n",
    "    plot_z_vs_z1 = z_vs_z1.plot()\n",
    "    \n",
    "    \"\"\"\n",
    "    z_t vs z_t+2\n",
    "    \"\"\"\n",
    "    z2 = ts_data.shift(-2)\n",
    "    z_vs_z2 = pd.concat([z, z2], axis = 1)\n",
    "    z_vs_z2.columns = [\"z\", \"z2\"]\n",
    "    plot_z_vs_z2 = z_vs_z2\n",
    "\n",
    "    \"\"\"\n",
    "    All lags\n",
    "    \"\"\"\n",
    "    \n",
    "    # z_t_with_lag_1 = pd.concat([z, lag_k_1, lag_k_2], axis = 1)\n",
    "    # z_t_with_lag.columns = [\"z[t]\", \"z[t + 1]\", \"z[t + 2]\"]\n",
    "    # # print(z_t_with_lag)\n",
    "    # plot_ts_lag = z_t_with_lag.plot()\n",
    "    return plot_z_vs_z2"
   ]
  },
  {
   "cell_type": "code",
   "execution_count": 169,
   "id": "4645a29f-09c7-47c2-a293-80011189073a",
   "metadata": {},
   "outputs": [],
   "source": [
    "# plot_ts(time_series_data)"
   ]
  },
  {
   "cell_type": "code",
   "execution_count": 170,
   "id": "90d56e15-059e-49ca-b279-c8d9aaf734db",
   "metadata": {},
   "outputs": [
    {
     "data": {
      "text/html": [
       "<div>\n",
       "<style scoped>\n",
       "    .dataframe tbody tr th:only-of-type {\n",
       "        vertical-align: middle;\n",
       "    }\n",
       "\n",
       "    .dataframe tbody tr th {\n",
       "        vertical-align: top;\n",
       "    }\n",
       "\n",
       "    .dataframe thead th {\n",
       "        text-align: right;\n",
       "    }\n",
       "</style>\n",
       "<table border=\"1\" class=\"dataframe\">\n",
       "  <thead>\n",
       "    <tr style=\"text-align: right;\">\n",
       "      <th></th>\n",
       "      <th>z</th>\n",
       "      <th>z2</th>\n",
       "    </tr>\n",
       "  </thead>\n",
       "  <tbody>\n",
       "    <tr>\n",
       "      <th>0</th>\n",
       "      <td>200</td>\n",
       "      <td>208.0</td>\n",
       "    </tr>\n",
       "    <tr>\n",
       "      <th>1</th>\n",
       "      <td>202</td>\n",
       "      <td>204.0</td>\n",
       "    </tr>\n",
       "    <tr>\n",
       "      <th>2</th>\n",
       "      <td>208</td>\n",
       "      <td>204.0</td>\n",
       "    </tr>\n",
       "    <tr>\n",
       "      <th>3</th>\n",
       "      <td>204</td>\n",
       "      <td>207.0</td>\n",
       "    </tr>\n",
       "    <tr>\n",
       "      <th>4</th>\n",
       "      <td>204</td>\n",
       "      <td>207.0</td>\n",
       "    </tr>\n",
       "    <tr>\n",
       "      <th>5</th>\n",
       "      <td>207</td>\n",
       "      <td>204.0</td>\n",
       "    </tr>\n",
       "    <tr>\n",
       "      <th>6</th>\n",
       "      <td>207</td>\n",
       "      <td>202.0</td>\n",
       "    </tr>\n",
       "    <tr>\n",
       "      <th>7</th>\n",
       "      <td>204</td>\n",
       "      <td>199.0</td>\n",
       "    </tr>\n",
       "    <tr>\n",
       "      <th>8</th>\n",
       "      <td>202</td>\n",
       "      <td>201.0</td>\n",
       "    </tr>\n",
       "    <tr>\n",
       "      <th>9</th>\n",
       "      <td>199</td>\n",
       "      <td>198.0</td>\n",
       "    </tr>\n",
       "    <tr>\n",
       "      <th>10</th>\n",
       "      <td>201</td>\n",
       "      <td>200.0</td>\n",
       "    </tr>\n",
       "    <tr>\n",
       "      <th>11</th>\n",
       "      <td>198</td>\n",
       "      <td>202.0</td>\n",
       "    </tr>\n",
       "    <tr>\n",
       "      <th>12</th>\n",
       "      <td>200</td>\n",
       "      <td>203.0</td>\n",
       "    </tr>\n",
       "    <tr>\n",
       "      <th>13</th>\n",
       "      <td>202</td>\n",
       "      <td>205.0</td>\n",
       "    </tr>\n",
       "    <tr>\n",
       "      <th>14</th>\n",
       "      <td>203</td>\n",
       "      <td>207.0</td>\n",
       "    </tr>\n",
       "    <tr>\n",
       "      <th>15</th>\n",
       "      <td>205</td>\n",
       "      <td>211.0</td>\n",
       "    </tr>\n",
       "    <tr>\n",
       "      <th>16</th>\n",
       "      <td>207</td>\n",
       "      <td>204.0</td>\n",
       "    </tr>\n",
       "    <tr>\n",
       "      <th>17</th>\n",
       "      <td>211</td>\n",
       "      <td>206.0</td>\n",
       "    </tr>\n",
       "    <tr>\n",
       "      <th>18</th>\n",
       "      <td>204</td>\n",
       "      <td>203.0</td>\n",
       "    </tr>\n",
       "    <tr>\n",
       "      <th>19</th>\n",
       "      <td>206</td>\n",
       "      <td>203.0</td>\n",
       "    </tr>\n",
       "    <tr>\n",
       "      <th>20</th>\n",
       "      <td>203</td>\n",
       "      <td>201.0</td>\n",
       "    </tr>\n",
       "    <tr>\n",
       "      <th>21</th>\n",
       "      <td>203</td>\n",
       "      <td>198.0</td>\n",
       "    </tr>\n",
       "    <tr>\n",
       "      <th>22</th>\n",
       "      <td>201</td>\n",
       "      <td>200.0</td>\n",
       "    </tr>\n",
       "    <tr>\n",
       "      <th>23</th>\n",
       "      <td>198</td>\n",
       "      <td>206.0</td>\n",
       "    </tr>\n",
       "    <tr>\n",
       "      <th>24</th>\n",
       "      <td>200</td>\n",
       "      <td>207.0</td>\n",
       "    </tr>\n",
       "    <tr>\n",
       "      <th>25</th>\n",
       "      <td>206</td>\n",
       "      <td>206.0</td>\n",
       "    </tr>\n",
       "    <tr>\n",
       "      <th>26</th>\n",
       "      <td>207</td>\n",
       "      <td>200.0</td>\n",
       "    </tr>\n",
       "    <tr>\n",
       "      <th>27</th>\n",
       "      <td>206</td>\n",
       "      <td>203.0</td>\n",
       "    </tr>\n",
       "    <tr>\n",
       "      <th>28</th>\n",
       "      <td>200</td>\n",
       "      <td>203.0</td>\n",
       "    </tr>\n",
       "    <tr>\n",
       "      <th>29</th>\n",
       "      <td>203</td>\n",
       "      <td>200.0</td>\n",
       "    </tr>\n",
       "    <tr>\n",
       "      <th>30</th>\n",
       "      <td>203</td>\n",
       "      <td>200.0</td>\n",
       "    </tr>\n",
       "    <tr>\n",
       "      <th>31</th>\n",
       "      <td>200</td>\n",
       "      <td>195.0</td>\n",
       "    </tr>\n",
       "    <tr>\n",
       "      <th>32</th>\n",
       "      <td>200</td>\n",
       "      <td>202.0</td>\n",
       "    </tr>\n",
       "    <tr>\n",
       "      <th>33</th>\n",
       "      <td>195</td>\n",
       "      <td>204.0</td>\n",
       "    </tr>\n",
       "    <tr>\n",
       "      <th>34</th>\n",
       "      <td>202</td>\n",
       "      <td>207.0</td>\n",
       "    </tr>\n",
       "    <tr>\n",
       "      <th>35</th>\n",
       "      <td>204</td>\n",
       "      <td>206.0</td>\n",
       "    </tr>\n",
       "    <tr>\n",
       "      <th>36</th>\n",
       "      <td>207</td>\n",
       "      <td>200.0</td>\n",
       "    </tr>\n",
       "    <tr>\n",
       "      <th>37</th>\n",
       "      <td>206</td>\n",
       "      <td>NaN</td>\n",
       "    </tr>\n",
       "    <tr>\n",
       "      <th>38</th>\n",
       "      <td>200</td>\n",
       "      <td>NaN</td>\n",
       "    </tr>\n",
       "  </tbody>\n",
       "</table>\n",
       "</div>"
      ],
      "text/plain": [
       "      z     z2\n",
       "0   200  208.0\n",
       "1   202  204.0\n",
       "2   208  204.0\n",
       "3   204  207.0\n",
       "4   204  207.0\n",
       "5   207  204.0\n",
       "6   207  202.0\n",
       "7   204  199.0\n",
       "8   202  201.0\n",
       "9   199  198.0\n",
       "10  201  200.0\n",
       "11  198  202.0\n",
       "12  200  203.0\n",
       "13  202  205.0\n",
       "14  203  207.0\n",
       "15  205  211.0\n",
       "16  207  204.0\n",
       "17  211  206.0\n",
       "18  204  203.0\n",
       "19  206  203.0\n",
       "20  203  201.0\n",
       "21  203  198.0\n",
       "22  201  200.0\n",
       "23  198  206.0\n",
       "24  200  207.0\n",
       "25  206  206.0\n",
       "26  207  200.0\n",
       "27  206  203.0\n",
       "28  200  203.0\n",
       "29  203  200.0\n",
       "30  203  200.0\n",
       "31  200  195.0\n",
       "32  200  202.0\n",
       "33  195  204.0\n",
       "34  202  207.0\n",
       "35  204  206.0\n",
       "36  207  200.0\n",
       "37  206    NaN\n",
       "38  200    NaN"
      ]
     },
     "execution_count": 170,
     "metadata": {},
     "output_type": "execute_result"
    },
    {
     "data": {
      "image/png": "[encoded data removed]",
      "text/plain": [
       "<Figure size 432x288 with 1 Axes>"
      ]
     },
     "metadata": {
      "needs_background": "light"
     },
     "output_type": "display_data"
    },
    {
     "data": {
      "image/png": "[encoded data removed]",
      "text/plain": [
       "<Figure size 432x288 with 1 Axes>"
      ]
     },
     "metadata": {
      "needs_background": "light"
     },
     "output_type": "display_data"
    }
   ],
   "source": [
    "plot_ts_with_pandas(ts_data)"
   ]
  },
  {
   "cell_type": "markdown",
   "id": "98cc3102-c786-4638-a0db-01459c0bc6dc",
   "metadata": {
    "tags": []
   },
   "source": [
    "---\n",
    "\n",
    "# Self-Discovery\n",
    "\n",
    "1. Gathering of basics stats - total, mean, median, mode, range, and standard deviation"
   ]
  },
  {
   "cell_type": "code",
   "execution_count": null,
   "id": "fcb84921-2220-4c23-b6f3-256e53126b3d",
   "metadata": {
    "tags": []
   },
   "outputs": [],
   "source": [
    "def get_temp_stats(total, mean, median, mode, interval, sd) :\n",
    "\n",
    "    temp_stats = []\n",
    "    temp_dict = {}\n",
    "    \n",
    "    temp_stats.append(total)\n",
    "    temp_stats.append(mean)\n",
    "    temp_stats.append(median)\n",
    "    temp_stats.append(mode)\n",
    "    temp_stats.append(interval)\n",
    "    temp_stats.append(sd)\n",
    "    \n",
    "    temp_names = [\"total\", \"mean\", \"median\", \"mode\", \"interval\", \"sd\"]\n",
    "    # print(\"temp_stats : \", temp_stats)\n",
    "    \n",
    "\n",
    "# map temp_names to their value, respectively\n",
    "    for key in temp_names :\n",
    "        # print(\"key : \", key)\n",
    "        for value in temp_stats :\n",
    "            # print(\"value : \", value)\n",
    "            temp_dict[key] = value\n",
    "            temp_stats.remove(value)\n",
    "            \n",
    "#            break statement in Python terminates the current loop and resumes execution at the next statement which means to \n",
    "#                populate, then break to go to next key : value pair\n",
    "            break\n",
    "    return temp_dict"
   ]
  },
  {
   "cell_type": "code",
   "execution_count": null,
   "id": "60b184ca-6799-4243-864c-8a537a6430bb",
   "metadata": {},
   "outputs": [],
   "source": [
    "t_m = pre_plot['temperature measurements']\n",
    "\n",
    "temp_total = t_m.sum()\n",
    "# print(\"temp_total : \", temp_total, \"\\n\")\n",
    "\n",
    "temp_mean = t_m.mean()\n",
    "# print(\"temp_mean : \", temp_mean)\n",
    "\n",
    "temp_median = t_m.median()\n",
    "\n",
    "temp_max = t_m.max()\n",
    "temp_min = t_m.min()\n",
    "temp_range = temp_max - temp_min\n",
    "\n",
    "temp_sd = t_m.std()"
   ]
  },
  {
   "cell_type": "code",
   "execution_count": null,
   "id": "fbd9a145-6dfb-4603-b5d2-ba6583f86f1d",
   "metadata": {},
   "outputs": [],
   "source": [
    "get_temp_stats(temp_total, temp_mean, temp_median, temp_max, temp_range, temp_sd)"
   ]
  },
  {
   "cell_type": "code",
   "execution_count": null,
   "id": "4920f7b5-4653-41bb-a2e8-6f56fef83d1f",
   "metadata": {},
   "outputs": [],
   "source": []
  }
 ],
 "metadata": {
  "kernelspec": {
   "display_name": "Python 3",
   "language": "python",
   "name": "python3"
  },
  "language_info": {
   "codemirror_mode": {
    "name": "ipython",
    "version": 3
   },
   "file_extension": ".py",
   "mimetype": "text/x-python",
   "name": "python",
   "nbconvert_exporter": "python",
   "pygments_lexer": "ipython3",
   "version": "3.7.5"
  }
 },
 "nbformat": 4,
 "nbformat_minor": 5
}
