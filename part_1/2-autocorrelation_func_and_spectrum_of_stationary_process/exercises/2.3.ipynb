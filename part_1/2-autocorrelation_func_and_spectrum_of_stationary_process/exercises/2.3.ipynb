{
 "cells": [
  {
   "cell_type": "raw",
   "id": "8db8bea4-b46b-4f94-8b0c-ca15e73f0383",
   "metadata": {},
   "source": [
    "W/ out following 2.2.4 Simple Examples of Autocorrelation and Spectral Density Functions"
   ]
  },
  {
   "cell_type": "code",
   "execution_count": 2,
   "id": "eb5cde78-1412-469a-a7b8-c4f9e17a98dc",
   "metadata": {},
   "outputs": [],
   "source": [
    "import numpy as np\n",
    "import pandas as pd"
   ]
  },
  {
   "cell_type": "markdown",
   "id": "40ff15ff-1fd0-479e-8a8d-f0a1251ef256",
   "metadata": {},
   "source": [
    "# Questions/Futher Explore\n",
    "\n",
    "1. Which method is standard when returning a value from a func & calling that func?\n",
    "    - see both user_in func for $ z{_1}{_t} $ & $ z{_2}{_t} $; both have a return statement\n",
    "    - z_1t calls the func w/ out setting it = to some var & printing that var\n",
    "    - z_2t calls the func w/ setting it = to some var & printing that var\n",
    "2. How to combine $ z{_1}{_t} $ & $ z{_2}{_t} $ into one func"
   ]
  },
  {
   "cell_type": "markdown",
   "id": "0f5f72bb-dc97-4ea6-b945-0fd032892171",
   "metadata": {},
   "source": [
    "# Problem Statement : \n",
    "- Two stationary stochastic processes z${_1}{_t}$ and z${_2}{_t}$ have the following autocovariance functions:\n",
    "    1. z${_1}{_t}$ ∶ \n",
    "        - $ \\gamma{_0} $ = 0.5\n",
    "        - $ \\gamma{_1} $ = 0.2\n",
    "        - $ \\gamma{_j} $ = 0 (j $\\ge $ 2)\n",
    "    2. z${_2}{_t}$ ∶ \n",
    "        - $ \\gamma{_0} $ = 2.30\n",
    "        - $ \\gamma{_1} $ = −1.43\n",
    "        - $ \\gamma{_2} $ = 0.30\n",
    "        - $ \\gamma{_j} $ = 0 (j $\\ge $ 3)\n",
    "        \n",
    "# TODO : \n",
    "   - Calculate the autocovariance function of the process z${_3}{_t}$ = z${_1}{_t}$ + 2z${_2}{_t}$\n",
    "       - [x] Create two funcs to populate the above\n",
    "       - [ ] Find covariance between $ z{_t}, z{_t}{_+}{_k} $\n",
    "           - *Don't think I should do this being that I've already been given the autocovariance funcs*\n",
    "   - Verify that it is a valid stationary process"
   ]
  },
  {
   "cell_type": "code",
   "execution_count": 3,
   "id": "9ca3c486-336f-4af8-b97b-ea09bde07d0d",
   "metadata": {},
   "outputs": [
    {
     "data": {
      "text/plain": [
       "array([ 2.8 , -1.23,  0.3 ])"
      ]
     },
     "execution_count": 3,
     "metadata": {},
     "output_type": "execute_result"
    }
   ],
   "source": [
    "# Darian's code\n",
    "def autocov(γs, j):\n",
    "    zeros_to_add = max(0, j-len(γs))\n",
    "    return np.array(γs + [0]*zeros_to_add)\n",
    "\n",
    "j0 = 3\n",
    "z1t = autocov([.5, .2], j=j0)\n",
    "z2t = autocov([2.3, -1.43, .3], j=j0)\n",
    "z3t = z1t + z2t\n",
    "z3t"
   ]
  },
  {
   "cell_type": "markdown",
   "id": "3bc1f585-d30c-4edc-b0be-8725cd388047",
   "metadata": {},
   "source": [
    "TODO : fix iteration - when I remove the print above the return, I don't get the updated list"
   ]
  },
  {
   "cell_type": "code",
   "execution_count": 38,
   "id": "1b20f080-5a6e-4526-b44f-66e2beca1e98",
   "metadata": {},
   "outputs": [],
   "source": [
    "z_1t = []\n",
    "final_z_1t = []\n",
    "\n",
    "# populate values w/ conditions from prob statement\n",
    "def user_in(user_input, eles_z_1t):\n",
    "    \n",
    "\n",
    "    for val in range(user_input):\n",
    "\n",
    "        z_1t = np.empty(user_input)\n",
    "        print(\"z_1t : \", z_1t)\n",
    "\n",
    "        if val == 0 : \n",
    "            z_1t[val] = eles_z_1t[0]\n",
    "        elif val == 1 : \n",
    "            z_1t[val] = eles_z_1t[1]\n",
    "        else :\n",
    "            z_1t[val] = 0\n",
    "            # print(\"z_1t : \", z_1t)\n",
    "        \n",
    "        print(\"z_1t : \", z_1t)\n",
    "    final_z_1t.append(z_1t)\n",
    "    return final_z_1t[0]"
   ]
  },
  {
   "cell_type": "code",
   "execution_count": 42,
   "id": "ee8f8144-3164-4fc7-86b9-1ec1e0147007",
   "metadata": {},
   "outputs": [
    {
     "name": "stdout",
     "output_type": "stream",
     "text": [
      "z_2t :  [ 0.5  -1.43  0.3   0.    0.    0.    0.    0.    0.    0.  ]\n",
      "z_2t :  [0.5 1.2 0.3 0.  0.  0.  0.  0.  0.  0. ]\n"
     ]
    },
    {
     "ename": "IndexError",
     "evalue": "list index out of range",
     "output_type": "error",
     "traceback": [
      "\u001b[0;31m---------------------------------------------------------------------------\u001b[0m",
      "\u001b[0;31mIndexError\u001b[0m                                Traceback (most recent call last)",
      "\u001b[0;32m/var/folders/fz/zn5r8vq12nv5p23dtlr15sk40000gn/T/ipykernel_75675/2177945369.py\u001b[0m in \u001b[0;36m<module>\u001b[0;34m\u001b[0m\n\u001b[1;32m      2\u001b[0m \u001b[0meles_1\u001b[0m \u001b[0;34m=\u001b[0m \u001b[0;34m[\u001b[0m\u001b[0;36m0.5\u001b[0m\u001b[0;34m,\u001b[0m \u001b[0;36m1.2\u001b[0m\u001b[0;34m]\u001b[0m\u001b[0;34m\u001b[0m\u001b[0;34m\u001b[0m\u001b[0m\n\u001b[1;32m      3\u001b[0m \u001b[0;34m\u001b[0m\u001b[0m\n\u001b[0;32m----> 4\u001b[0;31m \u001b[0muser_in\u001b[0m\u001b[0;34m(\u001b[0m\u001b[0muser_input\u001b[0m\u001b[0;34m,\u001b[0m \u001b[0meles_1\u001b[0m\u001b[0;34m)\u001b[0m\u001b[0;34m;\u001b[0m\u001b[0;34m\u001b[0m\u001b[0;34m\u001b[0m\u001b[0m\n\u001b[0m\u001b[1;32m      5\u001b[0m \u001b[0;31m# print(\"\\nz_1 : \", z_1)\u001b[0m\u001b[0;34m\u001b[0m\u001b[0;34m\u001b[0m\u001b[0m\n",
      "\u001b[0;32m/var/folders/fz/zn5r8vq12nv5p23dtlr15sk40000gn/T/ipykernel_75675/1353568782.py\u001b[0m in \u001b[0;36muser_in\u001b[0;34m(user_input, eles_z_2t)\u001b[0m\n\u001b[1;32m     14\u001b[0m             \u001b[0mz_2t\u001b[0m\u001b[0;34m[\u001b[0m\u001b[0mval\u001b[0m\u001b[0;34m]\u001b[0m \u001b[0;34m=\u001b[0m \u001b[0meles_z_2t\u001b[0m\u001b[0;34m[\u001b[0m\u001b[0;36m1\u001b[0m\u001b[0;34m]\u001b[0m\u001b[0;34m\u001b[0m\u001b[0;34m\u001b[0m\u001b[0m\n\u001b[1;32m     15\u001b[0m         \u001b[0;32melif\u001b[0m \u001b[0mval\u001b[0m \u001b[0;34m==\u001b[0m \u001b[0;36m2\u001b[0m \u001b[0;34m:\u001b[0m\u001b[0;34m\u001b[0m\u001b[0;34m\u001b[0m\u001b[0m\n\u001b[0;32m---> 16\u001b[0;31m             \u001b[0mz_2t\u001b[0m\u001b[0;34m[\u001b[0m\u001b[0mval\u001b[0m\u001b[0;34m]\u001b[0m \u001b[0;34m=\u001b[0m \u001b[0meles_z_2t\u001b[0m\u001b[0;34m[\u001b[0m\u001b[0;36m2\u001b[0m\u001b[0;34m]\u001b[0m\u001b[0;34m\u001b[0m\u001b[0;34m\u001b[0m\u001b[0m\n\u001b[0m\u001b[1;32m     17\u001b[0m         \u001b[0;32melse\u001b[0m \u001b[0;34m:\u001b[0m\u001b[0;34m\u001b[0m\u001b[0;34m\u001b[0m\u001b[0m\n\u001b[1;32m     18\u001b[0m             \u001b[0mz_2t\u001b[0m\u001b[0;34m[\u001b[0m\u001b[0mval\u001b[0m\u001b[0;34m]\u001b[0m \u001b[0;34m=\u001b[0m \u001b[0;36m0\u001b[0m\u001b[0;34m\u001b[0m\u001b[0;34m\u001b[0m\u001b[0m\n",
      "\u001b[0;31mIndexError\u001b[0m: list index out of range"
     ]
    }
   ],
   "source": [
    "user_input = 10\n",
    "eles_1 = [0.5, 1.2]\n",
    "\n",
    "user_in(user_input, eles_1)\n",
    "# print(\"\\nz_1 : \", z_1)"
   ]
  },
  {
   "cell_type": "code",
   "execution_count": 39,
   "id": "3e362779-914b-4e0a-9258-095355c14007",
   "metadata": {},
   "outputs": [],
   "source": [
    "z_2t = []\n",
    "final_z_2t = []\n",
    "\n",
    "# populate values w/ conditions from prob statement\n",
    "def user_in(user_input, eles_z_2t) :\n",
    "\n",
    "    for val in range(user_input) :\n",
    "\n",
    "        z_2t = np.empty(user_input)\n",
    "\n",
    "        if val == 0 : \n",
    "            z_2t[val] = eles_z_2t[0]\n",
    "        elif val == 1 : \n",
    "            z_2t[val] = eles_z_2t[1]\n",
    "        elif val == 2 :\n",
    "            z_2t[val] = eles_z_2t[2]\n",
    "        else : \n",
    "            z_2t[val] = 0\n",
    "\n",
    "        print(\"z_2t : \", z_2t)\n",
    "    final_z_2t.append(z_2t)\n",
    "    return final_z_2t[0]"
   ]
  },
  {
   "cell_type": "code",
   "execution_count": 41,
   "id": "9dc0287c-961d-4a0c-b580-ef663fc9f226",
   "metadata": {},
   "outputs": [
    {
     "name": "stdout",
     "output_type": "stream",
     "text": [
      "z_2t :  [ 2.3  -1.43  0.3   0.    0.    0.    0.    0.    0.    0.  ]\n",
      "z_2t :  [ 2.3  -1.43  0.3   0.    0.    0.    0.    0.    0.    0.  ]\n",
      "z_2t :  [ 2.3  -1.43  0.3   0.    0.    0.    0.    0.    0.    0.  ]\n",
      "z_2t :  [ 2.3  -1.43  0.3   0.    0.    0.    0.    0.    0.    0.  ]\n",
      "z_2t :  [ 2.3  -1.43  0.3   0.    0.    0.    0.    0.    0.    0.  ]\n",
      "z_2t :  [ 2.3  -1.43  0.3   0.    0.    0.    0.    0.    0.    0.  ]\n",
      "z_2t :  [ 2.3  -1.43  0.3   0.    0.    0.    0.    0.    0.    0.  ]\n",
      "z_2t :  [ 2.3  -1.43  0.3   0.    0.    0.    0.    0.    0.    0.  ]\n",
      "z_2t :  [ 2.3  -1.43  0.3   0.    0.    0.    0.    0.    0.    0.  ]\n",
      "z_2t :  [ 2.3  -1.43  0.3   0.    0.    0.    0.    0.    0.    0.  ]\n",
      "\n",
      "z_2 :  [ 2.3  -1.43  0.3   0.    0.    0.    0.    0.    0.    0.  ]\n"
     ]
    }
   ],
   "source": [
    "user_input = 10\n",
    "eles_1 = [2.30, -1.43, 0.30]\n",
    "\n",
    "z_2 = user_in(user_input, eles_1)\n",
    "print(\"\\nz_2 : \", z_2);"
   ]
  },
  {
   "cell_type": "code",
   "execution_count": 11,
   "id": "92b1d2e2-96d5-459a-b990-871b262c7c7f",
   "metadata": {},
   "outputs": [
    {
     "name": "stdout",
     "output_type": "stream",
     "text": [
      "z_1 :  [0.5 1.2 0.  0.  0.  0.  0.  0.  0.  0. ]\n",
      "z_2 :  [ 2.3  -1.43  0.3   0.    0.    0.    0.    0.    0.    0.  ]\n",
      "two_z_2t :  [ 4.6  -2.86  0.6   0.    0.    0.    0.    0.    0.    0.  ]\n"
     ]
    }
   ],
   "source": [
    "print(\"z_1 : \", z_1)\n",
    "print(\"z_2 : \", z_2)\n",
    "\n",
    "two_z_2t = 2 * z_2\n",
    "print(\"two_z_2t : \", two_z_2t)"
   ]
  },
  {
   "cell_type": "markdown",
   "id": "8658ed1a-b96b-4980-96a8-5b5a0661ff74",
   "metadata": {},
   "source": [
    "## Covariance \n",
    "\n",
    "1. general func : $ \\gamma{_k}$ = cov[$ z{_t}, z{_t}{_+}{_k} $] = $ E[(z{_t} - \\mu)(z{_t}{_+}{_k} - \\mu)] $\n",
    "\n",
    "2. prob specific func : $ \\gamma{_k}$ = cov[$ z{_1}{_t}, 2z{_2}_t $] = $ E[(z{_1}{_t} - \\mu)(2z{_2}{_t} - \\mu)] $\n",
    "\n",
    "3. **Questions**\n",
    "    -  $ \\mu $ of what? $ z{_t} $ & $z{_t}{_+}{_k} $, respectively?\n",
    "    - both $ z{_t} $ & $z{_t}{_+}{_k} $ must be same size?"
   ]
  },
  {
   "cell_type": "code",
   "execution_count": 36,
   "id": "df174d47-e204-447f-91fb-67dcb4db5740",
   "metadata": {},
   "outputs": [],
   "source": [
    "# apply the 2nd case I have under the \"Covariance\" HEADING to get the cov of this exercise\n",
    "\n",
    "list_cov = []\n",
    "\n",
    "def get_covariance(a, b) :\n",
    "    # print(\"a : \", a)\n",
    "#    print(\"b : \", b)\n",
    "    \n",
    "#     find mean of both z_1t and 2z_2t\n",
    "    mean_a = np.mean(a)\n",
    "    mean_b = np.mean(b)\n",
    "    \n",
    "    # print(\"mean_a : \", mean_a)\n",
    "\n",
    "#     NO FOIL METHOD but should be; just realized\n",
    "    for val in range(len(a)) : \n",
    "        \n",
    "        gamma_k_1 = np.subtract(a[val], mean_a)\n",
    "#        print(\"gamma_k_1 : \", gamma_k_1)\n",
    "\n",
    "        gamma_k_2 = np.subtract(b[val], mean_b)\n",
    "#        print(\"gamma_k_2 : \", gamma_k_2)\n",
    "\n",
    "        gamma_k = gamma_k_1 * gamma_k_2 \n",
    "#        print(\"gamma_k : \", gamma_k, \"\\n\")\n",
    "        \n",
    "        list_cov.append(gamma_k)\n",
    "#    print(\"list_cov : \", list_cov)\n",
    "    return list_cov"
   ]
  },
  {
   "cell_type": "code",
   "execution_count": 37,
   "id": "9329b9de-8907-4d30-9475-8324dc1f808b",
   "metadata": {},
   "outputs": [
    {
     "data": {
      "text/plain": [
       "[1.44078,\n",
       " -3.18682,\n",
       " -0.06221999999999999,\n",
       " 0.039779999999999996,\n",
       " 0.039779999999999996,\n",
       " 0.039779999999999996,\n",
       " 0.039779999999999996,\n",
       " 0.039779999999999996,\n",
       " 0.039779999999999996,\n",
       " 0.039779999999999996]"
      ]
     },
     "execution_count": 37,
     "metadata": {},
     "output_type": "execute_result"
    }
   ],
   "source": [
    "get_covariance(z_1, two_z_2t)\n",
    "# print(\"list_cov : \", y)"
   ]
  },
  {
   "cell_type": "code",
   "execution_count": null,
   "id": "7222daf3-c71d-41d9-8dd8-3859203f0532",
   "metadata": {},
   "outputs": [],
   "source": []
  }
 ],
 "metadata": {
  "kernelspec": {
   "display_name": "Python 3",
   "language": "python",
   "name": "python3"
  },
  "language_info": {
   "codemirror_mode": {
    "name": "ipython",
    "version": 3
   },
   "file_extension": ".py",
   "mimetype": "text/x-python",
   "name": "python",
   "nbconvert_exporter": "python",
   "pygments_lexer": "ipython3",
   "version": "3.7.5"
  }
 },
 "nbformat": 4,
 "nbformat_minor": 5
}
