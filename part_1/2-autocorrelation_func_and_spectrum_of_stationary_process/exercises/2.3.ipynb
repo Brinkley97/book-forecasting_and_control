{
 "cells": [
  {
   "cell_type": "raw",
   "id": "8db8bea4-b46b-4f94-8b0c-ca15e73f0383",
   "metadata": {},
   "source": [
    "W/ out following 2.2.4 Simple Examples of Autocorrelation and Spectral Density Functions"
   ]
  },
  {
   "cell_type": "code",
   "execution_count": 1,
   "id": "eb5cde78-1412-469a-a7b8-c4f9e17a98dc",
   "metadata": {},
   "outputs": [],
   "source": [
    "import numpy as np\n",
    "import pandas as pd"
   ]
  },
  {
   "cell_type": "markdown",
   "id": "40ff15ff-1fd0-479e-8a8d-f0a1251ef256",
   "metadata": {},
   "source": [
    "# Questions/Futher Explore\n",
    "\n",
    "1. Which method is standard when returning a value from a func & calling that func?\n",
    "    - see both user_in func for $ z{_1}{_t} $ & $ z{_2}{_t} $; both have a return statement\n",
    "    - z_1t calls the func w/ out setting it = to some var & printing that var\n",
    "    - z_2t calls the func w/ setting it = to some var & printing that var\n",
    "2. How to combine $ z{_1}{_t} $ & $ z{_2}{_t} $ into one func\n",
    "3. How come the spread at $ \\gamma{_0} $ is 0.5 instead of 0?\n",
    "    - Is it bc the AutoCov is z_t and z_{t+k} but what is k if t = 0?"
   ]
  },
  {
   "cell_type": "markdown",
   "id": "0f5f72bb-dc97-4ea6-b945-0fd032892171",
   "metadata": {
    "tags": []
   },
   "source": [
    "# Problem Statement : \n",
    "- Two stationary stochastic processes $z_{1t} $ and $ z_{2t} $ have the following autocovariance functions (gamma):\n",
    "    1. z$_{1t}$ ∶ $ \\gamma{_0} $ = 0.5, $ \\gamma{_1} $ = 0.2, and when (j $\\ge $ 2), $ \\gamma{_j} $ = 0 \n",
    "    2. z$_{2t}$ ∶ $ \\gamma{_0} $ = 2.30, $ \\gamma{_1} $ = −1.43, $ \\gamma{_2} $ = 0.30, and when (j $\\ge $ 3), $ \\gamma{_j} $ = 0 \n",
    "    \n",
    "---\n",
    "\n",
    "- To understand (1) and (2): \n",
    "    - Remember, the autocovariance function {$ \\gamma_k $} is the plot of $ \\gamma_k $ (y-axis) versus lag *k* (x-axis)\n",
    "    \n",
    "    - $ z_{1t} $ = [$ \\newline $ \n",
    "        $ \\gamma{_0}$ = cov[$ z_{1t}, z_{2t+0} $] = $ E[(z_{1t} - \\mu)(z_{2t+0} - \\mu)] $ = 0.5, $ \\newline $\n",
    "        $ \\gamma{_1}$ = cov[$ z_{1t}, z_{2t + 1} $] = $ E[(z_{1t} - \\mu)(z_{2t + 1} - \\mu)] $ = 0.2, $ \\newline $\n",
    "        $ \\gamma_{k \\ge 2} $ = cov[$ z_{1t}, z_{2t + k} $] = $ E[(z_{1t} - \\mu)(z_{2t + k} - \\mu)] $ = 0\n",
    "        $ \\newline $]\n",
    "    \n",
    "    - $ z_{2t} $ = [$ \\newline $\n",
    "        $ \\gamma{_0}$ = cov[$ z_{1t}, z_{2t + 0} $] = $ E[(z_{1t} - \\mu)(z_{2t + 0} - \\mu)] $ = 2.30, $ \\newline $ \n",
    "        $ \\gamma{_1}$ = cov[$ z_{1t}, z_{2t + 1} $] = $ E[(z_{1t} - \\mu)(z_{2t + 1} - \\mu)] $ = -1.43, $ \\newline $ \n",
    "        $ \\gamma{_2}$ = cov[$ z_{1t}, z_{2t + 2} $] = $ E[(z_{1t} - \\mu)(z_{2t + 2} - \\mu)] $ = 0.30, $ \\newline $ \n",
    "        $ \\gamma_{k \\ge 3} $ = cov[$ z_{1t}, z_{2t + k} $] = $ E[(z_{1t} - \\mu)(z_{2t + k} - \\mu)] $ = 0 \n",
    "        $ \\newline $]\n",
    "\n",
    "        \n",
    "# TODO : \n",
    "   - Calculate the autocovariance function of the process $z_{3t}$ = $ z_{1t} $ + 2$ z_{2t} $\n",
    "       - [x] Create two funcs to populate the above\n",
    "       - [ ] Find covariance between $ z{_t}, z{_t}{_+}{_k} $\n",
    "           - *Don't think I should do this being that I've already been given the autocovariance funcs*\n",
    "   - Verify that it is a valid stationary process"
   ]
  },
  {
   "cell_type": "markdown",
   "id": "560a1fb4-ca37-42fd-b6d4-1319cd166d14",
   "metadata": {
    "tags": []
   },
   "source": [
    "## Darian's code"
   ]
  },
  {
   "cell_type": "code",
   "execution_count": 15,
   "id": "9ca3c486-336f-4af8-b97b-ea09bde07d0d",
   "metadata": {
    "tags": []
   },
   "outputs": [
    {
     "name": "stdout",
     "output_type": "stream",
     "text": [
      "3 - 2\n",
      "1\n",
      "[ 0.5  0.2 30. ]\n",
      "3 - 3\n",
      "0\n",
      "[ 2.3  -1.43  0.3 ]\n"
     ]
    },
    {
     "data": {
      "text/plain": [
       "array([ 2.8 , -1.23, 30.3 ])"
      ]
     },
     "execution_count": 15,
     "metadata": {},
     "output_type": "execute_result"
    }
   ],
   "source": [
    "def autocov(γs, j):\n",
    "    print(j, \"-\", len(γs))\n",
    "    zeros_to_add = max(0, j-len(γs))\n",
    "    print(zeros_to_add)\n",
    "    \n",
    "    return np.array(γs + [30]*zeros_to_add)\n",
    "\n",
    "j0 = 3\n",
    "z1t = autocov([.5, .2], j=j0)\n",
    "print(z1t)\n",
    "z2t = autocov([2.3, -1.43, .3], j=j0)\n",
    "print(z2t)\n",
    "\n",
    "z3t = z1t + z2t\n",
    "z3t"
   ]
  },
  {
   "cell_type": "markdown",
   "id": "0f3f45f1-b07e-4525-bebc-19c0aa7a5963",
   "metadata": {},
   "source": [
    "## My Code"
   ]
  },
  {
   "cell_type": "code",
   "execution_count": 44,
   "id": "603aa247-0e99-40f6-bf89-517b53ec7a5e",
   "metadata": {},
   "outputs": [],
   "source": [
    "def autocovariance(z_1t, z_2t, j):\n",
    "    \"\"\"Calculate the autocovariance of a stochastic process given two stochastic processess z_1t + 2*z_2t = z_3t\n",
    "    \n",
    "    Argument:\n",
    "    z_1t -- py list\n",
    "    z_2t -- py list\n",
    "    j -- int that reps the length\n",
    "    \n",
    "    Return:\n",
    "    z_3t = z_1t + 2*z_2t -- py list\n",
    "    \"\"\"\n",
    "    \n",
    "    # populate 0s starting at indices 2 and 3, respectively/ make same size\n",
    "    if len(z_1t) <= len(z_2t):\n",
    "        z_1t += (len(z_2t) - len(z_1t)) * [0]\n",
    "        print(z_1t, z_2t)\n",
    "        two_z_2t = np.multiply(z_2t, 2)\n",
    "        print(two_z_2t)\n",
    "        \n",
    "        z_3t = z1t + two_z_2t\n",
    "        return z_3t"
   ]
  },
  {
   "cell_type": "code",
   "execution_count": 45,
   "id": "2e26824f-d9e2-4801-95fe-1b362573fe77",
   "metadata": {},
   "outputs": [
    {
     "name": "stdout",
     "output_type": "stream",
     "text": [
      "[0.5, 0.2, 0] [2.3, -1.43, 0.3]\n",
      "[ 4.6  -2.86  0.6 ]\n"
     ]
    },
    {
     "data": {
      "text/plain": [
       "array([ 5.1 , -2.66, 30.6 ])"
      ]
     },
     "execution_count": 45,
     "metadata": {},
     "output_type": "execute_result"
    }
   ],
   "source": [
    "j = 3\n",
    "z_1t = [0.5, 0.2]\n",
    "z_2t = [2.30, -1.43, 0.30]\n",
    "autocovariance(z_1t, z_2t, j)"
   ]
  },
  {
   "cell_type": "markdown",
   "id": "8658ed1a-b96b-4980-96a8-5b5a0661ff74",
   "metadata": {},
   "source": [
    "## Covariance \n",
    "\n",
    "1. general func : $ \\gamma{_k}$ = cov[$ z{_t}, z{_t}{_+}{_k} $] = $ E[(z{_t} - \\mu)(z{_t}{_+}{_k} - \\mu)] $\n",
    "\n",
    "2. prob specific func : $ \\gamma{_k}$ = cov[$ z{_1}{_t}, 2z{_2}_t $] = $ E[(z{_1}{_t} - \\mu)(2z{_2}{_t} - \\mu)] $\n",
    "\n",
    "3. **Questions**\n",
    "    -  $ \\mu $ of what? $ z{_t} $ & $z{_t}{_+}{_k} $, respectively?\n",
    "    - both $ z{_t} $ & $z{_t}{_+}{_k} $ must be same size?"
   ]
  },
  {
   "cell_type": "code",
   "execution_count": 36,
   "id": "df174d47-e204-447f-91fb-67dcb4db5740",
   "metadata": {},
   "outputs": [],
   "source": [
    "# apply the 2nd case I have under the \"Covariance\" HEADING to get the cov of this exercise\n",
    "\n",
    "list_cov = []\n",
    "\n",
    "def get_covariance(a, b) :\n",
    "    # print(\"a : \", a)\n",
    "#    print(\"b : \", b)\n",
    "    \n",
    "#     find mean of both z_1t and 2z_2t\n",
    "    mean_a = np.mean(a)\n",
    "    mean_b = np.mean(b)\n",
    "    \n",
    "    # print(\"mean_a : \", mean_a)\n",
    "\n",
    "#     NO FOIL METHOD but should be; just realized\n",
    "    for val in range(len(a)) : \n",
    "        \n",
    "        gamma_k_1 = np.subtract(a[val], mean_a)\n",
    "#        print(\"gamma_k_1 : \", gamma_k_1)\n",
    "\n",
    "        gamma_k_2 = np.subtract(b[val], mean_b)\n",
    "#        print(\"gamma_k_2 : \", gamma_k_2)\n",
    "\n",
    "        gamma_k = gamma_k_1 * gamma_k_2 \n",
    "#        print(\"gamma_k : \", gamma_k, \"\\n\")\n",
    "        \n",
    "        list_cov.append(gamma_k)\n",
    "#    print(\"list_cov : \", list_cov)\n",
    "    return list_cov"
   ]
  },
  {
   "cell_type": "code",
   "execution_count": 37,
   "id": "9329b9de-8907-4d30-9475-8324dc1f808b",
   "metadata": {},
   "outputs": [
    {
     "data": {
      "text/plain": [
       "[1.44078,\n",
       " -3.18682,\n",
       " -0.06221999999999999,\n",
       " 0.039779999999999996,\n",
       " 0.039779999999999996,\n",
       " 0.039779999999999996,\n",
       " 0.039779999999999996,\n",
       " 0.039779999999999996,\n",
       " 0.039779999999999996,\n",
       " 0.039779999999999996]"
      ]
     },
     "execution_count": 37,
     "metadata": {},
     "output_type": "execute_result"
    }
   ],
   "source": [
    "get_covariance(z_1, two_z_2t)\n",
    "# print(\"list_cov : \", y)"
   ]
  },
  {
   "cell_type": "code",
   "execution_count": null,
   "id": "7222daf3-c71d-41d9-8dd8-3859203f0532",
   "metadata": {},
   "outputs": [],
   "source": []
  }
 ],
 "metadata": {
  "kernelspec": {
   "display_name": "Python 3",
   "language": "python",
   "name": "python3"
  },
  "language_info": {
   "codemirror_mode": {
    "name": "ipython",
    "version": 3
   },
   "file_extension": ".py",
   "mimetype": "text/x-python",
   "name": "python",
   "nbconvert_exporter": "python",
   "pygments_lexer": "ipython3",
   "version": "3.7.5"
  }
 },
 "nbformat": 4,
 "nbformat_minor": 5
}
