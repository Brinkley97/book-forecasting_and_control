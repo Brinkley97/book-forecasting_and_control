{
 "cells": [
  {
   "cell_type": "markdown",
   "id": "17e012e7-24bd-4e00-8c0f-3683df76a054",
   "metadata": {
    "tags": []
   },
   "source": [
    "# Problem Statement\n",
    "\n",
    "1. Calculate $c_{0}, c_{1}, c_{2}, c_{3}, r_{1}, r_{2}, r_{3}$ for the series given in Exercise 2.1. \n",
    "2. Make a graph of $r_{k}$, k = 0, 1, 2, 3\n",
    "\n",
    "3. My interpretation : \n",
    "    - Of the TS in 2.1, find the estimates of both \n",
    "        1. c - autocovariance $(\\hat{\\gamma}_{k})$ \n",
    "        2. r - the autocorrelation $(\\hat{\\rho}_{k})$\n",
    "        3. where k = 0, 1, 2, 3\n",
    "    - Graph the autocorrelations at k\n",
    "        - x-axis : k\n",
    "        - y-axis : value\n",
    "    \n",
    "---\n",
    "# Questions/Futher Explore"
   ]
  },
  {
   "cell_type": "markdown",
   "id": "7dbdf242-1622-4a96-b126-f15559311dc8",
   "metadata": {},
   "source": [
    "# TODO\n",
    "\n",
    "- [x] Load Data\n",
    "\n",
    "- [x] (2.1.12) **Estimate the ACov @ lag k :** $ \\hat{\\gamma}_{k} $ (gamma hat) = 1/N * $ \\sum_{t=1}^{N - k} (z_{t} - \\bar{z})(z_{t+k} - \\bar{z}) $ k = 0, 1, 2,..., K\n",
    "\n",
    "- [x] (2.1.12) Set : $ c_k $ = $ \\hat{\\gamma}_{k} $\n",
    "\n",
    "- [x] (2.1.11) **Estimate the ACor @ lag k :** $ \\hat{\\rho}{_k} $ (rho hat) = $ c_k $ / $ c_0 $\n",
    "\n",
    "- [x] (2.1.11) Set : $ r_k $ to  $ \\hat{\\rho}{_k} $\n",
    "\n",
    "- [ ] Graph $ r_k $"
   ]
  },
  {
   "cell_type": "markdown",
   "id": "ea6fdb11-3dc2-4025-9541-ba296a964c1b",
   "metadata": {},
   "source": [
    "---"
   ]
  },
  {
   "cell_type": "markdown",
   "id": "a16af8c3-f90c-4784-8bbf-27328d5edfe4",
   "metadata": {},
   "source": [
    "---"
   ]
  },
  {
   "cell_type": "code",
   "execution_count": 1,
   "id": "e2c28eb6-9c90-41ce-9181-b29c8b0ba801",
   "metadata": {},
   "outputs": [],
   "source": [
    "import numpy as np\n",
    "import pandas as pd"
   ]
  },
  {
   "cell_type": "markdown",
   "id": "6d2cda3d-0a9a-474d-bbe1-a7e55e053854",
   "metadata": {},
   "source": [
    "## Load Data"
   ]
  },
  {
   "cell_type": "code",
   "execution_count": 3,
   "id": "cf0880d9-c583-41c5-a224-691a98d6565b",
   "metadata": {},
   "outputs": [
    {
     "data": {
      "text/html": [
       "<div>\n",
       "<style scoped>\n",
       "    .dataframe tbody tr th:only-of-type {\n",
       "        vertical-align: middle;\n",
       "    }\n",
       "\n",
       "    .dataframe tbody tr th {\n",
       "        vertical-align: top;\n",
       "    }\n",
       "\n",
       "    .dataframe thead th {\n",
       "        text-align: right;\n",
       "    }\n",
       "</style>\n",
       "<table border=\"1\" class=\"dataframe\">\n",
       "  <thead>\n",
       "    <tr style=\"text-align: right;\">\n",
       "      <th></th>\n",
       "      <th>measurements</th>\n",
       "    </tr>\n",
       "  </thead>\n",
       "  <tbody>\n",
       "    <tr>\n",
       "      <th>0</th>\n",
       "      <td>-213</td>\n",
       "    </tr>\n",
       "    <tr>\n",
       "      <th>1</th>\n",
       "      <td>-564</td>\n",
       "    </tr>\n",
       "    <tr>\n",
       "      <th>2</th>\n",
       "      <td>-35</td>\n",
       "    </tr>\n",
       "    <tr>\n",
       "      <th>3</th>\n",
       "      <td>-15</td>\n",
       "    </tr>\n",
       "    <tr>\n",
       "      <th>4</th>\n",
       "      <td>141</td>\n",
       "    </tr>\n",
       "    <tr>\n",
       "      <th>...</th>\n",
       "      <td>...</td>\n",
       "    </tr>\n",
       "    <tr>\n",
       "      <th>195</th>\n",
       "      <td>-385</td>\n",
       "    </tr>\n",
       "    <tr>\n",
       "      <th>196</th>\n",
       "      <td>198</td>\n",
       "    </tr>\n",
       "    <tr>\n",
       "      <th>197</th>\n",
       "      <td>-218</td>\n",
       "    </tr>\n",
       "    <tr>\n",
       "      <th>198</th>\n",
       "      <td>-536</td>\n",
       "    </tr>\n",
       "    <tr>\n",
       "      <th>199</th>\n",
       "      <td>96</td>\n",
       "    </tr>\n",
       "  </tbody>\n",
       "</table>\n",
       "<p>200 rows × 1 columns</p>\n",
       "</div>"
      ],
      "text/plain": [
       "     measurements\n",
       "0            -213\n",
       "1            -564\n",
       "2             -35\n",
       "3             -15\n",
       "4             141\n",
       "..            ...\n",
       "195          -385\n",
       "196           198\n",
       "197          -218\n",
       "198          -536\n",
       "199            96\n",
       "\n",
       "[200 rows x 1 columns]"
      ]
     },
     "execution_count": 3,
     "metadata": {},
     "output_type": "execute_result"
    }
   ],
   "source": [
    "data = pd.read_csv(\"lewDataset.csv\")\n",
    "data"
   ]
  },
  {
   "cell_type": "code",
   "execution_count": 39,
   "id": "9a1edfa7-7201-478a-8a08-2dfe28eae891",
   "metadata": {},
   "outputs": [
    {
     "data": {
      "text/plain": [
       "(0     -213\n",
       " 1     -564\n",
       " 2      -35\n",
       " 3      -15\n",
       " 4      141\n",
       "       ... \n",
       " 195   -385\n",
       " 196    198\n",
       " 197   -218\n",
       " 198   -536\n",
       " 199     96\n",
       " Name: measurements, Length: 200, dtype: int64,\n",
       " 200,\n",
       " range(0, 50),\n",
       " -177.435)"
      ]
     },
     "execution_count": 39,
     "metadata": {},
     "output_type": "execute_result"
    }
   ],
   "source": [
    "z = data['measurements']\n",
    "# N = len(z)\n",
    "ks = range(0, 50)\n",
    "zbar = np.mean(z)\n",
    "z, N, ks, zbar"
   ]
  },
  {
   "cell_type": "markdown",
   "id": "76db6947-be94-4d9d-ac93-dcc8fc720858",
   "metadata": {},
   "source": [
    "## Estimate AutoCov @ lag k\n",
    "\n",
    "1. **fill in eqs and differences**\n",
    "\n",
    "---\n",
    "\n",
    "- **Variance** is the spread ($\\sigma^{2}$) of a single variable - single distribution\n",
    "    - ***Think :*** \n",
    "        - Why (importance) :\n",
    "\n",
    "- **Covariance** is the spread ($\\gamma$) of two variables - joint distributions (JD)\n",
    "    - cov[X, Y]\n",
    "    - (JD) [Given two random variables that are defined on the same probability space, the joint probability distribution is the corresponding probability distribution on all possible pairs of outputs.] [Wiki](https://en.wikipedia.org/wiki/Joint_probability_distribution)\n",
    "    - ***Think :*** \n",
    "        - var[X] and var[Y] = cov[X, Y]\n",
    "        - So, of these two variables in the same probability space, how do they vary/differ?\n",
    "        - Why (importance) : \n",
    "- **AutoCovariance** is the spread at lag k ($\\gamma_{k}$) of two variables - joint distributions\n",
    "    - $\\gamma_{k}$ = $cov[z{_t}, z_t{_+}{_k}]$ = $E[come back to]$\n",
    "    - ***Think :* **\n",
    "        - covariance but w/ the same variable and different time steps\n",
    "        - So, of these two time steps, spaced k intervals apart, in the same probability space, how do they vary/differ?\n",
    "        - Why (importance) : gather insights (ie : spread or confidence) on the same variable but at different times\n",
    "        \n",
    "- **Estimated AutoCov** is the spread at lag k ($\\hat{\\gamma}_{k}$) of two variables - joint distributions\n",
    "    - $ \\hat{\\gamma}_{k} $ (gamma hat) = 1/N * $ \\sum_{t=1}^{N - k} (z_{t} - \\bar{z})(z_{t+k} - \\bar{z}) $ k = 0, 1, 2,..., K\n",
    "    - ***Think :*** \n",
    "        - We want to find the estimated confidence in our single variable (z) at two different times t and t + k\n",
    "            - Estimated bc we may ! be able to draw an exact value to due the complexity (of data, time it'll take, computations, etc)\n",
    "            - If large, then high variance which results in a wide distribution but if small, then low variance and a narrow distribution\n",
    "            - (?) Can I have a (-) confidence? If so, does this means that I'm ! confident at all?\n",
    "                - Yes, can have a (-) Est AutoCov which implies that...\n",
    "        - ***Analogy - Points in a basketball game of a single player***\n",
    "            - Single variable : points (p)\n",
    "            - p$_t$ : points when t = end of 1st quarter\n",
    "            - $p{_t}{_+}{_k}$ : points when t + k = end of another quarter\n",
    "            - Find the estimated confidence/spread at the end of the 1st quarter compared to the end of another quarter\n",
    "                - Confidence/spread here can be pr() of scoring x points\n",
    "        - Why (importance) : same as AutoCov except here it's an approx bc we may ! be able to get the true value"
   ]
  },
  {
   "cell_type": "code",
   "execution_count": 40,
   "id": "4d2b13c6-ddc7-47d9-b4ce-3e0b1406f14f",
   "metadata": {},
   "outputs": [],
   "source": [
    "def est_autocov(data, lag_k, sample_mean): \n",
    "    \"\"\"\n",
    "    Calculate the estimated autocovariance\n",
    "    \n",
    "    :param data: numerical values in data\n",
    "    :param lag_k: a list of k values\n",
    "    :param sample_mean: mean of the data\n",
    "    :return: a list of tuples (ck idex, ck float value)\n",
    "    \n",
    "    \"\"\"\n",
    "    \n",
    "    gamma_k = 0\n",
    "    \n",
    "    N = len(data)\n",
    "    for t in range(N - lag_k):\n",
    "        # print(t, lag_k)\n",
    "        # when we have a new index of lag_k, hence 0, 1, ..., K\n",
    " \n",
    "        gamma_k += (data[t] - sample_mean) * (data[t + lag_k] - sample_mean)\n",
    "            # print(\"gamma_k : \", t, gamma_k)\n",
    "    return lag_k, gamma_k/N"
   ]
  },
  {
   "cell_type": "code",
   "execution_count": 41,
   "id": "5939c631-099d-4241-a3f0-228d0466c5ad",
   "metadata": {},
   "outputs": [
    {
     "data": {
      "text/plain": [
       "[(0, 76528.56577500004),\n",
       " (1, -23517.595646125),\n",
       " (2, -56657.944042250005),\n",
       " (3, 59285.855336625),\n",
       " (4, 15700.251415500008),\n",
       " (5, -68734.59878062503),\n",
       " (6, 28779.622398249987),\n",
       " (7, 48430.83590212498),\n",
       " (8, -58870.063744),\n",
       " (9, -9556.184915124997),\n",
       " (10, 63098.80773875),\n",
       " (11, -30644.598357374998),\n",
       " (12, -41808.83645349999),\n",
       " (13, 55982.608025375),\n",
       " (14, 5462.814454249996),\n",
       " (15, -57880.60436687498),\n",
       " (16, 30771.480036999994),\n",
       " (17, 36876.433015874994),\n",
       " (18, -53237.202280250014),\n",
       " (19, -2545.668876374998),\n",
       " (20, 53609.00165249999),\n",
       " (21, -31363.055518625006),\n",
       " (22, -32881.37568975001),\n",
       " (23, 51287.719164124996),\n",
       " (24, -48.40695700000298),\n",
       " (25, -50381.45885312501),\n",
       " (26, 31790.64832575),\n",
       " (27, 29733.49325462501),\n",
       " (28, -50070.91021650001),\n",
       " (29, 2004.9606623749976),\n",
       " (30, 48143.22476624997),\n",
       " (31, -32262.69242987499),\n",
       " (32, -27316.240651000004),\n",
       " (33, 49026.011477875),\n",
       " (34, -4012.3941932500006),\n",
       " (35, -45995.155439375005),\n",
       " (36, 33150.225189499964),\n",
       " (37, 24618.676343375),\n",
       " (38, -48694.15205275001),\n",
       " (39, 6429.1827011250025),\n",
       " (40, 44113.56813),\n",
       " (41, -34401.804866124985),\n",
       " (42, -21650.75691225),\n",
       " (43, 47227.019616624995),\n",
       " (44, -8023.863979499998),\n",
       " (45, -41721.06960062501),\n",
       " (46, 34711.10132825001),\n",
       " (47, 19164.135007124998),\n",
       " (48, -46521.27423899998),\n",
       " (49, 10708.647564874998)]"
      ]
     },
     "execution_count": 41,
     "metadata": {},
     "output_type": "execute_result"
    }
   ],
   "source": [
    "c_ks = []\n",
    "\n",
    "for i in range(len(ks)): \n",
    "    c_ks.append(est_autocov(z, ks[i], zbar))\n",
    "    \n",
    "c_ks"
   ]
  },
  {
   "cell_type": "markdown",
   "id": "7b76e398-99a2-4560-8ba5-adce904daa20",
   "metadata": {},
   "source": [
    "## Estimate AutoCor @ lag k"
   ]
  },
  {
   "cell_type": "code",
   "execution_count": 57,
   "id": "957d315a-e751-4f9b-8238-3487c5c97511",
   "metadata": {},
   "outputs": [],
   "source": [
    "def est_autocor(data, lag_k, sample_mean):\n",
    "    c_k = est_autocov(data, lag_k, sample_mean)\n",
    "    # print(\"\\nc_k : \", c_k[1])\n",
    "    cnot = est_autocov(data, 0, sample_mean)\n",
    "    # print(\"cnot : \", cnot[1])\n",
    "    rho_hat_k = np.divide(c_k[1], cnot[1])\n",
    "    # print(\"rho_hat_k : \", rho_hat_k)\n",
    "    return lag_k, np.round(rho_hat_k, 2)"
   ]
  },
  {
   "cell_type": "code",
   "execution_count": 58,
   "id": "eb367083-effd-43f7-af5c-223f7bf0d633",
   "metadata": {},
   "outputs": [
    {
     "data": {
      "text/plain": [
       "[(0, 1.0),\n",
       " (1, -0.31),\n",
       " (2, -0.74),\n",
       " (3, 0.77),\n",
       " (4, 0.21),\n",
       " (5, -0.9),\n",
       " (6, 0.38),\n",
       " (7, 0.63),\n",
       " (8, -0.77),\n",
       " (9, -0.12),\n",
       " (10, 0.82),\n",
       " (11, -0.4),\n",
       " (12, -0.55),\n",
       " (13, 0.73),\n",
       " (14, 0.07),\n",
       " (15, -0.76),\n",
       " (16, 0.4),\n",
       " (17, 0.48),\n",
       " (18, -0.7),\n",
       " (19, -0.03),\n",
       " (20, 0.7),\n",
       " (21, -0.41),\n",
       " (22, -0.43),\n",
       " (23, 0.67),\n",
       " (24, -0.0),\n",
       " (25, -0.66),\n",
       " (26, 0.42),\n",
       " (27, 0.39),\n",
       " (28, -0.65),\n",
       " (29, 0.03),\n",
       " (30, 0.63),\n",
       " (31, -0.42),\n",
       " (32, -0.36),\n",
       " (33, 0.64),\n",
       " (34, -0.05),\n",
       " (35, -0.6),\n",
       " (36, 0.43),\n",
       " (37, 0.32),\n",
       " (38, -0.64),\n",
       " (39, 0.08),\n",
       " (40, 0.58),\n",
       " (41, -0.45),\n",
       " (42, -0.28),\n",
       " (43, 0.62),\n",
       " (44, -0.1),\n",
       " (45, -0.55),\n",
       " (46, 0.45),\n",
       " (47, 0.25),\n",
       " (48, -0.61),\n",
       " (49, 0.14)]"
      ]
     },
     "execution_count": 58,
     "metadata": {},
     "output_type": "execute_result"
    }
   ],
   "source": [
    "r_ks = []\n",
    "\n",
    "for k in range(len(ks)):\n",
    "    # print(\"k : \", k)\n",
    "    r_ks.append(est_autocor(z, k, zbar))\n",
    "r_ks"
   ]
  },
  {
   "cell_type": "markdown",
   "id": "d3d25d0a-8366-4303-be74-c3a74e0deee6",
   "metadata": {},
   "source": [
    "# Graph ks"
   ]
  },
  {
   "cell_type": "code",
   "execution_count": 59,
   "id": "7db4191b-5a6f-47a0-b15c-b1560e42fa4e",
   "metadata": {},
   "outputs": [],
   "source": [
    "import matplotlib.pyplot as plt"
   ]
  },
  {
   "cell_type": "code",
   "execution_count": 63,
   "id": "5c3cb7a6-f1f1-4476-a002-f0270000563e",
   "metadata": {},
   "outputs": [
    {
     "data": {
      "text/plain": [
       "[<matplotlib.lines.Line2D at 0x7f83d8b03760>]"
      ]
     },
     "execution_count": 63,
     "metadata": {},
     "output_type": "execute_result"
    },
    {
     "data": {
      "image/png": "[encoded data removed]",
      "text/plain": [
       "<Figure size 432x288 with 1 Axes>"
      ]
     },
     "metadata": {
      "needs_background": "light"
     },
     "output_type": "display_data"
    }
   ],
   "source": [
    "x = []\n",
    "y = []\n",
    "\n",
    "for idx in range(len(r_ks)):\n",
    "    x.append(r_ks[idx][0])\n",
    "    # print(\"x : \", x)\n",
    "    y.append(r_ks[idx][1])\n",
    "    # print(\"y : \", y, \"\\n\")\n",
    "    \n",
    "fig, ax = plt.subplots()\n",
    "ax.plot(x, y, linewidth=3.0)"
   ]
  },
  {
   "cell_type": "code",
   "execution_count": 64,
   "id": "4de67eac-c5b0-4ef9-8198-5ad73e4f0014",
   "metadata": {},
   "outputs": [
    {
     "data": {
      "image/png": "[encoded data removed]",
      "text/plain": [
       "<Figure size 432x288 with 2 Axes>"
      ]
     },
     "metadata": {
      "needs_background": "light"
     },
     "output_type": "display_data"
    }
   ],
   "source": [
    "# print(k)\n",
    "fig, [ax1, ax2] = plt.subplots(2, 1, sharex=True)\n",
    "ax1.xcorr(x, y, usevlines=True, maxlags=k, normed=True, lw=2)\n",
    "ax1.grid(True)\n",
    "\n",
    "# ks x-axis; pho_k = -pho_k\n",
    "ax2.acorr(y, usevlines=True, normed=True, maxlags=k, lw=2)\n",
    "ax2.grid(True)"
   ]
  },
  {
   "cell_type": "code",
   "execution_count": null,
   "id": "32e92630-3f62-43f9-9217-5705be22dbcc",
   "metadata": {},
   "outputs": [],
   "source": []
  }
 ],
 "metadata": {
  "kernelspec": {
   "display_name": "Python 3 (ipykernel)",
   "language": "python",
   "name": "python3"
  },
  "language_info": {
   "codemirror_mode": {
    "name": "ipython",
    "version": 3
   },
   "file_extension": ".py",
   "mimetype": "text/x-python",
   "name": "python",
   "nbconvert_exporter": "python",
   "pygments_lexer": "ipython3",
   "version": "3.9.7"
  }
 },
 "nbformat": 4,
 "nbformat_minor": 5
}
