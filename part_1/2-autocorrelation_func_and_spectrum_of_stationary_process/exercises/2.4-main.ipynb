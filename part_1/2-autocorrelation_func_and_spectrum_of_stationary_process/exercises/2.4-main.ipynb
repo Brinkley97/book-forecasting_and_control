{
 "cells": [
  {
   "cell_type": "markdown",
   "id": "065f6a8a-a117-4573-8e95-c3543d72c650",
   "metadata": {},
   "source": [
    "# Problem Statement\n",
    "\n",
    "1. Calculate $ c_{0}, c_{1}, c_{2}, c_{3}, r_{1}, r_{2}, r_{3} $ for the series given in Exercise 2.1.\n",
    "2. Make a graph of $ r_{k} $, k = 0, 1, 2, 3\n",
    "\n",
    "3. My interpretation : \n",
    "    - Of the TS in 2.1, find the estimates of both \n",
    "        1. c_k - autocovariance (ACov) $(\\hat{\\gamma}_{k})$ \n",
    "        2. r_k - autocorrelation (ACor) $(\\hat{\\rho}_{k})$\n",
    "        3. where k = 0, 1, 2, 3\n",
    "    - Graph the autocorrelations at k\n",
    "        - x-axis : k\n",
    "        - y-axis : value\n",
    "---\n",
    "- 2.4.1 is using python on book's data\n",
    "- 2.4.1 is using python on [LEW test data](https://www.itl.nist.gov/div898/handbook/eda/section3/eda35c.htm)\n",
    "- 2.4.1 is using pandas on [LEW test data](https://www.itl.nist.gov/div898/handbook/eda/section3/eda35c.htm)"
   ]
  },
  {
   "cell_type": "markdown",
   "id": "49b66f5d-311c-492a-a27a-04212abc26d4",
   "metadata": {},
   "source": [
    "# Questions + Futher Explore\n",
    "1. [LEW dataset](https://www.itl.nist.gov/div898/handbook/eda/section3/eda35c.htm)"
   ]
  },
  {
   "cell_type": "markdown",
   "id": "925d1d6a-b237-444d-8238-d993407d8f42",
   "metadata": {},
   "source": [
    "# TODOs\n",
    "\n",
    "1. [x] Imports + Load Data\n",
    "\n",
    "2. [ ] (2.1.12) **Estimate the ACov @ lag k :** $c_k = \\hat{\\gamma}_{k} $ (gamma hat) = $ {\\dfrac{1}{N}} $ * $ \\sum_{t=1}^{N - k} (z_{t} - \\bar{z})(z_{t+k} - \\bar{z}) \\space$ k = 0, 1, 2,..., K\n",
    "\n",
    "3. [ ] (2.1.11) **Estimate the ACor @ lag k :** $ r_k = \\hat{\\rho}{_k} $ (rho hat) = $ {\\dfrac{c_k}{c_0}} $\n",
    "\n",
    "- [ ] Graph $ r_k $"
   ]
  },
  {
   "cell_type": "markdown",
   "id": "b4d29512-8e7e-4452-a099-a5ab25bc537b",
   "metadata": {},
   "source": [
    "## 1. Imports + Load Data"
   ]
  },
  {
   "cell_type": "code",
   "execution_count": 2,
   "id": "e694b353-a4b1-4f09-a114-a063e22c9c7e",
   "metadata": {},
   "outputs": [],
   "source": [
    "import pandas as pd"
   ]
  },
  {
   "cell_type": "code",
   "execution_count": 5,
   "id": "0dbd9af3-406a-4755-9e90-3189c8382feb",
   "metadata": {},
   "outputs": [],
   "source": [
    "test_data = pd.DataFrame([1, 2, 3])\n",
    "# test_data"
   ]
  },
  {
   "cell_type": "code",
   "execution_count": 6,
   "id": "5b232961-ea80-4863-a2de-1e51f0a4d8cc",
   "metadata": {},
   "outputs": [],
   "source": [
    "data = pd.read_csv(\"lewDataset.csv\")\n",
    "# data"
   ]
  },
  {
   "cell_type": "code",
   "execution_count": null,
   "id": "7b227cea-a412-4e55-901c-030dd54d0e4d",
   "metadata": {},
   "outputs": [],
   "source": [
    "# another way to show the lag\n",
    "# z_t = data\n",
    "# df = pd.concat([data.shift(2), data.shift(1), z_t], axis = 1)\n",
    "# df.columns=[\"zt-2\", \"zt-1\", \"zt\"]\n",
    "# df"
   ]
  },
  {
   "cell_type": "code",
   "execution_count": 19,
   "id": "e9fa653e-ed3c-4b1b-aa44-6501606927a5",
   "metadata": {},
   "outputs": [
    {
     "name": "stdout",
     "output_type": "stream",
     "text": [
      "3\n"
     ]
    }
   ],
   "source": [
    "k = range(0, len(data))\n",
    "\n",
    "df = pd.concat([data, data.shift(-1), data.shift(-2), data.shift(-3)], axis = 1)\n",
    "df.columns=[\"zt\", \"zt+1\", \"zt+2\", \"zt+3\"]\n",
    "# print(df)"
   ]
  },
  {
   "cell_type": "markdown",
   "id": "b9860b3c-1e6e-4447-a63a-a2bd345bfeb2",
   "metadata": {},
   "source": [
    "- Use the `shift` attribute on the df to show the lag (also sliding window)"
   ]
  },
  {
   "cell_type": "markdown",
   "id": "621db00c-53d1-4f1c-aed2-953c5e60c3e8",
   "metadata": {},
   "source": [
    "## Estimate the ACov @ lag k\n",
    "\n",
    "\n",
    "\\begin{align}\n",
    "\\hat{\\gamma}_{k} = \\frac{1}{N} \\times \\sum_{t=1}^{N - k} (z_{t} - \\bar{z})(z_{t+k} - \\bar{z}),\n",
    "\\space where \n",
    "\\end{align}\n",
    "\n",
    "\\begin{align}\n",
    "k = 0, 1, 2,..., K\n",
    "\\end{align}\n",
    "\n",
    "\\begin{align}\n",
    "\\bar{z} = \\sum_{t=1}^{N} \\frac{z_t}{N}\n",
    "\\end{align}\n",
    "\n"
   ]
  },
  {
   "cell_type": "code",
   "execution_count": 8,
   "id": "fc816a71-f85a-43b1-b4dd-1cd1668d727f",
   "metadata": {},
   "outputs": [
    {
     "name": "stdout",
     "output_type": "stream",
     "text": [
      "200\n",
      "-177.435\n",
      "      zt   zt+1   zt+2   zt+3\n",
      "0   -213 -564.0  -35.0  -15.0\n",
      "1   -564  -35.0  -15.0  141.0\n",
      "2    -35  -15.0  141.0  115.0\n",
      "3    -15  141.0  115.0 -420.0\n",
      "4    141  115.0 -420.0 -360.0\n",
      "..   ...    ...    ...    ...\n",
      "195 -385  198.0 -218.0 -536.0\n",
      "196  198 -218.0 -536.0   96.0\n",
      "197 -218 -536.0   96.0    NaN\n",
      "198 -536   96.0    NaN    NaN\n",
      "199   96    NaN    NaN    NaN\n",
      "\n",
      "[200 rows x 4 columns]\n"
     ]
    }
   ],
   "source": [
    "N = len(df)\n",
    "print(N)\n",
    "sample_mean = df[\"zt\"].mean()\n",
    "print(sample_mean)\n",
    "print(df)"
   ]
  },
  {
   "cell_type": "code",
   "execution_count": 9,
   "id": "9257cf60-e6fb-4da4-b21a-adf86cc8e83b",
   "metadata": {},
   "outputs": [
    {
     "data": {
      "text/html": [
       "<div>\n",
       "<style scoped>\n",
       "    .dataframe tbody tr th:only-of-type {\n",
       "        vertical-align: middle;\n",
       "    }\n",
       "\n",
       "    .dataframe tbody tr th {\n",
       "        vertical-align: top;\n",
       "    }\n",
       "\n",
       "    .dataframe thead th {\n",
       "        text-align: right;\n",
       "    }\n",
       "</style>\n",
       "<table border=\"1\" class=\"dataframe\">\n",
       "  <thead>\n",
       "    <tr style=\"text-align: right;\">\n",
       "      <th></th>\n",
       "      <th>zt</th>\n",
       "      <th>zt+1</th>\n",
       "      <th>zt+2</th>\n",
       "      <th>zt+3</th>\n",
       "    </tr>\n",
       "  </thead>\n",
       "  <tbody>\n",
       "    <tr>\n",
       "      <th>0</th>\n",
       "      <td>-35.565</td>\n",
       "      <td>-386.565</td>\n",
       "      <td>142.435</td>\n",
       "      <td>162.435</td>\n",
       "    </tr>\n",
       "    <tr>\n",
       "      <th>1</th>\n",
       "      <td>-386.565</td>\n",
       "      <td>142.435</td>\n",
       "      <td>162.435</td>\n",
       "      <td>318.435</td>\n",
       "    </tr>\n",
       "    <tr>\n",
       "      <th>2</th>\n",
       "      <td>142.435</td>\n",
       "      <td>162.435</td>\n",
       "      <td>318.435</td>\n",
       "      <td>292.435</td>\n",
       "    </tr>\n",
       "    <tr>\n",
       "      <th>3</th>\n",
       "      <td>162.435</td>\n",
       "      <td>318.435</td>\n",
       "      <td>292.435</td>\n",
       "      <td>-242.565</td>\n",
       "    </tr>\n",
       "    <tr>\n",
       "      <th>4</th>\n",
       "      <td>318.435</td>\n",
       "      <td>292.435</td>\n",
       "      <td>-242.565</td>\n",
       "      <td>-182.565</td>\n",
       "    </tr>\n",
       "    <tr>\n",
       "      <th>...</th>\n",
       "      <td>...</td>\n",
       "      <td>...</td>\n",
       "      <td>...</td>\n",
       "      <td>...</td>\n",
       "    </tr>\n",
       "    <tr>\n",
       "      <th>195</th>\n",
       "      <td>-207.565</td>\n",
       "      <td>375.435</td>\n",
       "      <td>-40.565</td>\n",
       "      <td>-358.565</td>\n",
       "    </tr>\n",
       "    <tr>\n",
       "      <th>196</th>\n",
       "      <td>375.435</td>\n",
       "      <td>-40.565</td>\n",
       "      <td>-358.565</td>\n",
       "      <td>273.435</td>\n",
       "    </tr>\n",
       "    <tr>\n",
       "      <th>197</th>\n",
       "      <td>-40.565</td>\n",
       "      <td>-358.565</td>\n",
       "      <td>273.435</td>\n",
       "      <td>NaN</td>\n",
       "    </tr>\n",
       "    <tr>\n",
       "      <th>198</th>\n",
       "      <td>-358.565</td>\n",
       "      <td>273.435</td>\n",
       "      <td>NaN</td>\n",
       "      <td>NaN</td>\n",
       "    </tr>\n",
       "    <tr>\n",
       "      <th>199</th>\n",
       "      <td>273.435</td>\n",
       "      <td>NaN</td>\n",
       "      <td>NaN</td>\n",
       "      <td>NaN</td>\n",
       "    </tr>\n",
       "  </tbody>\n",
       "</table>\n",
       "<p>200 rows × 4 columns</p>\n",
       "</div>"
      ],
      "text/plain": [
       "          zt     zt+1     zt+2     zt+3\n",
       "0    -35.565 -386.565  142.435  162.435\n",
       "1   -386.565  142.435  162.435  318.435\n",
       "2    142.435  162.435  318.435  292.435\n",
       "3    162.435  318.435  292.435 -242.565\n",
       "4    318.435  292.435 -242.565 -182.565\n",
       "..       ...      ...      ...      ...\n",
       "195 -207.565  375.435  -40.565 -358.565\n",
       "196  375.435  -40.565 -358.565  273.435\n",
       "197  -40.565 -358.565  273.435      NaN\n",
       "198 -358.565  273.435      NaN      NaN\n",
       "199  273.435      NaN      NaN      NaN\n",
       "\n",
       "[200 rows x 4 columns]"
      ]
     },
     "execution_count": 9,
     "metadata": {},
     "output_type": "execute_result"
    }
   ],
   "source": [
    "new_df = df - sample_mean\n",
    "new_df"
   ]
  },
  {
   "cell_type": "code",
   "execution_count": 13,
   "id": "dce3a159-d5ab-47bc-95d6-31a66fbab055",
   "metadata": {},
   "outputs": [
    {
     "data": {
      "text/html": [
       "<div>\n",
       "<style scoped>\n",
       "    .dataframe tbody tr th:only-of-type {\n",
       "        vertical-align: middle;\n",
       "    }\n",
       "\n",
       "    .dataframe tbody tr th {\n",
       "        vertical-align: top;\n",
       "    }\n",
       "\n",
       "    .dataframe thead th {\n",
       "        text-align: right;\n",
       "    }\n",
       "</style>\n",
       "<table border=\"1\" class=\"dataframe\">\n",
       "  <thead>\n",
       "    <tr style=\"text-align: right;\">\n",
       "      <th></th>\n",
       "      <th>cks</th>\n",
       "    </tr>\n",
       "  </thead>\n",
       "  <tbody>\n",
       "    <tr>\n",
       "      <th>0</th>\n",
       "      <td>76528.565775</td>\n",
       "    </tr>\n",
       "    <tr>\n",
       "      <th>1</th>\n",
       "      <td>-23517.595646</td>\n",
       "    </tr>\n",
       "    <tr>\n",
       "      <th>2</th>\n",
       "      <td>-56657.944042</td>\n",
       "    </tr>\n",
       "    <tr>\n",
       "      <th>3</th>\n",
       "      <td>59285.855337</td>\n",
       "    </tr>\n",
       "  </tbody>\n",
       "</table>\n",
       "</div>"
      ],
      "text/plain": [
       "            cks\n",
       "0  76528.565775\n",
       "1 -23517.595646\n",
       "2 -56657.944042\n",
       "3  59285.855337"
      ]
     },
     "execution_count": 13,
     "metadata": {},
     "output_type": "execute_result"
    }
   ],
   "source": [
    "zt_vs_zt = (new_df[\"zt\"] * new_df[\"zt\"]).sum() / N\n",
    "zt_vs_zt1 = (new_df[\"zt\"] * new_df[\"zt+1\"]).sum() / N\n",
    "zt_vs_zt2 = (new_df[\"zt\"] * new_df[\"zt+2\"]).sum() / N\n",
    "zt_vs_zt3 = (new_df[\"zt\"] * new_df[\"zt+3\"]).sum() / N\n",
    "\n",
    "c_ks = pd.DataFrame([zt_vs_zt, zt_vs_zt1, zt_vs_zt2, zt_vs_zt3], columns=[\"cks\"])\n",
    "c_ks"
   ]
  },
  {
   "cell_type": "code",
   "execution_count": 14,
   "id": "39f3ac83-2204-41d8-bfa1-0bd9bed52aa4",
   "metadata": {},
   "outputs": [
    {
     "data": {
      "text/plain": [
       "76528.56577499998"
      ]
     },
     "execution_count": 14,
     "metadata": {},
     "output_type": "execute_result"
    }
   ],
   "source": [
    "c_not = c_ks.loc[:, \"cks\"][0]\n",
    "c_not"
   ]
  },
  {
   "cell_type": "code",
   "execution_count": 15,
   "id": "3d41af97-9655-42eb-b941-bd5275ddb0f6",
   "metadata": {},
   "outputs": [
    {
     "data": {
      "text/html": [
       "<div>\n",
       "<style scoped>\n",
       "    .dataframe tbody tr th:only-of-type {\n",
       "        vertical-align: middle;\n",
       "    }\n",
       "\n",
       "    .dataframe tbody tr th {\n",
       "        vertical-align: top;\n",
       "    }\n",
       "\n",
       "    .dataframe thead th {\n",
       "        text-align: right;\n",
       "    }\n",
       "</style>\n",
       "<table border=\"1\" class=\"dataframe\">\n",
       "  <thead>\n",
       "    <tr style=\"text-align: right;\">\n",
       "      <th></th>\n",
       "      <th>r_ks</th>\n",
       "    </tr>\n",
       "  </thead>\n",
       "  <tbody>\n",
       "    <tr>\n",
       "      <th>0</th>\n",
       "      <td>1.000000</td>\n",
       "    </tr>\n",
       "    <tr>\n",
       "      <th>1</th>\n",
       "      <td>-0.307305</td>\n",
       "    </tr>\n",
       "    <tr>\n",
       "      <th>2</th>\n",
       "      <td>-0.740350</td>\n",
       "    </tr>\n",
       "    <tr>\n",
       "      <th>3</th>\n",
       "      <td>0.774689</td>\n",
       "    </tr>\n",
       "  </tbody>\n",
       "</table>\n",
       "</div>"
      ],
      "text/plain": [
       "       r_ks\n",
       "0  1.000000\n",
       "1 -0.307305\n",
       "2 -0.740350\n",
       "3  0.774689"
      ]
     },
     "execution_count": 15,
     "metadata": {},
     "output_type": "execute_result"
    }
   ],
   "source": [
    "rho_hat_k = c_ks / c_not\n",
    "rho_hat_k.columns=[\"r_ks\"]\n",
    "rho_hat_k"
   ]
  },
  {
   "cell_type": "code",
   "execution_count": null,
   "id": "f2e8ed5c-a29e-405c-b452-749bf73f9774",
   "metadata": {},
   "outputs": [],
   "source": [
    "def acov(N, z_bar, df):\n",
    "    \"\"\"Given the data, calculate the autocovariance\n",
    "    \n",
    "    Parameters:\n",
    "    df -- pd DataFrame\n",
    "    \n",
    "    Return:\n",
    "    autocovariance -- int\n",
    "    \"\"\"\n",
    "    \n",
    "    \n",
    "    # zt_zbar_df = z_t_df.subtract(z_bar) \n",
    "    # print(zt_zbar_df)\n",
    "    \n",
    "    # ztk_zbar_df = z_t_k_df.subtract(z_bar)\n",
    "    # print(ztk_zbar_df)\n",
    "    \n",
    "    # zz = zt_zbar_df.mul(ztk_zbar_df)\n",
    "    # gamma_k = zz.cumsum()\n",
    "    \n",
    "    # z_df = pd.concat([zt_zbar_df, ztk_zbar_df, zz, gamma_k], axis = 1)\n",
    "    # z_df.columns=[\"zt_zbar\", \"ztk_zbar\", \"zz\", \"gamma_k\"]\n",
    "    \n",
    "\n",
    "    # print(z_df)\n",
    "    \n",
    "    # z_df[\"gamma_k\"] = 0\n",
    "    # z_df[\"gamma_k\"] = (z_df.loc[:, \"zt_zbar\"] * z_df.loc[:, \"ztk_zbar\"])\n",
    "    # z_df[\"gamma_k\"] =  z_df[\"zz\"].cumsum()\n",
    "    # z_df[\"c\"] = (z_df.loc[:, \"zt_zbar\"] * z_df.loc[:, \"ztk_zbar\"]).cumsum()\n",
    "\n",
    "    # z_df[\"d\"] = z_df[\"c\"].div(N) \n",
    "    \n",
    "    \n",
    "    # df = z_df.iloc[::-1].reset_index(drop=True).head()\n",
    "    \n",
    "    \n",
    "    return df, df/N"
   ]
  },
  {
   "cell_type": "code",
   "execution_count": null,
   "id": "295584c4-8d29-45a7-b0f0-bac151c5a5f1",
   "metadata": {},
   "outputs": [],
   "source": [
    "gamma_hat_k,  gamma_hat_kn= acov(N, sample_mean, df)\n",
    "gamma_hat_k"
   ]
  },
  {
   "cell_type": "code",
   "execution_count": null,
   "id": "180042ef-9d9c-4f62-a363-3af64b51c941",
   "metadata": {},
   "outputs": [],
   "source": [
    "gamma_hat_kn"
   ]
  },
  {
   "cell_type": "markdown",
   "id": "71549a79-2caf-4ede-aa5d-80114eaa5431",
   "metadata": {},
   "source": [
    "## TODO 2"
   ]
  },
  {
   "cell_type": "code",
   "execution_count": null,
   "id": "c9ce1c4f-547e-482f-bf8d-d11b92f8c025",
   "metadata": {},
   "outputs": [],
   "source": [
    "def acor(c_k, c_0):\n",
    "    \"\"\"Given the data, calculate the autocorrelation\n",
    "    \n",
    "    Parameters:\n",
    "    df -- pd DataFrame\n",
    "    \n",
    "    Return:\n",
    "    autocorrelation -- int\n",
    "    \"\"\"\n",
    "    \n",
    "    rho_hat_k = c_k / c_0\n",
    "    \n",
    "    return rho_hat_k"
   ]
  },
  {
   "cell_type": "code",
   "execution_count": null,
   "id": "4286c205-5e50-461f-9def-4d9dd32f62ed",
   "metadata": {},
   "outputs": [],
   "source": [
    "acor(gamma_hat_k, c_0)"
   ]
  },
  {
   "cell_type": "code",
   "execution_count": null,
   "id": "dff920f1-b4c3-44a4-9ad4-47afb2c664af",
   "metadata": {},
   "outputs": [],
   "source": []
  }
 ],
 "metadata": {
  "kernelspec": {
   "display_name": "Python 3",
   "language": "python",
   "name": "python3"
  },
  "language_info": {
   "codemirror_mode": {
    "name": "ipython",
    "version": 3
   },
   "file_extension": ".py",
   "mimetype": "text/x-python",
   "name": "python",
   "nbconvert_exporter": "python",
   "pygments_lexer": "ipython3",
   "version": "3.7.5"
  }
 },
 "nbformat": 4,
 "nbformat_minor": 5
}
