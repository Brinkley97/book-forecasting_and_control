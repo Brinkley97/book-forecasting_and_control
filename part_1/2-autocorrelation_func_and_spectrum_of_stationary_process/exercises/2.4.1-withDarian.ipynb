{
 "cells": [
  {
   "cell_type": "markdown",
   "id": "17e012e7-24bd-4e00-8c0f-3683df76a054",
   "metadata": {
    "tags": []
   },
   "source": [
    "# Problem Statement\n",
    "\n",
    "- See [2.4-mainWithGoalAndNotes.ipynb](https://github.com/Brinkley97/book-forecasting_and_control/blob/main/part_1/2-autocorrelation_func_and_spectrum_of_stationary_process/exercises/2.4-mainWithGoalAndNotes.ipynb)\n",
    "\n",
    "- See [2.4.2-calculateAndPlotAcovAcor.ipynb](https://github.com/Brinkley97/book-forecasting_and_control/blob/main/part_1/2-autocorrelation_func_and_spectrum_of_stationary_process/exercises/2.4.2-calculateAndPlotAcovAcor.ipynb)"
   ]
  },
  {
   "cell_type": "markdown",
   "id": "7dbdf242-1622-4a96-b126-f15559311dc8",
   "metadata": {},
   "source": [
    "# TODO\n",
    "\n",
    "- [x] Load Data\n",
    "\n",
    "- [x] (2.1.12) **Estimate the ACov @ lag k :** $ \\hat{\\gamma}_{k} $ (gamma hat) = 1/N * $ \\sum_{t=1}^{N - k} (z_{t} - \\bar{z})(z_{t+k} - \\bar{z}) $ k = 0, 1, 2,..., K\n",
    "\n",
    "- [x] (2.1.12) Set : $ c_k $ = $ \\hat{\\gamma}_{k} $\n",
    "\n",
    "- [x] (2.1.11) **Estimate the ACor @ lag k :** $ \\hat{\\rho}{_k} $ (rho hat) = $ c_k $ / $ c_0 $\n",
    "\n",
    "- [x] (2.1.11) Set : $ r_k $ to  $ \\hat{\\rho}{_k} $\n",
    "\n",
    "- [x] Graph $ r_k $"
   ]
  },
  {
   "cell_type": "markdown",
   "id": "a16af8c3-f90c-4784-8bbf-27328d5edfe4",
   "metadata": {},
   "source": [
    "---"
   ]
  },
  {
   "cell_type": "code",
   "execution_count": 1,
   "id": "e2c28eb6-9c90-41ce-9181-b29c8b0ba801",
   "metadata": {},
   "outputs": [],
   "source": [
    "import numpy as np"
   ]
  },
  {
   "cell_type": "markdown",
   "id": "6d2cda3d-0a9a-474d-bbe1-a7e55e053854",
   "metadata": {},
   "source": [
    "## Load Data"
   ]
  },
  {
   "cell_type": "code",
   "execution_count": 2,
   "id": "cf0880d9-c583-41c5-a224-691a98d6565b",
   "metadata": {},
   "outputs": [],
   "source": [
    "z = [200, 202, 208, 204, 204, 207, 207, 204, 202, 199, 201, 198, 200, \n",
    "        202, 203, 205, 207, 211, 204, 206, 203, 203, 201, 198, 200, 206, \n",
    "        207, 206, 200, 203, 203, 200, 200, 195, 202, 204, 207, 206, 200]"
   ]
  },
  {
   "cell_type": "code",
   "execution_count": 12,
   "id": "9a1edfa7-7201-478a-8a08-2dfe28eae891",
   "metadata": {},
   "outputs": [
    {
     "data": {
      "text/plain": [
       "(39, [0, 1, 2, 3], 203.02564102564102)"
      ]
     },
     "execution_count": 12,
     "metadata": {},
     "output_type": "execute_result"
    }
   ],
   "source": [
    "N = len(z)\n",
    "ks = [0, 1, 2, 3]\n",
    "zbar = np.mean(z)\n",
    "N, ks, zbar"
   ]
  },
  {
   "cell_type": "code",
   "execution_count": 25,
   "id": "4d2b13c6-ddc7-47d9-b4ce-3e0b1406f14f",
   "metadata": {},
   "outputs": [],
   "source": [
    "def est_autocov(data, lag_k, sample_mean): \n",
    "    \"\"\"\n",
    "    Calculate the estimated autocovariance\n",
    "    \n",
    "    :param data: numerical values in data\n",
    "    :param lag_k: a list of k values\n",
    "    :param sample_mean: mean of the data\n",
    "    :return: a list of tuples (ck idex, ck float value)\n",
    "    \n",
    "    \"\"\"\n",
    "    \n",
    "    gamma_k = 0\n",
    "    \n",
    "    N = len(data)\n",
    "    for t in range(N - lag_k):\n",
    "        # print(\"t: \", t)\n",
    " \n",
    "        gamma_k += (data[t] - sample_mean) * (data[t + lag_k] - sample_mean)\n",
    "        # print(gamma_k)\n",
    "    print(\"Lag: \", lag_k, \"@ Last gamma_k:\", gamma_k)\n",
    "            \n",
    "    return lag_k, gamma_k/N"
   ]
  },
  {
   "cell_type": "code",
   "execution_count": 26,
   "id": "5939c631-099d-4241-a3f0-228d0466c5ad",
   "metadata": {},
   "outputs": [
    {
     "name": "stdout",
     "output_type": "stream",
     "text": [
      "Lag:  0 @ Last gamma_k: 418.9743589743591\n",
      "Lag:  1 @ Last gamma_k: 195.81985535831697\n",
      "Lag:  2 @ Last gamma_k: 49.87047994740301\n",
      "Lag:  3 @ Last gamma_k: -56.89940828402367\n"
     ]
    },
    {
     "data": {
      "text/plain": [
       "[(0, 10.742932281393824),\n",
       " (1, 5.021021932264538),\n",
       " (2, 1.2787302550616158),\n",
       " (3, -1.4589591867698377)]"
      ]
     },
     "execution_count": 26,
     "metadata": {},
     "output_type": "execute_result"
    }
   ],
   "source": [
    "c_ks = []\n",
    "\n",
    "for i in range(len(ks)): \n",
    "    # print(\"i: \", i)\n",
    "    c_ks.append(est_autocov(z, ks[i], zbar))\n",
    "    \n",
    "c_ks"
   ]
  },
  {
   "cell_type": "code",
   "execution_count": 31,
   "id": "957d315a-e751-4f9b-8238-3487c5c97511",
   "metadata": {},
   "outputs": [],
   "source": [
    "def est_autocor(data, lag_k, sample_mean):\n",
    "    c_k = est_autocov(data, lag_k, sample_mean)\n",
    "    # print(\"\\nc_k : \", c_k[1])\n",
    "    cnot = est_autocov(data, 0, sample_mean)\n",
    "    # print(\"cnot : \", cnot[1])\n",
    "    print(c_k[1], cnot[1])\n",
    "    rho_hat_k = np.divide(c_k[1], cnot[1])\n",
    "    # print(\"rho_hat_k : \", rho_hat_k)\n",
    "    return lag_k, rho_hat_k"
   ]
  },
  {
   "cell_type": "code",
   "execution_count": 32,
   "id": "eb367083-effd-43f7-af5c-223f7bf0d633",
   "metadata": {},
   "outputs": [
    {
     "name": "stdout",
     "output_type": "stream",
     "text": [
      "Lag:  0 @ Last gamma_k: 418.9743589743591\n",
      "Lag:  0 @ Last gamma_k: 418.9743589743591\n",
      "10.742932281393824 10.742932281393824\n",
      "Lag:  1 @ Last gamma_k: 195.81985535831697\n",
      "Lag:  0 @ Last gamma_k: 418.9743589743591\n",
      "5.021021932264538 10.742932281393824\n",
      "Lag:  2 @ Last gamma_k: 49.87047994740301\n",
      "Lag:  0 @ Last gamma_k: 418.9743589743591\n",
      "1.2787302550616158 10.742932281393824\n",
      "Lag:  3 @ Last gamma_k: -56.89940828402367\n",
      "Lag:  0 @ Last gamma_k: 418.9743589743591\n",
      "-1.4589591867698377 10.742932281393824\n"
     ]
    },
    {
     "data": {
      "text/plain": [
       "[(0, 1.0),\n",
       " (1, 0.4673790917364969),\n",
       " (2, 0.11902990929918708),\n",
       " (3, -0.13580642124093772)]"
      ]
     },
     "execution_count": 32,
     "metadata": {},
     "output_type": "execute_result"
    }
   ],
   "source": [
    "r_ks = []\n",
    "\n",
    "for k in range(len(ks)):\n",
    "    # print(\"k : \", k)\n",
    "    r_ks.append(est_autocor(z, k, zbar))\n",
    "r_ks"
   ]
  },
  {
   "cell_type": "code",
   "execution_count": 8,
   "id": "7db4191b-5a6f-47a0-b15c-b1560e42fa4e",
   "metadata": {},
   "outputs": [],
   "source": [
    "import matplotlib.pyplot as plt"
   ]
  },
  {
   "cell_type": "code",
   "execution_count": 9,
   "id": "ea3acf01-27a9-44a9-8c9d-426b72d8aa02",
   "metadata": {},
   "outputs": [],
   "source": [
    "class Plots: \n",
    "        \n",
    "    def line_plot(self, x, y):\n",
    "        fig, ax = plt.subplots()\n",
    "        ax.plot(x, y, linewidth=3.0)\n",
    "        \n",
    "    def autocor_plot(self, x, y):\n",
    "        fig, [ax1, ax2] = plt.subplots(2, 1)\n",
    "        ax1.xcorr(x, y, maxlags=ks[-1], usevlines = True, normed = True, lw=2)\n",
    "        ax1.grid(True)\n",
    "\n",
    "        # ks x-axis; pho_k = -pho_k\n",
    "        ax2.acorr(y, maxlags=ks[-1], usevlines = True, normed = True, lw=2)\n",
    "        ax2.grid(True)\n",
    "\n",
    "        # plt.title(\"Autocorrelation\")\n",
    "        plt.xlabel('Lags')\n",
    "        plt.ylabel('Autocorrelation')"
   ]
  },
  {
   "cell_type": "code",
   "execution_count": 10,
   "id": "5c3cb7a6-f1f1-4476-a002-f0270000563e",
   "metadata": {},
   "outputs": [],
   "source": [
    "def graph_est_autocor(x, y, len_rks):\n",
    "    \n",
    "    for idx in range(len_rks):\n",
    "        x.append(r_ks[idx][0])\n",
    "        # print(\"x : \", x)\n",
    "        y.append(r_ks[idx][1])\n",
    "        # print(\"y : \", y, \"\\n\")\n",
    "    plots = Plots()\n",
    "    plots.line_plot(x, y)\n",
    "    plots.autocor_plot(x, y)"
   ]
  },
  {
   "cell_type": "code",
   "execution_count": 11,
   "id": "20d5a2ad-5899-4a91-b68a-7c175a93862a",
   "metadata": {},
   "outputs": [
    {
     "data": {
      "image/png": "[encoded data removed]",
      "text/plain": [
       "<Figure size 640x480 with 1 Axes>"
      ]
     },
     "metadata": {},
     "output_type": "display_data"
    },
    {
     "data": {
      "image/png": "[encoded data removed]",
      "text/plain": [
       "<Figure size 640x480 with 2 Axes>"
      ]
     },
     "metadata": {},
     "output_type": "display_data"
    }
   ],
   "source": [
    "lags = []\n",
    "autocor = []\n",
    "len_rks = len(r_ks)\n",
    "graph_est_autocor(lags, autocor, len_rks)"
   ]
  },
  {
   "cell_type": "code",
   "execution_count": null,
   "id": "32e92630-3f62-43f9-9217-5705be22dbcc",
   "metadata": {},
   "outputs": [],
   "source": []
  }
 ],
 "metadata": {
  "kernelspec": {
   "display_name": "Python 3 (ipykernel)",
   "language": "python",
   "name": "python3"
  },
  "language_info": {
   "codemirror_mode": {
    "name": "ipython",
    "version": 3
   },
   "file_extension": ".py",
   "mimetype": "text/x-python",
   "name": "python",
   "nbconvert_exporter": "python",
   "pygments_lexer": "ipython3",
   "version": "3.9.7"
  }
 },
 "nbformat": 4,
 "nbformat_minor": 5
}
