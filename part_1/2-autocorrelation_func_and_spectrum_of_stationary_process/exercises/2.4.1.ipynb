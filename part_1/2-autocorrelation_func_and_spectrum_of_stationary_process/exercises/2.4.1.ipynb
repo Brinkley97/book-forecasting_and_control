{
 "cells": [
  {
   "cell_type": "markdown",
   "id": "17e012e7-24bd-4e00-8c0f-3683df76a054",
   "metadata": {
    "tags": []
   },
   "source": [
    "# Problem Statement\n",
    "\n",
    "1. Calculate $c_{0}, c_{1}, c_{2}, c_{3}, r_{1}, r_{2}, r_{3}$ for the series given in Exercise 2.1. \n",
    "2. Make a graph of $r_{k}$, k = 0, 1, 2, 3\n",
    "\n",
    "3. My interpretation : \n",
    "    - Of the TS in 2.1, find the estimates of both \n",
    "        1. c - autocovariance $(\\hat{\\gamma}_{k})$ \n",
    "        2. r - the autocorrelation $(\\hat{\\rho}_{k})$\n",
    "        3. where k = 0, 1, 2, 3\n",
    "    - Graph the autocorrelations at k\n",
    "        - x-axis : k\n",
    "        - y-axis : value\n",
    "    \n",
    "---\n",
    "# Questions/Futher Explore"
   ]
  },
  {
   "cell_type": "markdown",
   "id": "7dbdf242-1622-4a96-b126-f15559311dc8",
   "metadata": {},
   "source": [
    "# TODO\n",
    "\n",
    "- [x] Load Data\n",
    "\n",
    "- [x] (2.1.12) **Estimate the ACov @ lag k :** $ \\hat{\\gamma}_{k} $ (gamma hat) = 1/N * $ \\sum_{t=1}^{N - k} (z_{t} - \\bar{z})(z_{t+k} - \\bar{z}) $ k = 0, 1, 2,..., K\n",
    "\n",
    "- [x] (2.1.12) Set : $ c_k $ = $ \\hat{\\gamma}_{k} $\n",
    "\n",
    "- [x] (2.1.11) **Estimate the ACor @ lag k :** $ \\hat{\\rho}{_k} $ (rho hat) = $ c_k $ / $ c_0 $\n",
    "\n",
    "- [x] (2.1.11) Set : $ r_k $ to  $ \\hat{\\rho}{_k} $\n",
    "\n",
    "- [x] Graph $ r_k $"
   ]
  },
  {
   "cell_type": "markdown",
   "id": "ea6fdb11-3dc2-4025-9541-ba296a964c1b",
   "metadata": {},
   "source": [
    "---"
   ]
  },
  {
   "cell_type": "markdown",
   "id": "a16af8c3-f90c-4784-8bbf-27328d5edfe4",
   "metadata": {},
   "source": [
    "---"
   ]
  },
  {
   "cell_type": "code",
   "execution_count": 5,
   "id": "e2c28eb6-9c90-41ce-9181-b29c8b0ba801",
   "metadata": {},
   "outputs": [],
   "source": [
    "import numpy as np"
   ]
  },
  {
   "cell_type": "markdown",
   "id": "6d2cda3d-0a9a-474d-bbe1-a7e55e053854",
   "metadata": {},
   "source": [
    "## Load Data"
   ]
  },
  {
   "cell_type": "code",
   "execution_count": 6,
   "id": "cf0880d9-c583-41c5-a224-691a98d6565b",
   "metadata": {},
   "outputs": [],
   "source": [
    "z = [200, 202, 208, 204, 204, 207, 207, 204, 202, 199, 201, 198, 200, \n",
    "        202, 203, 205, 207, 211, 204, 206, 203, 203, 201, 198, 200, 206, \n",
    "        207, 206, 200, 203, 203, 200, 200, 195, 202, 204, 207, 206, 200]"
   ]
  },
  {
   "cell_type": "code",
   "execution_count": 7,
   "id": "9a1edfa7-7201-478a-8a08-2dfe28eae891",
   "metadata": {},
   "outputs": [
    {
     "data": {
      "text/plain": [
       "(39, [0, 1, 2, 3], 203.02564102564102)"
      ]
     },
     "execution_count": 7,
     "metadata": {},
     "output_type": "execute_result"
    }
   ],
   "source": [
    "N = len(z)\n",
    "ks = [0, 1, 2, 3]\n",
    "zbar = np.mean(z)\n",
    "N, ks, zbar"
   ]
  },
  {
   "cell_type": "markdown",
   "id": "76db6947-be94-4d9d-ac93-dcc8fc720858",
   "metadata": {},
   "source": [
    "## Estimate AutoCov @ lag k\n",
    "\n",
    "1. **fill in eqs and differences**\n",
    "\n",
    "---\n",
    "\n",
    "- **Variance** is the spread ($\\sigma^{2}$) of a single variable - single distribution\n",
    "    - $\\sigma^{2}$ = E [($z{_t} - \\mu){^2}$] = $\\int_{-\\infty}^{\\infty}$ ($z - \\mu){^2}$ * p(z) dz\n",
    "    - ***Think :*** \n",
    "        - Why (importance) : determine the confidence of our distribution\n",
    "\n",
    "- **Sample Variance** of the stochastic process with the same pr() distribution p(z) being the same for all times t, the variance $\\sigma_{z}^{2}$ can be estimated\n",
    "    - $\\sigma_{z}^{2}$ = 1/N $\\sum_{t=1}^N (z{_t} - \\bar{z})$, where $\\bar{z}$ is the sample mean\n",
    "    - ***Think :*** \n",
    "        - Why (importance) : estimate the confidence of our distribution bc (1) it's the same for all times t and (2) it may be computationally expensive to find the actual variance $\\sigma$\n",
    "    \n",
    "- **Covariance** is the spread ($\\gamma$) of two variables - joint distributions (JD)\n",
    "    - $\\sigma$[X, Y]\n",
    "    - (JD) [Given two random variables that are defined on the same probability space, the joint probability distribution is the corresponding probability distribution on all possible pairs of outputs.] [Wiki](https://en.wikipedia.org/wiki/Joint_probability_distribution)\n",
    "    - ***Think :*** \n",
    "        - V[X] and V[Y] = cov[X, Y]\n",
    "        - Why (importance) : So, of these two variables in the same probability space, how do they vary/differ? If low, then low confidence then they differ a great bit which results in a wide distribution? \n",
    "        \n",
    "- **AutoCovariance** is the spread at lag k ($\\gamma_{k}$) of two variables - joint distributions\n",
    "    - $\\gamma_{k}$ = $cov[z{_t}, z_t{_+}{_k}]$ = $E[(z{_t} - \\mu)(z_t{_+}{_k} - \\mu)]$\n",
    "    - ***Think :***\n",
    "        - covariance but w/ the same variable and different time steps\n",
    "        - So, of these two time steps, spaced k intervals apart, in the same probability space, how do they vary/differ?\n",
    "        - Why (importance) : gather insights (ie : spread or confidence) on the same variable but at different times t and t + k\n",
    "        \n",
    "- **Estimated AutoCov** is the spread at lag k ($\\hat{\\gamma}_{k}$) of two variables - joint distributions\n",
    "    - $ \\hat{\\gamma}_{k} $ (gamma hat) = 1/N * $ \\sum_{t=1}^{N - k} (z_{t} - \\bar{z})(z_{t+k} - \\bar{z}) $ k = 0, 1, 2,..., K\n",
    "    - ***Think :*** \n",
    "        - We want to find the estimated confidence in our single variable (z) at two different times t and t + k\n",
    "            - Estimated bc we may ! be able to draw an exact value to due the complexity (of data, time it'll take, computations, etc)\n",
    "            - If large, then high variance which results in a wide distribution but if small, then low variance and a narrow distribution\n",
    "            - (?) Can I have a (-) confidence? If so, does this means that I'm ! confident at all?\n",
    "                - Yes, can have a (-) Est AutoCov which implies that the value falls to the left of 0 when looking at the distribution curve.\n",
    "        - ***Analogy - Points in a basketball game of a single player***\n",
    "            - Single variable : points (p)\n",
    "            - p$_t$ : points when t = end of 1st quarter\n",
    "            - $p{_t}{_+}{_k}$ : points when t + k = end of another quarter\n",
    "            - Find the estimated confidence/spread at the end of the 1st quarter compared to the end of another quarter\n",
    "                - Confidence/spread here can be pr() of scoring x points\n",
    "        - Why (importance) : same as AutoCov except here it's an approx bc we may ! be able to get the true value"
   ]
  },
  {
   "cell_type": "code",
   "execution_count": 8,
   "id": "4d2b13c6-ddc7-47d9-b4ce-3e0b1406f14f",
   "metadata": {},
   "outputs": [],
   "source": [
    "def est_autocov(data, lag_k, sample_mean): \n",
    "    \"\"\"\n",
    "    Calculate the estimated autocovariance\n",
    "    \n",
    "    :param data: numerical values in data\n",
    "    :param lag_k: a list of k values\n",
    "    :param sample_mean: mean of the data\n",
    "    :return: a list of tuples (ck idex, ck float value)\n",
    "    \n",
    "    \"\"\"\n",
    "    \n",
    "    gamma_k = 0\n",
    "    \n",
    "    N = len(data)\n",
    "    for t in range(N - lag_k):\n",
    " \n",
    "        gamma_k += (data[t] - sample_mean) * (data[t + lag_k] - sample_mean)\n",
    "            \n",
    "    return lag_k, gamma_k/N"
   ]
  },
  {
   "cell_type": "code",
   "execution_count": 9,
   "id": "5939c631-099d-4241-a3f0-228d0466c5ad",
   "metadata": {},
   "outputs": [
    {
     "data": {
      "text/plain": [
       "[(0, 10.742932281393824),\n",
       " (1, 5.021021932264538),\n",
       " (2, 1.2787302550616158),\n",
       " (3, -1.4589591867698377)]"
      ]
     },
     "execution_count": 9,
     "metadata": {},
     "output_type": "execute_result"
    }
   ],
   "source": [
    "c_ks = []\n",
    "\n",
    "for i in range(len(ks)): \n",
    "    c_ks.append(est_autocov(z, ks[i], zbar))\n",
    "    \n",
    "c_ks"
   ]
  },
  {
   "cell_type": "markdown",
   "id": "7b76e398-99a2-4560-8ba5-adce904daa20",
   "metadata": {},
   "source": [
    "## Estimate AutoCor @ lag k\n",
    "\n",
    "- [Correlation, AutoCor, and Correlogram](https://www.youtube.com/watch?v=Aft25mI1ffw)\n",
    "- **Correlation** is the measure of the relationship between two items or vars\n",
    "    - ie : \n",
    "        - (+) #gallons and $ amount spent\n",
    "        - (-) miles traveled and amount gas left in tank\n",
    "\n",
    "- **AutoCorrelation** is the measure of the relationship between the same var but at different times (t and t + k)\n",
    "    - Why : \n",
    "        - To determine if data is random. Where do t and t + k stop correlating? That's when $ \\exists $ no relationship/ no significance so can disregard\n",
    "        - To determine the trend. If $ \\exists $, then highly correlated. The autocov is significantly ! 0 but may decline towards 0. Series may said to be non-stationary\n",
    "\n",
    "- **Correlogram** is the plot of the autocorrelation vs time lag\n",
    "    - x-axis : lag\n",
    "    - y-axis : autocorrelation"
   ]
  },
  {
   "cell_type": "code",
   "execution_count": 12,
   "id": "957d315a-e751-4f9b-8238-3487c5c97511",
   "metadata": {},
   "outputs": [],
   "source": [
    "def est_autocor(data, lag_k, sample_mean):\n",
    "    c_k = est_autocov(data, lag_k, sample_mean)\n",
    "    # print(\"\\nc_k : \", c_k[1])\n",
    "    cnot = est_autocov(data, 0, sample_mean)\n",
    "    # print(\"cnot : \", cnot[1])\n",
    "    # print(c_k[1], cnot[1])\n",
    "    rho_hat_k = np.divide(c_k[1], cnot[1])\n",
    "    # print(\"rho_hat_k : \", rho_hat_k)\n",
    "    return lag_k, rho_hat_k"
   ]
  },
  {
   "cell_type": "code",
   "execution_count": 13,
   "id": "eb367083-effd-43f7-af5c-223f7bf0d633",
   "metadata": {},
   "outputs": [
    {
     "data": {
      "text/plain": [
       "[(0, 1.0),\n",
       " (1, 0.4673790917364969),\n",
       " (2, 0.11902990929918708),\n",
       " (3, -0.13580642124093772)]"
      ]
     },
     "execution_count": 13,
     "metadata": {},
     "output_type": "execute_result"
    }
   ],
   "source": [
    "r_ks = []\n",
    "\n",
    "for k in range(len(ks)):\n",
    "    # print(\"k : \", k)\n",
    "    r_ks.append(est_autocor(z, k, zbar))\n",
    "r_ks"
   ]
  },
  {
   "cell_type": "markdown",
   "id": "d3d25d0a-8366-4303-be74-c3a74e0deee6",
   "metadata": {},
   "source": [
    "# Graph AutoCor\n",
    "- also known as correlogram\n",
    "- xcorr : Plot the cross correlation between x and y; returns the lag vector\n",
    "    - A measure of not only the strength of a relation between to stochastic process but also its direction [Book : TSA by Henrik Madsen | P 107]\n",
    "        - How does this differ from a histogram?\n",
    "    - Not symmetric\n",
    "    - Also known as cross correlogram\n",
    "- acorr : Plot the autocorrelation of x; returns the lag vector\n",
    "    - Comparison of t = 0 and t + k so it follows as t = 0 and t + k = 0, t = 0 and t + k = 1, t = 0 and t + k = K, \n",
    "        - Why t = 0 every time? Bc $r{_k}$ = $\\hat{\\rho}{_k}$ = $c_k$ / $c{_0}$, where k in $c_k$ updates and k in $c{_k}{_=}{_0}$ which implies the first t\n",
    "- The autocorrelation function is characterized by correlations that alternate in sign and tend to damp out with increasing lag [P 31]\n",
    "- [ ] Draw line of significance"
   ]
  },
  {
   "cell_type": "code",
   "execution_count": 14,
   "id": "7db4191b-5a6f-47a0-b15c-b1560e42fa4e",
   "metadata": {},
   "outputs": [],
   "source": [
    "import matplotlib.pyplot as plt"
   ]
  },
  {
   "cell_type": "code",
   "execution_count": 9,
   "id": "ea3acf01-27a9-44a9-8c9d-426b72d8aa02",
   "metadata": {},
   "outputs": [],
   "source": [
    "class Plots: \n",
    "        \n",
    "    def line_plot(self, x, y):\n",
    "        fig, ax = plt.subplots()\n",
    "        ax.plot(x, y, linewidth=3.0)\n",
    "        \n",
    "    def autocor_plot(self, x, y):\n",
    "        fig, [ax1, ax2] = plt.subplots(2, 1)\n",
    "        ax1.xcorr(x, y, maxlags=ks[-1], usevlines = True, normed = True, lw=2)\n",
    "        ax1.grid(True)\n",
    "\n",
    "        # ks x-axis; pho_k = -pho_k\n",
    "        ax2.acorr(y, maxlags=ks[-1], usevlines = True, normed = True, lw=2)\n",
    "        ax2.grid(True)\n",
    "\n",
    "        # plt.title(\"Autocorrelation\")\n",
    "        plt.xlabel('Lags')\n",
    "        plt.ylabel('Autocorrelation')"
   ]
  },
  {
   "cell_type": "code",
   "execution_count": 10,
   "id": "5c3cb7a6-f1f1-4476-a002-f0270000563e",
   "metadata": {},
   "outputs": [],
   "source": [
    "def graph_est_autocor(x, y, len_rks):\n",
    "    \n",
    "    for idx in range(len_rks):\n",
    "        x.append(r_ks[idx][0])\n",
    "        # print(\"x : \", x)\n",
    "        y.append(r_ks[idx][1])\n",
    "        # print(\"y : \", y, \"\\n\")\n",
    "    plots = Plots()\n",
    "    plots.line_plot(x, y)\n",
    "    plots.autocor_plot(x, y)"
   ]
  },
  {
   "cell_type": "code",
   "execution_count": 11,
   "id": "20d5a2ad-5899-4a91-b68a-7c175a93862a",
   "metadata": {},
   "outputs": [
    {
     "data": {
      "image/png": "[encoded data removed]",
      "text/plain": [
       "<Figure size 432x288 with 1 Axes>"
      ]
     },
     "metadata": {
      "needs_background": "light"
     },
     "output_type": "display_data"
    },
    {
     "data": {
      "image/png": "[encoded data removed]",
      "text/plain": [
       "<Figure size 432x288 with 2 Axes>"
      ]
     },
     "metadata": {
      "needs_background": "light"
     },
     "output_type": "display_data"
    }
   ],
   "source": [
    "lags = []\n",
    "autocor = []\n",
    "len_rks = len(r_ks)\n",
    "graph_est_autocor(lags, autocor, len_rks)"
   ]
  },
  {
   "cell_type": "code",
   "execution_count": null,
   "id": "32e92630-3f62-43f9-9217-5705be22dbcc",
   "metadata": {},
   "outputs": [],
   "source": []
  }
 ],
 "metadata": {
  "kernelspec": {
   "display_name": "Python 3",
   "language": "python",
   "name": "python3"
  },
  "language_info": {
   "codemirror_mode": {
    "name": "ipython",
    "version": 3
   },
   "file_extension": ".py",
   "mimetype": "text/x-python",
   "name": "python",
   "nbconvert_exporter": "python",
   "pygments_lexer": "ipython3",
   "version": "3.7.5"
  }
 },
 "nbformat": 4,
 "nbformat_minor": 5
}
