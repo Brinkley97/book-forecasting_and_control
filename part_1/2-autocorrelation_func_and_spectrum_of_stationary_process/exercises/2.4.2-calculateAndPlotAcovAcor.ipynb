{
 "cells": [
  {
   "cell_type": "markdown",
   "id": "17e012e7-24bd-4e00-8c0f-3683df76a054",
   "metadata": {
    "tags": []
   },
   "source": [
    "# Problem Statement\n",
    "\n",
    "- See 2.4-mainWithGoalAndNotes.ipynb"
   ]
  },
  {
   "cell_type": "markdown",
   "id": "7dbdf242-1622-4a96-b126-f15559311dc8",
   "metadata": {},
   "source": [
    "# TODO\n",
    "\n",
    "- [x] Load Data\n",
    "\n",
    "- [x] (2.1.12) **Estimate the ACov @ lag k :** $ \\hat{\\gamma}_{k} $ (gamma hat) = 1/N * $ \\sum_{t=1}^{N - k} (z_{t} - \\bar{z})(z_{t+k} - \\bar{z}) $ k = 0, 1, 2,..., K\n",
    "\n",
    "- [x] (2.1.12) Set : $ c_k $ = $ \\hat{\\gamma}_{k} $\n",
    "\n",
    "- [x] (2.1.11) **Estimate the ACor @ lag k :** $ \\hat{\\rho}{_k} $ (rho hat) = $ c_k $ / $ c_0 $\n",
    "\n",
    "- [x] (2.1.11) Set : $ r_k $ to  $ \\hat{\\rho}{_k} $\n",
    "\n",
    "- [x] Graph $ r_k $"
   ]
  },
  {
   "cell_type": "markdown",
   "id": "a16af8c3-f90c-4784-8bbf-27328d5edfe4",
   "metadata": {},
   "source": [
    "---"
   ]
  },
  {
   "cell_type": "code",
   "execution_count": 1,
   "id": "e2c28eb6-9c90-41ce-9181-b29c8b0ba801",
   "metadata": {},
   "outputs": [],
   "source": [
    "import numpy as np\n",
    "import pandas as pd"
   ]
  },
  {
   "cell_type": "markdown",
   "id": "6d2cda3d-0a9a-474d-bbe1-a7e55e053854",
   "metadata": {},
   "source": [
    "## Load Data"
   ]
  },
  {
   "cell_type": "code",
   "execution_count": 2,
   "id": "21ef472c-28dd-4904-ad63-ef46bbd5ef26",
   "metadata": {},
   "outputs": [],
   "source": [
    "BASE = '/Users/brinkley97/Documents/development/'\n",
    "path_to_dataset = 'book-forecasting_and_control_by_4_Gs/datasets/'"
   ]
  },
  {
   "cell_type": "code",
   "execution_count": 3,
   "id": "cf0880d9-c583-41c5-a224-691a98d6565b",
   "metadata": {},
   "outputs": [],
   "source": [
    "# lew\n",
    "lew_dataset = \"lewDataset.csv\"\n",
    "lew = BASE + path_to_dataset + lew_dataset\n",
    "\n",
    "# data = pd.read_csv(lew)\n",
    "# data = pd.DataFrame([1, 2, 3], columns=[\"measurements\"])\n",
    "# data"
   ]
  },
  {
   "cell_type": "code",
   "execution_count": 5,
   "id": "e97d9c1f-5d17-49c1-adb8-3b091a40cb4b",
   "metadata": {},
   "outputs": [
    {
     "data": {
      "text/html": [
       "<div>\n",
       "<style scoped>\n",
       "    .dataframe tbody tr th:only-of-type {\n",
       "        vertical-align: middle;\n",
       "    }\n",
       "\n",
       "    .dataframe tbody tr th {\n",
       "        vertical-align: top;\n",
       "    }\n",
       "\n",
       "    .dataframe thead th {\n",
       "        text-align: right;\n",
       "    }\n",
       "</style>\n",
       "<table border=\"1\" class=\"dataframe\">\n",
       "  <thead>\n",
       "    <tr style=\"text-align: right;\">\n",
       "      <th></th>\n",
       "      <th>DateTimeIndex</th>\n",
       "      <th>Value</th>\n",
       "    </tr>\n",
       "  </thead>\n",
       "  <tbody>\n",
       "    <tr>\n",
       "      <th>0</th>\n",
       "      <td>1991-04-21 09:09:00</td>\n",
       "      <td>100</td>\n",
       "    </tr>\n",
       "    <tr>\n",
       "      <th>1</th>\n",
       "      <td>1991-04-21 17:08:00</td>\n",
       "      <td>119</td>\n",
       "    </tr>\n",
       "    <tr>\n",
       "      <th>2</th>\n",
       "      <td>1991-04-22 07:35:00</td>\n",
       "      <td>216</td>\n",
       "    </tr>\n",
       "    <tr>\n",
       "      <th>3</th>\n",
       "      <td>1991-04-22 16:56:00</td>\n",
       "      <td>211</td>\n",
       "    </tr>\n",
       "    <tr>\n",
       "      <th>4</th>\n",
       "      <td>1991-04-23 07:25:00</td>\n",
       "      <td>257</td>\n",
       "    </tr>\n",
       "    <tr>\n",
       "      <th>...</th>\n",
       "      <td>...</td>\n",
       "      <td>...</td>\n",
       "    </tr>\n",
       "    <tr>\n",
       "      <th>286</th>\n",
       "      <td>1991-09-01 09:02:00</td>\n",
       "      <td>183</td>\n",
       "    </tr>\n",
       "    <tr>\n",
       "      <th>287</th>\n",
       "      <td>1991-09-01 17:41:00</td>\n",
       "      <td>249</td>\n",
       "    </tr>\n",
       "    <tr>\n",
       "      <th>288</th>\n",
       "      <td>1991-09-02 08:51:00</td>\n",
       "      <td>168</td>\n",
       "    </tr>\n",
       "    <tr>\n",
       "      <th>289</th>\n",
       "      <td>1991-09-02 17:30:00</td>\n",
       "      <td>61</td>\n",
       "    </tr>\n",
       "    <tr>\n",
       "      <th>290</th>\n",
       "      <td>1991-09-03 07:20:00</td>\n",
       "      <td>110</td>\n",
       "    </tr>\n",
       "  </tbody>\n",
       "</table>\n",
       "<p>291 rows × 2 columns</p>\n",
       "</div>"
      ],
      "text/plain": [
       "           DateTimeIndex  Value\n",
       "0    1991-04-21 09:09:00    100\n",
       "1    1991-04-21 17:08:00    119\n",
       "2    1991-04-22 07:35:00    216\n",
       "3    1991-04-22 16:56:00    211\n",
       "4    1991-04-23 07:25:00    257\n",
       "..                   ...    ...\n",
       "286  1991-09-01 09:02:00    183\n",
       "287  1991-09-01 17:41:00    249\n",
       "288  1991-09-02 08:51:00    168\n",
       "289  1991-09-02 17:30:00     61\n",
       "290  1991-09-03 07:20:00    110\n",
       "\n",
       "[291 rows x 2 columns]"
      ]
     },
     "execution_count": 5,
     "metadata": {},
     "output_type": "execute_result"
    }
   ],
   "source": [
    "irvine_blood_sugar_dataset = \"irvinePrePostMeals.csv\"\n",
    "irvine_pre_post_meals = BASE + path_to_dataset + irvine_blood_sugar_dataset\n",
    "\n",
    "data = pd.read_csv(irvine_pre_post_meals)\n",
    "data"
   ]
  },
  {
   "cell_type": "code",
   "execution_count": 44,
   "id": "2447a0ae-03bd-4491-affa-86ac46573e76",
   "metadata": {},
   "outputs": [],
   "source": [
    "z = [200, 202, 208, 204, 204, 207, 207, 204, 202, 199, 201, 198, 200, \n",
    "        202, 203, 205, 207, 211, 204, 206, 203, 203, 201, 198, 200, 206, \n",
    "        207, 206, 200, 203, 203, 200, 200, 195, 202, 204, 207, 206, 200]\n",
    "# z = data['measurements']\n",
    "# z = data['Value']"
   ]
  },
  {
   "cell_type": "code",
   "execution_count": 45,
   "id": "9a1edfa7-7201-478a-8a08-2dfe28eae891",
   "metadata": {},
   "outputs": [
    {
     "data": {
      "text/plain": [
       "([200,\n",
       "  202,\n",
       "  208,\n",
       "  204,\n",
       "  204,\n",
       "  207,\n",
       "  207,\n",
       "  204,\n",
       "  202,\n",
       "  199,\n",
       "  201,\n",
       "  198,\n",
       "  200,\n",
       "  202,\n",
       "  203,\n",
       "  205,\n",
       "  207,\n",
       "  211,\n",
       "  204,\n",
       "  206,\n",
       "  203,\n",
       "  203,\n",
       "  201,\n",
       "  198,\n",
       "  200,\n",
       "  206,\n",
       "  207,\n",
       "  206,\n",
       "  200,\n",
       "  203,\n",
       "  203,\n",
       "  200,\n",
       "  200,\n",
       "  195,\n",
       "  202,\n",
       "  204,\n",
       "  207,\n",
       "  206,\n",
       "  200],\n",
       " range(0, 39),\n",
       " 203.02564102564102)"
      ]
     },
     "execution_count": 45,
     "metadata": {},
     "output_type": "execute_result"
    }
   ],
   "source": [
    "\n",
    "N = len(z)\n",
    "ks = range(0, N)\n",
    "zbar = np.mean(z)\n",
    "z, ks, zbar"
   ]
  },
  {
   "cell_type": "markdown",
   "id": "76db6947-be94-4d9d-ac93-dcc8fc720858",
   "metadata": {},
   "source": [
    "## Estimate AutoCov @ lag k"
   ]
  },
  {
   "cell_type": "code",
   "execution_count": 46,
   "id": "4d2b13c6-ddc7-47d9-b4ce-3e0b1406f14f",
   "metadata": {},
   "outputs": [],
   "source": [
    "def est_autocov(data, lag_k, sample_mean): \n",
    "    \"\"\"\n",
    "    Calculate the estimated autocovariance\n",
    "    \n",
    "    :param data: numerical values in data\n",
    "    :param lag_k: a list of k values\n",
    "    :param sample_mean: mean of the data\n",
    "    :return: a list of tuples (ck idex, ck float value)\n",
    "    \n",
    "    \"\"\"\n",
    "    \n",
    "    gamma_k = 0\n",
    "    \n",
    "    N = len(data)\n",
    "    for t in range(N - lag_k):\n",
    "        # print(t, lag_k)\n",
    "        # when we have a new index of lag_k, hence 0, 1, ..., K\n",
    "        t_sm = (data[t] - sample_mean)\n",
    "        # print(t_sm)\n",
    "        tk_sm = data[t + lag_k] - sample_mean\n",
    "        # print(tk_sm)\n",
    "        gamma_k += t_sm * tk_sm\n",
    "        # print(gamma_k)\n",
    "        # print()\n",
    "        \n",
    "        # print(\"gamma_k : \", gamma_k)\n",
    "    return lag_k, gamma_k/N"
   ]
  },
  {
   "cell_type": "code",
   "execution_count": 47,
   "id": "5939c631-099d-4241-a3f0-228d0466c5ad",
   "metadata": {},
   "outputs": [
    {
     "data": {
      "text/plain": [
       "[(0, 10.742932281393824),\n",
       " (1, 5.021021932264538),\n",
       " (2, 1.2787302550616158),\n",
       " (3, -1.4589591867698377),\n",
       " (4, -2.560225222947118),\n",
       " (5, -2.816652337362398),\n",
       " (6, -5.050068274920344),\n",
       " (7, -3.97250459380637),\n",
       " (8, -1.6405030428699072),\n",
       " (9, 1.5895918676983765),\n",
       " (10, 3.9459195198840167),\n",
       " (11, 3.0195384278224506),\n",
       " (12, 1.4541040813230157),\n",
       " (13, 0.0701293008985326),\n",
       " (14, -0.7234444275864385),\n",
       " (15, -0.5459464926920534),\n",
       " (16, -3.1376793270284375),\n",
       " (17, -2.1620222862826406),\n",
       " (18, -1.105497395438223),\n",
       " (19, 0.9464252600347279),\n",
       " (20, 2.232404457256528),\n",
       " (21, 1.1304809588833256),\n",
       " (22, 1.469057131779024),\n",
       " (23, 1.316509044319694),\n",
       " (24, 1.0324685176756176),\n",
       " (25, -0.8156745730710235),\n",
       " (26, -2.0195047118124054),\n",
       " (27, -1.5829666717240694),\n",
       " (28, -1.0714779413004272),\n",
       " (29, -0.3311923666953255),\n",
       " (30, 0.12769938805441775),\n",
       " (31, -0.07810313727473475),\n",
       " (32, 0.4333855931489071),\n",
       " (33, 0.6391544024680124),\n",
       " (34, 0.5595846187562171),\n",
       " (35, 0.12367032485375742),\n",
       " (36, -0.7724675061953165),\n",
       " (37, -0.15118258905241194),\n",
       " (38, 0.23473086194979628)]"
      ]
     },
     "execution_count": 47,
     "metadata": {},
     "output_type": "execute_result"
    }
   ],
   "source": [
    "c_ks = []\n",
    "\n",
    "for i in range(len(ks)): \n",
    "    c_ks.append(est_autocov(z, ks[i], zbar))\n",
    "    \n",
    "c_ks"
   ]
  },
  {
   "cell_type": "markdown",
   "id": "7b76e398-99a2-4560-8ba5-adce904daa20",
   "metadata": {},
   "source": [
    "## Estimate AutoCor @ lag k"
   ]
  },
  {
   "cell_type": "code",
   "execution_count": 48,
   "id": "957d315a-e751-4f9b-8238-3487c5c97511",
   "metadata": {},
   "outputs": [],
   "source": [
    "def est_autocor(data, lag_k, sample_mean):\n",
    "    c_k = est_autocov(data, lag_k, sample_mean)\n",
    "    # print(\"\\nc_k : \", c_k[1])\n",
    "    cnot = est_autocov(data, 0, sample_mean)\n",
    "    # print(\"cnot : \", cnot[1])\n",
    "    rho_hat_k = np.divide(c_k[1], cnot[1])\n",
    "    # print(\"rho_hat_k : \", rho_hat_k)\n",
    "    return lag_k, np.round(rho_hat_k, 2)"
   ]
  },
  {
   "cell_type": "code",
   "execution_count": 49,
   "id": "eb367083-effd-43f7-af5c-223f7bf0d633",
   "metadata": {},
   "outputs": [
    {
     "data": {
      "text/plain": [
       "[(0, 1.0),\n",
       " (1, 0.47),\n",
       " (2, 0.12),\n",
       " (3, -0.14),\n",
       " (4, -0.24),\n",
       " (5, -0.26),\n",
       " (6, -0.47),\n",
       " (7, -0.37),\n",
       " (8, -0.15),\n",
       " (9, 0.15),\n",
       " (10, 0.37),\n",
       " (11, 0.28),\n",
       " (12, 0.14),\n",
       " (13, 0.01),\n",
       " (14, -0.07),\n",
       " (15, -0.05),\n",
       " (16, -0.29),\n",
       " (17, -0.2),\n",
       " (18, -0.1),\n",
       " (19, 0.09),\n",
       " (20, 0.21),\n",
       " (21, 0.11),\n",
       " (22, 0.14),\n",
       " (23, 0.12),\n",
       " (24, 0.1),\n",
       " (25, -0.08),\n",
       " (26, -0.19),\n",
       " (27, -0.15),\n",
       " (28, -0.1),\n",
       " (29, -0.03),\n",
       " (30, 0.01),\n",
       " (31, -0.01),\n",
       " (32, 0.04),\n",
       " (33, 0.06),\n",
       " (34, 0.05),\n",
       " (35, 0.01),\n",
       " (36, -0.07),\n",
       " (37, -0.01),\n",
       " (38, 0.02)]"
      ]
     },
     "execution_count": 49,
     "metadata": {},
     "output_type": "execute_result"
    }
   ],
   "source": [
    "r_ks = []\n",
    "\n",
    "for k in range(len(ks)):\n",
    "    # print(\"k : \", k)\n",
    "    r_ks.append(est_autocor(z, k, zbar))\n",
    "r_ks"
   ]
  },
  {
   "cell_type": "markdown",
   "id": "d3d25d0a-8366-4303-be74-c3a74e0deee6",
   "metadata": {},
   "source": [
    "# Graph AutoCor"
   ]
  },
  {
   "cell_type": "code",
   "execution_count": 50,
   "id": "7db4191b-5a6f-47a0-b15c-b1560e42fa4e",
   "metadata": {},
   "outputs": [],
   "source": [
    "import matplotlib.pyplot as plt"
   ]
  },
  {
   "cell_type": "code",
   "execution_count": 51,
   "id": "320463b2-9033-4fd5-b36c-a1463f076580",
   "metadata": {},
   "outputs": [],
   "source": [
    "def line_plot(x, y):\n",
    "    fig, ax = plt.subplots()\n",
    "    ax.plot(x, y, linewidth=3.0)"
   ]
  },
  {
   "cell_type": "code",
   "execution_count": 57,
   "id": "da40d302-0e63-4e1f-b9fa-7c5f227464d7",
   "metadata": {},
   "outputs": [],
   "source": [
    "def autocor_plot(x, y, max_lags):\n",
    "    fig, [ax1, ax2] = plt.subplots(2, 1)\n",
    "    ax1.xcorr(x, y, maxlags=ks[max_lags], usevlines = True, normed = True, lw=2)\n",
    "    ax1.grid(True)\n",
    "\n",
    "    # ks x-axis; pho_k = -pho_k\n",
    "    ax2.acorr(y, maxlags=ks[max_lags], usevlines = True, normed = True, lw=2)\n",
    "    ax2.grid(True)\n",
    "    \n",
    "    # plt.title(\"Autocorrelation\")\n",
    "    plt.xlabel('k Lags')\n",
    "    \n",
    "    plt.ylabel('Autocorrelation')\n",
    "    \n",
    "    plt.xlim([0, max_lags])\n"
   ]
  },
  {
   "cell_type": "code",
   "execution_count": 58,
   "id": "5c3cb7a6-f1f1-4476-a002-f0270000563e",
   "metadata": {},
   "outputs": [],
   "source": [
    "def graph_est_autocor(x, y, r_ks, len_rks):\n",
    "    \n",
    "    max_lags = 10\n",
    "    \n",
    "    for idx in range(len_rks):\n",
    "        x.append(r_ks[idx][0])\n",
    "        # print(\"x : \", x)\n",
    "        y.append(r_ks[idx][1])\n",
    "        # print(\"y : \", y, \"\\n\")    \n",
    "    \n",
    "    return line_plot(x, y), autocor_plot(x, y, max_lags)"
   ]
  },
  {
   "cell_type": "code",
   "execution_count": 59,
   "id": "27e50417-0d70-405c-9771-4c9ead3129ae",
   "metadata": {},
   "outputs": [
    {
     "data": {
      "text/plain": [
       "(None, None)"
      ]
     },
     "execution_count": 59,
     "metadata": {},
     "output_type": "execute_result"
    },
    {
     "data": {
      "image/png": "[encoded data removed]",
      "text/plain": [
       "<Figure size 640x480 with 1 Axes>"
      ]
     },
     "metadata": {},
     "output_type": "display_data"
    },
    {
     "data": {
      "image/png": "[encoded data removed]",
      "text/plain": [
       "<Figure size 640x480 with 2 Axes>"
      ]
     },
     "metadata": {},
     "output_type": "display_data"
    }
   ],
   "source": [
    "lags = []\n",
    "autocor = []\n",
    "len_rks = len(r_ks)\n",
    "graph_est_autocor(lags, autocor, r_ks, len_rks)"
   ]
  },
  {
   "cell_type": "code",
   "execution_count": null,
   "id": "4de67eac-c5b0-4ef9-8198-5ad73e4f0014",
   "metadata": {},
   "outputs": [],
   "source": []
  },
  {
   "cell_type": "code",
   "execution_count": null,
   "id": "32e92630-3f62-43f9-9217-5705be22dbcc",
   "metadata": {},
   "outputs": [],
   "source": []
  },
  {
   "cell_type": "code",
   "execution_count": null,
   "id": "34635212-4986-42d3-983a-d7d32aebf05c",
   "metadata": {},
   "outputs": [],
   "source": []
  }
 ],
 "metadata": {
  "kernelspec": {
   "display_name": "Python 3 (ipykernel)",
   "language": "python",
   "name": "python3"
  },
  "language_info": {
   "codemirror_mode": {
    "name": "ipython",
    "version": 3
   },
   "file_extension": ".py",
   "mimetype": "text/x-python",
   "name": "python",
   "nbconvert_exporter": "python",
   "pygments_lexer": "ipython3",
   "version": "3.9.7"
  }
 },
 "nbformat": 4,
 "nbformat_minor": 5
}
