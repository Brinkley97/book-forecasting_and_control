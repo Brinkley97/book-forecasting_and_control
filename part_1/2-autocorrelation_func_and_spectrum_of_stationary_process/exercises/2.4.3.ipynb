{
 "cells": [
  {
   "cell_type": "markdown",
   "id": "065f6a8a-a117-4573-8e95-c3543d72c650",
   "metadata": {},
   "source": [
    "# Problem Statement\n",
    "\n",
    "1. Calculate $ c_{0}, c_{1}, c_{2}, c_{3}, r_{1}, r_{2}, r_{3} $ for the series given in Exercise 2.1.\n",
    "2. Make a graph of $ r_{k} $, k = 0, 1, 2, 3\n",
    "\n",
    "3. My interpretation : \n",
    "    - Of the TS in 2.1, find the estimates of both \n",
    "        1. c_k - autocovariance (ACov) $(\\hat{\\gamma}_{k})$ \n",
    "        2. r_k - autocorrelation (ACor) $(\\hat{\\rho}_{k})$\n",
    "        3. where k = 0, 1, 2, 3\n",
    "    - Graph the autocorrelations at k\n",
    "        - x-axis : k\n",
    "        - y-axis : value"
   ]
  },
  {
   "cell_type": "markdown",
   "id": "49b66f5d-311c-492a-a27a-04212abc26d4",
   "metadata": {},
   "source": [
    "# Questions + Futher Explore"
   ]
  },
  {
   "cell_type": "markdown",
   "id": "925d1d6a-b237-444d-8238-d993407d8f42",
   "metadata": {},
   "source": [
    "# TODO\n",
    "\n",
    "- [ ] Import Packages/Libraries + Load Data\n",
    "\n",
    "- [ ] (2.1.12) **Estimate the ACov @ lag k :** $ \\hat{\\gamma}_{k} $ (gamma hat) = 1/N * $ \\sum_{t=1}^{N - k} (z_{t} - \\bar{z})(z_{t+k} - \\bar{z}) $ k = 0, 1, 2,..., K\n",
    "\n",
    "- [ ] (2.1.12) Set : $ c_k $ = $ \\hat{\\gamma}_{k} $\n",
    "\n",
    "- [ ] (2.1.11) **Estimate the ACor @ lag k :** $ \\hat{\\rho}{_k} $ (rho hat) = $ c_k $ / $ c_0 $\n",
    "\n",
    "- [ ] (2.1.11) Set : $ r_k $ to  $ \\hat{\\rho}{_k} $\n",
    "\n",
    "- [ ] Graph $ r_k $"
   ]
  },
  {
   "cell_type": "markdown",
   "id": "b4d29512-8e7e-4452-a099-a5ab25bc537b",
   "metadata": {},
   "source": [
    "## Import + Load Data"
   ]
  },
  {
   "cell_type": "code",
   "execution_count": 1,
   "id": "e694b353-a4b1-4f09-a114-a063e22c9c7e",
   "metadata": {},
   "outputs": [],
   "source": [
    "import pandas as pd"
   ]
  },
  {
   "cell_type": "code",
   "execution_count": 106,
   "id": "5b232961-ea80-4863-a2de-1e51f0a4d8cc",
   "metadata": {},
   "outputs": [
    {
     "data": {
      "text/html": [
       "<div>\n",
       "<style scoped>\n",
       "    .dataframe tbody tr th:only-of-type {\n",
       "        vertical-align: middle;\n",
       "    }\n",
       "\n",
       "    .dataframe tbody tr th {\n",
       "        vertical-align: top;\n",
       "    }\n",
       "\n",
       "    .dataframe thead th {\n",
       "        text-align: right;\n",
       "    }\n",
       "</style>\n",
       "<table border=\"1\" class=\"dataframe\">\n",
       "  <thead>\n",
       "    <tr style=\"text-align: right;\">\n",
       "      <th></th>\n",
       "      <th>0</th>\n",
       "    </tr>\n",
       "  </thead>\n",
       "  <tbody>\n",
       "    <tr>\n",
       "      <th>0</th>\n",
       "      <td>1</td>\n",
       "    </tr>\n",
       "    <tr>\n",
       "      <th>1</th>\n",
       "      <td>2</td>\n",
       "    </tr>\n",
       "    <tr>\n",
       "      <th>2</th>\n",
       "      <td>3</td>\n",
       "    </tr>\n",
       "  </tbody>\n",
       "</table>\n",
       "</div>"
      ],
      "text/plain": [
       "   0\n",
       "0  1\n",
       "1  2\n",
       "2  3"
      ]
     },
     "execution_count": 106,
     "metadata": {},
     "output_type": "execute_result"
    }
   ],
   "source": [
    "# data = pd.read_csv(\"lewDataset.csv\")\n",
    "data = pd.DataFrame([1, 2, 3])\n",
    "\n",
    "data"
   ]
  },
  {
   "cell_type": "markdown",
   "id": "621db00c-53d1-4f1c-aed2-953c5e60c3e8",
   "metadata": {},
   "source": [
    "## Estimate the ACov @ lag k\n",
    "\n",
    "\n",
    "\\begin{align}\n",
    "\\hat{\\gamma}_{k} = \\frac{1}{N} \\times \\sum_{t=1}^{N - k} (z_{t} - \\bar{z})(z_{t+k} - \\bar{z}),\n",
    "\\space where \n",
    "\\end{align}\n",
    "\n",
    "\\begin{align}\n",
    "k = 0, 1, 2,..., K\n",
    "\\end{align}\n",
    "\n",
    "\\begin{align}\n",
    "\\bar{z} = \\sum_{t=1}^{N} \\frac{z_t}{N}\n",
    "\\end{align}\n",
    "\n"
   ]
  },
  {
   "cell_type": "code",
   "execution_count": 107,
   "id": "fc816a71-f85a-43b1-b4dd-1cd1668d727f",
   "metadata": {},
   "outputs": [
    {
     "data": {
      "text/plain": [
       "0    2.0\n",
       "dtype: float64"
      ]
     },
     "execution_count": 107,
     "metadata": {},
     "output_type": "execute_result"
    }
   ],
   "source": [
    "sample_mean = data.mean()\n",
    "# sample_mean = (data / len(data)).sum()\n",
    "sample_mean"
   ]
  },
  {
   "cell_type": "code",
   "execution_count": 108,
   "id": "68c1b4da-424b-41f3-953d-029fea09769b",
   "metadata": {},
   "outputs": [
    {
     "data": {
      "text/plain": [
       "3"
      ]
     },
     "execution_count": 108,
     "metadata": {},
     "output_type": "execute_result"
    }
   ],
   "source": [
    "N = len(data)\n",
    "N"
   ]
  },
  {
   "cell_type": "code",
   "execution_count": 109,
   "id": "dce3a159-d5ab-47bc-95d6-31a66fbab055",
   "metadata": {},
   "outputs": [
    {
     "data": {
      "text/html": [
       "<div>\n",
       "<style scoped>\n",
       "    .dataframe tbody tr th:only-of-type {\n",
       "        vertical-align: middle;\n",
       "    }\n",
       "\n",
       "    .dataframe tbody tr th {\n",
       "        vertical-align: top;\n",
       "    }\n",
       "\n",
       "    .dataframe thead th {\n",
       "        text-align: right;\n",
       "    }\n",
       "</style>\n",
       "<table border=\"1\" class=\"dataframe\">\n",
       "  <thead>\n",
       "    <tr style=\"text-align: right;\">\n",
       "      <th></th>\n",
       "      <th>0</th>\n",
       "    </tr>\n",
       "  </thead>\n",
       "  <tbody>\n",
       "    <tr>\n",
       "      <th>0</th>\n",
       "      <td>1</td>\n",
       "    </tr>\n",
       "    <tr>\n",
       "      <th>1</th>\n",
       "      <td>2</td>\n",
       "    </tr>\n",
       "    <tr>\n",
       "      <th>2</th>\n",
       "      <td>3</td>\n",
       "    </tr>\n",
       "  </tbody>\n",
       "</table>\n",
       "</div>"
      ],
      "text/plain": [
       "   0\n",
       "0  1\n",
       "1  2\n",
       "2  3"
      ]
     },
     "execution_count": 109,
     "metadata": {},
     "output_type": "execute_result"
    }
   ],
   "source": [
    "z_t = data\n",
    "z_t"
   ]
  },
  {
   "cell_type": "code",
   "execution_count": 125,
   "id": "d8ae5b15-2b3b-4755-b0a2-fa40e45b5e30",
   "metadata": {},
   "outputs": [
    {
     "data": {
      "text/html": [
       "<div>\n",
       "<style scoped>\n",
       "    .dataframe tbody tr th:only-of-type {\n",
       "        vertical-align: middle;\n",
       "    }\n",
       "\n",
       "    .dataframe tbody tr th {\n",
       "        vertical-align: top;\n",
       "    }\n",
       "\n",
       "    .dataframe thead th {\n",
       "        text-align: right;\n",
       "    }\n",
       "</style>\n",
       "<table border=\"1\" class=\"dataframe\">\n",
       "  <thead>\n",
       "    <tr style=\"text-align: right;\">\n",
       "      <th></th>\n",
       "      <th>0</th>\n",
       "    </tr>\n",
       "  </thead>\n",
       "  <tbody>\n",
       "    <tr>\n",
       "      <th>0</th>\n",
       "      <td>2.0</td>\n",
       "    </tr>\n",
       "    <tr>\n",
       "      <th>1</th>\n",
       "      <td>3.0</td>\n",
       "    </tr>\n",
       "    <tr>\n",
       "      <th>2</th>\n",
       "      <td>NaN</td>\n",
       "    </tr>\n",
       "  </tbody>\n",
       "</table>\n",
       "</div>"
      ],
      "text/plain": [
       "     0\n",
       "0  2.0\n",
       "1  3.0\n",
       "2  NaN"
      ]
     },
     "execution_count": 125,
     "metadata": {},
     "output_type": "execute_result"
    }
   ],
   "source": [
    "z_t_1 = data.shift(-1)\n",
    "z_t_1"
   ]
  },
  {
   "cell_type": "code",
   "execution_count": 126,
   "id": "39f3ac83-2204-41d8-bfa1-0bd9bed52aa4",
   "metadata": {},
   "outputs": [
    {
     "data": {
      "text/html": [
       "<div>\n",
       "<style scoped>\n",
       "    .dataframe tbody tr th:only-of-type {\n",
       "        vertical-align: middle;\n",
       "    }\n",
       "\n",
       "    .dataframe tbody tr th {\n",
       "        vertical-align: top;\n",
       "    }\n",
       "\n",
       "    .dataframe thead th {\n",
       "        text-align: right;\n",
       "    }\n",
       "</style>\n",
       "<table border=\"1\" class=\"dataframe\">\n",
       "  <thead>\n",
       "    <tr style=\"text-align: right;\">\n",
       "      <th></th>\n",
       "      <th>0</th>\n",
       "    </tr>\n",
       "  </thead>\n",
       "  <tbody>\n",
       "    <tr>\n",
       "      <th>0</th>\n",
       "      <td>3.0</td>\n",
       "    </tr>\n",
       "    <tr>\n",
       "      <th>1</th>\n",
       "      <td>NaN</td>\n",
       "    </tr>\n",
       "    <tr>\n",
       "      <th>2</th>\n",
       "      <td>NaN</td>\n",
       "    </tr>\n",
       "  </tbody>\n",
       "</table>\n",
       "</div>"
      ],
      "text/plain": [
       "     0\n",
       "0  3.0\n",
       "1  NaN\n",
       "2  NaN"
      ]
     },
     "execution_count": 126,
     "metadata": {},
     "output_type": "execute_result"
    }
   ],
   "source": [
    "z_t_2 = data.shift(-2)\n",
    "z_t_2"
   ]
  },
  {
   "cell_type": "code",
   "execution_count": 129,
   "id": "43b84b82-ddd2-4610-9f90-e4f56bd8d44b",
   "metadata": {},
   "outputs": [
    {
     "data": {
      "text/html": [
       "<div>\n",
       "<style scoped>\n",
       "    .dataframe tbody tr th:only-of-type {\n",
       "        vertical-align: middle;\n",
       "    }\n",
       "\n",
       "    .dataframe tbody tr th {\n",
       "        vertical-align: top;\n",
       "    }\n",
       "\n",
       "    .dataframe thead th {\n",
       "        text-align: right;\n",
       "    }\n",
       "</style>\n",
       "<table border=\"1\" class=\"dataframe\">\n",
       "  <thead>\n",
       "    <tr style=\"text-align: right;\">\n",
       "      <th></th>\n",
       "      <th>0</th>\n",
       "      <th>0</th>\n",
       "      <th>0</th>\n",
       "    </tr>\n",
       "  </thead>\n",
       "  <tbody>\n",
       "    <tr>\n",
       "      <th>0</th>\n",
       "      <td>1</td>\n",
       "      <td>2.0</td>\n",
       "      <td>3.0</td>\n",
       "    </tr>\n",
       "    <tr>\n",
       "      <th>1</th>\n",
       "      <td>2</td>\n",
       "      <td>3.0</td>\n",
       "      <td>NaN</td>\n",
       "    </tr>\n",
       "    <tr>\n",
       "      <th>2</th>\n",
       "      <td>3</td>\n",
       "      <td>NaN</td>\n",
       "      <td>NaN</td>\n",
       "    </tr>\n",
       "  </tbody>\n",
       "</table>\n",
       "</div>"
      ],
      "text/plain": [
       "   0    0    0\n",
       "0  1  2.0  3.0\n",
       "1  2  3.0  NaN\n",
       "2  3  NaN  NaN"
      ]
     },
     "execution_count": 129,
     "metadata": {},
     "output_type": "execute_result"
    }
   ],
   "source": [
    "df = pd.concat([z_t, z_t_1, z_t_2], axis = 1)\n",
    "df"
   ]
  },
  {
   "cell_type": "code",
   "execution_count": 131,
   "id": "822813b9-8303-40c9-afee-b700b7f017b4",
   "metadata": {},
   "outputs": [
    {
     "data": {
      "text/html": [
       "<div>\n",
       "<style scoped>\n",
       "    .dataframe tbody tr th:only-of-type {\n",
       "        vertical-align: middle;\n",
       "    }\n",
       "\n",
       "    .dataframe tbody tr th {\n",
       "        vertical-align: top;\n",
       "    }\n",
       "\n",
       "    .dataframe thead th {\n",
       "        text-align: right;\n",
       "    }\n",
       "</style>\n",
       "<table border=\"1\" class=\"dataframe\">\n",
       "  <thead>\n",
       "    <tr style=\"text-align: right;\">\n",
       "      <th></th>\n",
       "      <th>z</th>\n",
       "      <th>z1</th>\n",
       "      <th>z2</th>\n",
       "    </tr>\n",
       "  </thead>\n",
       "  <tbody>\n",
       "    <tr>\n",
       "      <th>0</th>\n",
       "      <td>1</td>\n",
       "      <td>2.0</td>\n",
       "      <td>3.0</td>\n",
       "    </tr>\n",
       "    <tr>\n",
       "      <th>1</th>\n",
       "      <td>2</td>\n",
       "      <td>3.0</td>\n",
       "      <td>NaN</td>\n",
       "    </tr>\n",
       "    <tr>\n",
       "      <th>2</th>\n",
       "      <td>3</td>\n",
       "      <td>NaN</td>\n",
       "      <td>NaN</td>\n",
       "    </tr>\n",
       "  </tbody>\n",
       "</table>\n",
       "</div>"
      ],
      "text/plain": [
       "   z   z1   z2\n",
       "0  1  2.0  3.0\n",
       "1  2  3.0  NaN\n",
       "2  3  NaN  NaN"
      ]
     },
     "execution_count": 131,
     "metadata": {},
     "output_type": "execute_result"
    }
   ],
   "source": [
    "df.columns=[\"z\", \"z1\", \"z2\"]\n",
    "df"
   ]
  },
  {
   "cell_type": "code",
   "execution_count": 155,
   "id": "cb219a3c-d395-421f-8266-6ca4653bb65a",
   "metadata": {},
   "outputs": [
    {
     "data": {
      "text/plain": [
       "0    1\n",
       "1    0\n",
       "2    1\n",
       "Name: z, dtype: int64"
      ]
     },
     "execution_count": 155,
     "metadata": {},
     "output_type": "execute_result"
    }
   ],
   "source": [
    "a = (df[\"z\"] - 2) * (df[\"z\"] - 2)\n",
    "a"
   ]
  },
  {
   "cell_type": "code",
   "execution_count": 166,
   "id": "ed8fe503-6ee5-456e-b43e-5b88d3784c09",
   "metadata": {},
   "outputs": [
    {
     "data": {
      "text/plain": [
       "2"
      ]
     },
     "execution_count": 166,
     "metadata": {},
     "output_type": "execute_result"
    }
   ],
   "source": [
    "a1 = a.sum()\n",
    "a1"
   ]
  },
  {
   "cell_type": "code",
   "execution_count": 158,
   "id": "2a118fa2-ace2-46e0-b6e9-644b7cd18f00",
   "metadata": {},
   "outputs": [
    {
     "data": {
      "text/plain": [
       "0   -0.0\n",
       "1    0.0\n",
       "2    NaN\n",
       "dtype: float64"
      ]
     },
     "execution_count": 158,
     "metadata": {},
     "output_type": "execute_result"
    }
   ],
   "source": [
    "b = (df[\"z\"] - 2) * (df[\"z1\"] - 2)\n",
    "b"
   ]
  },
  {
   "cell_type": "code",
   "execution_count": 164,
   "id": "f9a9a27b-37cc-47b8-a9eb-fa9a48308060",
   "metadata": {},
   "outputs": [
    {
     "data": {
      "text/plain": [
       "0.0"
      ]
     },
     "execution_count": 164,
     "metadata": {},
     "output_type": "execute_result"
    }
   ],
   "source": [
    "b1 = b.sum()\n",
    "b1"
   ]
  },
  {
   "cell_type": "code",
   "execution_count": 160,
   "id": "754da21d-908a-48c7-8ed1-f5dc8a98a80d",
   "metadata": {},
   "outputs": [
    {
     "data": {
      "text/plain": [
       "0   -1.0\n",
       "1    NaN\n",
       "2    NaN\n",
       "dtype: float64"
      ]
     },
     "execution_count": 160,
     "metadata": {},
     "output_type": "execute_result"
    }
   ],
   "source": [
    "c = (df[\"z\"] - 2) * (df[\"z2\"] - 2)\n",
    "c"
   ]
  },
  {
   "cell_type": "code",
   "execution_count": 162,
   "id": "7577a432-116b-404d-87de-0a7a34b02623",
   "metadata": {},
   "outputs": [
    {
     "data": {
      "text/plain": [
       "-1.0"
      ]
     },
     "execution_count": 162,
     "metadata": {},
     "output_type": "execute_result"
    }
   ],
   "source": [
    "c1 = c.sum()\n",
    "c1"
   ]
  },
  {
   "cell_type": "code",
   "execution_count": 172,
   "id": "dbfc84c1-4ac5-4d96-a4f5-05b63ccf4faa",
   "metadata": {},
   "outputs": [
    {
     "data": {
      "text/html": [
       "<div>\n",
       "<style scoped>\n",
       "    .dataframe tbody tr th:only-of-type {\n",
       "        vertical-align: middle;\n",
       "    }\n",
       "\n",
       "    .dataframe tbody tr th {\n",
       "        vertical-align: top;\n",
       "    }\n",
       "\n",
       "    .dataframe thead th {\n",
       "        text-align: right;\n",
       "    }\n",
       "</style>\n",
       "<table border=\"1\" class=\"dataframe\">\n",
       "  <thead>\n",
       "    <tr style=\"text-align: right;\">\n",
       "      <th></th>\n",
       "      <th>0</th>\n",
       "    </tr>\n",
       "  </thead>\n",
       "  <tbody>\n",
       "    <tr>\n",
       "      <th>0</th>\n",
       "      <td>2.0</td>\n",
       "    </tr>\n",
       "    <tr>\n",
       "      <th>1</th>\n",
       "      <td>0.0</td>\n",
       "    </tr>\n",
       "    <tr>\n",
       "      <th>2</th>\n",
       "      <td>-1.0</td>\n",
       "    </tr>\n",
       "  </tbody>\n",
       "</table>\n",
       "</div>"
      ],
      "text/plain": [
       "     0\n",
       "0  2.0\n",
       "1  0.0\n",
       "2 -1.0"
      ]
     },
     "execution_count": 172,
     "metadata": {},
     "output_type": "execute_result"
    }
   ],
   "source": [
    "abc = pd.DataFrame([a1, b1, c1])\n",
    "abc"
   ]
  },
  {
   "cell_type": "code",
   "execution_count": 173,
   "id": "df40f7a2-5af7-4a92-a433-d69ec26d22a7",
   "metadata": {},
   "outputs": [
    {
     "data": {
      "text/html": [
       "<div>\n",
       "<style scoped>\n",
       "    .dataframe tbody tr th:only-of-type {\n",
       "        vertical-align: middle;\n",
       "    }\n",
       "\n",
       "    .dataframe tbody tr th {\n",
       "        vertical-align: top;\n",
       "    }\n",
       "\n",
       "    .dataframe thead th {\n",
       "        text-align: right;\n",
       "    }\n",
       "</style>\n",
       "<table border=\"1\" class=\"dataframe\">\n",
       "  <thead>\n",
       "    <tr style=\"text-align: right;\">\n",
       "      <th></th>\n",
       "      <th>0</th>\n",
       "    </tr>\n",
       "  </thead>\n",
       "  <tbody>\n",
       "    <tr>\n",
       "      <th>0</th>\n",
       "      <td>0.666667</td>\n",
       "    </tr>\n",
       "    <tr>\n",
       "      <th>1</th>\n",
       "      <td>0.000000</td>\n",
       "    </tr>\n",
       "    <tr>\n",
       "      <th>2</th>\n",
       "      <td>-0.333333</td>\n",
       "    </tr>\n",
       "  </tbody>\n",
       "</table>\n",
       "</div>"
      ],
      "text/plain": [
       "          0\n",
       "0  0.666667\n",
       "1  0.000000\n",
       "2 -0.333333"
      ]
     },
     "execution_count": 173,
     "metadata": {},
     "output_type": "execute_result"
    }
   ],
   "source": [
    "abc / N"
   ]
  },
  {
   "cell_type": "code",
   "execution_count": 128,
   "id": "f2e8ed5c-a29e-405c-b452-749bf73f9774",
   "metadata": {},
   "outputs": [],
   "source": [
    "def acov(N, z_bar, df):\n",
    "    \"\"\"Given the data, calculate the autocovariance\n",
    "    \n",
    "    Parameters:\n",
    "    df -- pd DataFrame\n",
    "    \n",
    "    Return:\n",
    "    autocovariance -- int\n",
    "    \"\"\"\n",
    "    \n",
    "    \n",
    "    # zt_zbar_df = z_t_df.subtract(z_bar) \n",
    "    # print(zt_zbar_df)\n",
    "    \n",
    "    # ztk_zbar_df = z_t_k_df.subtract(z_bar)\n",
    "    # print(ztk_zbar_df)\n",
    "    \n",
    "    # zz = zt_zbar_df.mul(ztk_zbar_df)\n",
    "    # gamma_k = zz.cumsum()\n",
    "    \n",
    "    # z_df = pd.concat([zt_zbar_df, ztk_zbar_df, zz, gamma_k], axis = 1)\n",
    "    # z_df.columns=[\"zt_zbar\", \"ztk_zbar\", \"zz\", \"gamma_k\"]\n",
    "    \n",
    "\n",
    "    # print(z_df)\n",
    "    \n",
    "    # z_df[\"gamma_k\"] = 0\n",
    "    # z_df[\"gamma_k\"] = (z_df.loc[:, \"zt_zbar\"] * z_df.loc[:, \"ztk_zbar\"])\n",
    "    # z_df[\"gamma_k\"] =  z_df[\"zz\"].cumsum()\n",
    "    # z_df[\"c\"] = (z_df.loc[:, \"zt_zbar\"] * z_df.loc[:, \"ztk_zbar\"]).cumsum()\n",
    "\n",
    "    # z_df[\"d\"] = z_df[\"c\"].div(N) \n",
    "    \n",
    "    \n",
    "    # df = z_df.iloc[::-1].reset_index(drop=True).head()\n",
    "    \n",
    "    \n",
    "    return df, df/N"
   ]
  },
  {
   "cell_type": "code",
   "execution_count": 123,
   "id": "295584c4-8d29-45a7-b0f0-bac151c5a5f1",
   "metadata": {},
   "outputs": [
    {
     "data": {
      "text/html": [
       "<div>\n",
       "<style scoped>\n",
       "    .dataframe tbody tr th:only-of-type {\n",
       "        vertical-align: middle;\n",
       "    }\n",
       "\n",
       "    .dataframe tbody tr th {\n",
       "        vertical-align: top;\n",
       "    }\n",
       "\n",
       "    .dataframe thead th {\n",
       "        text-align: right;\n",
       "    }\n",
       "</style>\n",
       "<table border=\"1\" class=\"dataframe\">\n",
       "  <thead>\n",
       "    <tr style=\"text-align: right;\">\n",
       "      <th></th>\n",
       "      <th>zt_zbar</th>\n",
       "      <th>ztk_zbar</th>\n",
       "      <th>zz</th>\n",
       "      <th>gamma_k</th>\n",
       "    </tr>\n",
       "  </thead>\n",
       "  <tbody>\n",
       "    <tr>\n",
       "      <th>0</th>\n",
       "      <td>1.0</td>\n",
       "      <td>1.0</td>\n",
       "      <td>1.0</td>\n",
       "      <td>2.0</td>\n",
       "    </tr>\n",
       "    <tr>\n",
       "      <th>1</th>\n",
       "      <td>0.0</td>\n",
       "      <td>0.0</td>\n",
       "      <td>0.0</td>\n",
       "      <td>1.0</td>\n",
       "    </tr>\n",
       "    <tr>\n",
       "      <th>2</th>\n",
       "      <td>-1.0</td>\n",
       "      <td>-1.0</td>\n",
       "      <td>1.0</td>\n",
       "      <td>1.0</td>\n",
       "    </tr>\n",
       "  </tbody>\n",
       "</table>\n",
       "</div>"
      ],
      "text/plain": [
       "   zt_zbar  ztk_zbar   zz  gamma_k\n",
       "0      1.0       1.0  1.0      2.0\n",
       "1      0.0       0.0  0.0      1.0\n",
       "2     -1.0      -1.0  1.0      1.0"
      ]
     },
     "execution_count": 123,
     "metadata": {},
     "output_type": "execute_result"
    }
   ],
   "source": [
    "gamma_hat_k,  gamma_hat_kn= acov(N, sample_mean, df)\n",
    "gamma_hat_k"
   ]
  },
  {
   "cell_type": "code",
   "execution_count": 124,
   "id": "180042ef-9d9c-4f62-a363-3af64b51c941",
   "metadata": {},
   "outputs": [
    {
     "data": {
      "text/html": [
       "<div>\n",
       "<style scoped>\n",
       "    .dataframe tbody tr th:only-of-type {\n",
       "        vertical-align: middle;\n",
       "    }\n",
       "\n",
       "    .dataframe tbody tr th {\n",
       "        vertical-align: top;\n",
       "    }\n",
       "\n",
       "    .dataframe thead th {\n",
       "        text-align: right;\n",
       "    }\n",
       "</style>\n",
       "<table border=\"1\" class=\"dataframe\">\n",
       "  <thead>\n",
       "    <tr style=\"text-align: right;\">\n",
       "      <th></th>\n",
       "      <th>zt_zbar</th>\n",
       "      <th>ztk_zbar</th>\n",
       "      <th>zz</th>\n",
       "      <th>gamma_k</th>\n",
       "    </tr>\n",
       "  </thead>\n",
       "  <tbody>\n",
       "    <tr>\n",
       "      <th>0</th>\n",
       "      <td>0.333333</td>\n",
       "      <td>0.333333</td>\n",
       "      <td>0.333333</td>\n",
       "      <td>0.666667</td>\n",
       "    </tr>\n",
       "    <tr>\n",
       "      <th>1</th>\n",
       "      <td>0.000000</td>\n",
       "      <td>0.000000</td>\n",
       "      <td>0.000000</td>\n",
       "      <td>0.333333</td>\n",
       "    </tr>\n",
       "    <tr>\n",
       "      <th>2</th>\n",
       "      <td>-0.333333</td>\n",
       "      <td>-0.333333</td>\n",
       "      <td>0.333333</td>\n",
       "      <td>0.333333</td>\n",
       "    </tr>\n",
       "  </tbody>\n",
       "</table>\n",
       "</div>"
      ],
      "text/plain": [
       "    zt_zbar  ztk_zbar        zz   gamma_k\n",
       "0  0.333333  0.333333  0.333333  0.666667\n",
       "1  0.000000  0.000000  0.000000  0.333333\n",
       "2 -0.333333 -0.333333  0.333333  0.333333"
      ]
     },
     "execution_count": 124,
     "metadata": {},
     "output_type": "execute_result"
    }
   ],
   "source": [
    "gamma_hat_kn"
   ]
  },
  {
   "cell_type": "markdown",
   "id": "71549a79-2caf-4ede-aa5d-80114eaa5431",
   "metadata": {},
   "source": [
    "## TODO 2"
   ]
  },
  {
   "cell_type": "code",
   "execution_count": 344,
   "id": "c9ce1c4f-547e-482f-bf8d-d11b92f8c025",
   "metadata": {},
   "outputs": [],
   "source": [
    "def acor(c_k, c_0):\n",
    "    \"\"\"Given the data, calculate the autocorrelation\n",
    "    \n",
    "    Parameters:\n",
    "    df -- pd DataFrame\n",
    "    \n",
    "    Return:\n",
    "    autocorrelation -- int\n",
    "    \"\"\"\n",
    "    \n",
    "    rho_hat_k = c_k / c_0\n",
    "    \n",
    "    return rho_hat_k"
   ]
  },
  {
   "cell_type": "code",
   "execution_count": 345,
   "id": "4286c205-5e50-461f-9def-4d9dd32f62ed",
   "metadata": {},
   "outputs": [
    {
     "ename": "NameError",
     "evalue": "name 'c_0' is not defined",
     "output_type": "error",
     "traceback": [
      "\u001b[0;31m---------------------------------------------------------------------------\u001b[0m",
      "\u001b[0;31mNameError\u001b[0m                                 Traceback (most recent call last)",
      "\u001b[0;32m<ipython-input-345-166c679b9acc>\u001b[0m in \u001b[0;36m<module>\u001b[0;34m\u001b[0m\n\u001b[0;32m----> 1\u001b[0;31m \u001b[0macor\u001b[0m\u001b[0;34m(\u001b[0m\u001b[0mgamma_hat_k\u001b[0m\u001b[0;34m,\u001b[0m \u001b[0mc_0\u001b[0m\u001b[0;34m)\u001b[0m\u001b[0;34m\u001b[0m\u001b[0;34m\u001b[0m\u001b[0m\n\u001b[0m",
      "\u001b[0;31mNameError\u001b[0m: name 'c_0' is not defined"
     ]
    }
   ],
   "source": [
    "acor(gamma_hat_k, c_0)"
   ]
  },
  {
   "cell_type": "code",
   "execution_count": null,
   "id": "dff920f1-b4c3-44a4-9ad4-47afb2c664af",
   "metadata": {},
   "outputs": [],
   "source": []
  }
 ],
 "metadata": {
  "kernelspec": {
   "display_name": "Python 3",
   "language": "python",
   "name": "python3"
  },
  "language_info": {
   "codemirror_mode": {
    "name": "ipython",
    "version": 3
   },
   "file_extension": ".py",
   "mimetype": "text/x-python",
   "name": "python",
   "nbconvert_exporter": "python",
   "pygments_lexer": "ipython3",
   "version": "3.7.5"
  }
 },
 "nbformat": 4,
 "nbformat_minor": 5
}
