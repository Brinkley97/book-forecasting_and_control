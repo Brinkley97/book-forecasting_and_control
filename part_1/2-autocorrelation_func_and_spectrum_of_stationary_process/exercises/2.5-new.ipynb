{
 "cells": [
  {
   "cell_type": "markdown",
   "id": "17e012e7-24bd-4e00-8c0f-3683df76a054",
   "metadata": {
    "tags": []
   },
   "source": [
    "# Problem Statement\n",
    "\n",
    "1. On the assumption that $\\rho{_j}$ = 0 for *j* > 2, obtain the following :\n",
    "    - Approximate standard errors for *r${_1}$*, *r${_2}$*, and *r${_j}$*, *j* > 2.\n",
    "    - The approximate correlation between *r${_3}$* and *r${_5}$*.\n",
    "\n",
    "2. My interpretation : \n",
    "    - Problem is primarily dealing w/ section 2.1.6. When given a TS, we want to check if $\\rho{_k}$ = 0 beyond a certain lag (distance apart). *q* is the point at which k is 0/tend to 0.\n",
    "    - At what point (lag k) is there no relationship between our AutoCors?\n",
    "---\n",
    "# Questions/Futher Explore\n",
    "\n",
    "- Should we account for the assumption or it's already taken care of bc P32 \"For any process for which all the autocorrelations $\\rho{_v}$ are zero for v > q, all terms except the first appearing in the right-hand side of (2.1.13)"
   ]
  },
  {
   "cell_type": "markdown",
   "id": "7dbdf242-1622-4a96-b126-f15559311dc8",
   "metadata": {},
   "source": [
    "# TODO\n",
    "\n",
    "- [x] Load Data\n",
    "\n",
    "- [x] (2.1.12) **Estimate the ACov @ lag k :** $ \\hat{\\gamma}_{k} $ (gamma hat) = 1/N * $ \\sum_{t=1}^{N - k} (z_{t} - \\bar{z})(z_{t+k} - \\bar{z}) $ k = 0, 1, 2,..., K\n",
    "\n",
    "- [x] (2.1.12) Set : $ c_k $ = $ \\hat{\\gamma}_{k} $\n",
    "\n",
    "- [x] (2.1.11) **Estimate the ACor @ lag k :** $ \\hat{\\rho}{_k} $ (rho hat) = $ c_k $ / $ c_0 $\n",
    "\n",
    "- [x] (2.1.11) Set : $ r_k $ to  $ \\hat{\\rho}{_k} $\n",
    "\n",
    "- [ ] (2.1.15) **Approximate the Variance of the Estimated ACor Coefficient @ lag k :** var[$ r_{k} $] $ \\simeq $ 1/N (1 + 2 * $ \\sum_{v=1}^{q} \\rho^{2}_{v}$) k > q"
   ]
  },
  {
   "cell_type": "markdown",
   "id": "ea6fdb11-3dc2-4025-9541-ba296a964c1b",
   "metadata": {},
   "source": [
    "---"
   ]
  },
  {
   "cell_type": "markdown",
   "id": "a16af8c3-f90c-4784-8bbf-27328d5edfe4",
   "metadata": {},
   "source": [
    "---"
   ]
  },
  {
   "cell_type": "code",
   "execution_count": 1,
   "id": "e2c28eb6-9c90-41ce-9181-b29c8b0ba801",
   "metadata": {},
   "outputs": [],
   "source": [
    "import numpy as np"
   ]
  },
  {
   "cell_type": "markdown",
   "id": "6d2cda3d-0a9a-474d-bbe1-a7e55e053854",
   "metadata": {},
   "source": [
    "## Load Data"
   ]
  },
  {
   "cell_type": "code",
   "execution_count": 2,
   "id": "cf0880d9-c583-41c5-a224-691a98d6565b",
   "metadata": {},
   "outputs": [],
   "source": [
    "z = [200, 202, 208, 204, 204, 207, 207, 204, 202, 199, 201, 198, 200, \n",
    "        202, 203, 205, 207, 211, 204, 206, 203, 203, 201, 198, 200, 206, \n",
    "        207, 206, 200, 203, 203, 200, 200, 195, 202, 204, 207, 206, 200]"
   ]
  },
  {
   "cell_type": "code",
   "execution_count": 3,
   "id": "9a1edfa7-7201-478a-8a08-2dfe28eae891",
   "metadata": {},
   "outputs": [
    {
     "data": {
      "text/plain": [
       "(39, range(0, 39), 203.02564102564102)"
      ]
     },
     "execution_count": 3,
     "metadata": {},
     "output_type": "execute_result"
    }
   ],
   "source": [
    "N = len(z)\n",
    "ks = range(0, N)\n",
    "zbar = np.mean(z)\n",
    "N, ks, zbar"
   ]
  },
  {
   "cell_type": "markdown",
   "id": "76db6947-be94-4d9d-ac93-dcc8fc720858",
   "metadata": {},
   "source": [
    "## Estimate AutoCov @ lag k\n",
    "\n",
    "- is the **spread at lag k ($\\hat{\\gamma}_{k}$)** of two variables - joint distributions\n",
    "    - $ \\hat{\\gamma}_{k} $ (gamma hat) = 1/N * $ \\sum_{t=1}^{N - k} (z_{t} - \\bar{z})(z_{t+k} - \\bar{z}) $ k = 0, 1, 2,..., K\n",
    "    - ***Think :*** \n",
    "        - We want to find the estimated **confidence** in our single variable (z) at two different times t and t + k\n",
    "            - Estimated bc we may ! be able to draw an exact value to due the complexity (of data, time it'll take, computations, etc)\n",
    "            - If large, then high variance which results in a wide distribution but if small, then low variance and a narrow distribution\n",
    "            - (?) Can I have a (-) confidence? If so, does this means that I'm ! confident at all?\n",
    "                - Yes, can have a (-) Est AutoCov which implies that the value falls to the left of 0 when looking at the distribution curve.\n",
    "       \n",
    "        - Why (importance) : \n",
    "            - Gather insights (ie : spread or confidence) on the same variable but at different times t and t + k\n",
    "            - Approx bc we may ! be able to get the true value"
   ]
  },
  {
   "cell_type": "code",
   "execution_count": 4,
   "id": "4d2b13c6-ddc7-47d9-b4ce-3e0b1406f14f",
   "metadata": {},
   "outputs": [],
   "source": [
    "def est_autocov(data, lag_k, sample_mean): \n",
    "    \"\"\"\n",
    "    Calculate the estimated autocovariance\n",
    "    \n",
    "    :param data: numerical values in data\n",
    "    :param lag_k: a list of k values\n",
    "    :param sample_mean: mean of the data\n",
    "    :return: a list of tuples (ck idex, ck float value)\n",
    "    \n",
    "    \"\"\"\n",
    "    \n",
    "    gamma_k = 0\n",
    "    \n",
    "    N = len(data)\n",
    "\n",
    "    for t in range(N - lag_k):\n",
    "\n",
    "        gamma_k += (data[t] - sample_mean) * (data[t + lag_k] - sample_mean)\n",
    " \n",
    "    return lag_k, gamma_k/N"
   ]
  },
  {
   "cell_type": "code",
   "execution_count": 5,
   "id": "5939c631-099d-4241-a3f0-228d0466c5ad",
   "metadata": {},
   "outputs": [
    {
     "data": {
      "text/plain": [
       "[(0, 10.742932281393824),\n",
       " (1, 5.021021932264538),\n",
       " (2, 1.2787302550616158),\n",
       " (3, -1.4589591867698377),\n",
       " (4, -2.560225222947118),\n",
       " (5, -2.816652337362398),\n",
       " (6, -5.050068274920344),\n",
       " (7, -3.97250459380637),\n",
       " (8, -1.6405030428699072),\n",
       " (9, 1.5895918676983765),\n",
       " (10, 3.9459195198840167),\n",
       " (11, 3.0195384278224506),\n",
       " (12, 1.4541040813230157),\n",
       " (13, 0.0701293008985326),\n",
       " (14, -0.7234444275864385),\n",
       " (15, -0.5459464926920534),\n",
       " (16, -3.1376793270284375),\n",
       " (17, -2.1620222862826406),\n",
       " (18, -1.105497395438223),\n",
       " (19, 0.9464252600347279),\n",
       " (20, 2.232404457256528),\n",
       " (21, 1.1304809588833256),\n",
       " (22, 1.469057131779024),\n",
       " (23, 1.316509044319694),\n",
       " (24, 1.0324685176756176),\n",
       " (25, -0.8156745730710235),\n",
       " (26, -2.0195047118124054),\n",
       " (27, -1.5829666717240694),\n",
       " (28, -1.0714779413004272),\n",
       " (29, -0.3311923666953255),\n",
       " (30, 0.12769938805441775),\n",
       " (31, -0.07810313727473475),\n",
       " (32, 0.4333855931489071),\n",
       " (33, 0.6391544024680124),\n",
       " (34, 0.5595846187562171),\n",
       " (35, 0.12367032485375742),\n",
       " (36, -0.7724675061953165),\n",
       " (37, -0.15118258905241194),\n",
       " (38, 0.23473086194979628)]"
      ]
     },
     "execution_count": 5,
     "metadata": {},
     "output_type": "execute_result"
    }
   ],
   "source": [
    "c_ks = []\n",
    "\n",
    "for i in range(len(ks)): \n",
    "    \n",
    "    c_ks.append(est_autocov(z, ks[i], zbar))\n",
    "    \n",
    "c_ks"
   ]
  },
  {
   "cell_type": "markdown",
   "id": "7b76e398-99a2-4560-8ba5-adce904daa20",
   "metadata": {},
   "source": [
    "## Estimate AutoCor @ lag k\n",
    "\n",
    "- is the measure of the **relationship** between the same variable but at different times (t and t + k)\n",
    "    - notation \n",
    "    - **Think :** \n",
    "        - We want to find the **similarity** of the same variable but at different times (t and t + k)\n",
    "        - Why (importance) : \n",
    "            - To determine if data is random. Where do t and t + k stop correlating? That's when $ \\exists $ no relationship/ no significance so can disregard\n",
    "            - To determine the trend. If $ \\exists $, then highly correlated. The autocov is significantly ! 0 but may decline towards 0. Series may said to be non-stationary\n"
   ]
  },
  {
   "cell_type": "code",
   "execution_count": 6,
   "id": "957d315a-e751-4f9b-8238-3487c5c97511",
   "metadata": {},
   "outputs": [],
   "source": [
    "def est_autocor(data, lag_k, sample_mean):\n",
    "    c_k = est_autocov(data, lag_k, sample_mean)\n",
    "    # print(\"\\nc_k : \", c_k[1])\n",
    "    cnot = est_autocov(data, 0, sample_mean)\n",
    "    # print(\"cnot : \", cnot[1])\n",
    "    # print(c_k[1], cnot[1])\n",
    "    rho_hat_k = np.divide(c_k[1], cnot[1])\n",
    "    # print(\"rho_hat_k : \", rho_hat_k)\n",
    "    return lag_k, rho_hat_k"
   ]
  },
  {
   "cell_type": "code",
   "execution_count": 24,
   "id": "eb367083-effd-43f7-af5c-223f7bf0d633",
   "metadata": {},
   "outputs": [
    {
     "data": {
      "text/plain": [
       "[(0, 1.0),\n",
       " (1, 0.4673790917364969),\n",
       " (2, 0.11902990929918708),\n",
       " (3, -0.13580642124093772),\n",
       " (4, -0.2383171703857139),\n",
       " (5, -0.2621865486614569),\n",
       " (6, -0.47008285472177724),\n",
       " (7, -0.3697784263879735),\n",
       " (8, -0.15270533220349622),\n",
       " (9, 0.14796629319273133),\n",
       " (10, 0.36730376926215347),\n",
       " (11, 0.2810720898848192),\n",
       " (12, 0.135354486394878),\n",
       " (13, 0.006527947776417874),\n",
       " (14, -0.06734143049932512),\n",
       " (15, -0.05081913190848305),\n",
       " (16, -0.2920691711389383),\n",
       " (17, -0.20125066691774143),\n",
       " (18, -0.10290462291686271),\n",
       " (19, 0.08809747983554594),\n",
       " (20, 0.20780215296739155),\n",
       " (21, 0.1052302043122116),\n",
       " (22, 0.13674638295201313),\n",
       " (23, 0.12254652732008899),\n",
       " (24, 0.09610676960738151),\n",
       " (25, -0.07592662335624396),\n",
       " (26, -0.18798449612403106),\n",
       " (27, -0.14734959043404583),\n",
       " (28, -0.09973794055801402),\n",
       " (29, -0.03082886106141921),\n",
       " (30, 0.011886827982299224),\n",
       " (31, -0.007270187992342198),\n",
       " (32, 0.04034146188368957),\n",
       " (33, 0.05949533942190003),\n",
       " (34, 0.052088629444810644),\n",
       " (35, 0.011511784828798347),\n",
       " (36, -0.07190471706995569),\n",
       " (37, -0.01407274895646992),\n",
       " (38, 0.02184979443241371)]"
      ]
     },
     "execution_count": 24,
     "metadata": {},
     "output_type": "execute_result"
    }
   ],
   "source": [
    "r_ks = []\n",
    "\n",
    "for k in range(len(ks)):\n",
    "    # print(\"k : \", k)\n",
    "    r_ks.append(est_autocor(z, k, zbar))\n",
    "r_ks"
   ]
  },
  {
   "cell_type": "markdown",
   "id": "d55f1efa-d0e6-4417-bd2a-c444b75bbc1b",
   "metadata": {
    "jp-MarkdownHeadingCollapsed": true,
    "jupyter": {
     "source_hidden": true
    },
    "tags": []
   },
   "source": [
    "# Graph AutoCor\n",
    "- also known as correlogram\n",
    "- xcorr : Plot the cross correlation between x and y; returns the lag vector\n",
    "    - A measure of not only the strength of a relation between to stochastic process but also its direction *[Book : TSA by Henrik Madsen | P 107]*\n",
    "        - How does this differ from a histogram?\n",
    "    - Not symmetric\n",
    "    - Also known as cross correlogram\n",
    "- acorr : Plot the autocorrelation of x; returns the lag vector\n",
    "    - Comparison of t = 0 and t + k so it follows as t = 0 and t + k = 0, t = 0 and t + k = 1, t = 0 and t + k = K, \n",
    "        - Why t = 0 every time? Bc $r{_k}$ = $\\hat{\\rho}{_k}$ = $c_k$ / $c{_0}$, where k in $c_k$ updates and k in $c{_k}{_=}{_0}$ which implies the first t\n",
    "- The autocorrelation function is characterized by correlations that alternate in sign and tend to damp out with increasing lag [P 31]\n",
    "- [ ] Draw line of significance"
   ]
  },
  {
   "cell_type": "code",
   "execution_count": 9,
   "id": "32e92630-3f62-43f9-9217-5705be22dbcc",
   "metadata": {},
   "outputs": [],
   "source": [
    "import matplotlib.pyplot as plt"
   ]
  },
  {
   "cell_type": "code",
   "execution_count": 10,
   "id": "f0779dfb-357c-457c-bd36-0ceaf11b082a",
   "metadata": {
    "tags": []
   },
   "outputs": [],
   "source": [
    "class Plots: \n",
    "        \n",
    "    def line_plot(self, x, y):\n",
    "        fig, ax = plt.subplots()\n",
    "        ax.plot(x, y, linewidth=3.0)\n",
    "        \n",
    "    def autocor_plot(self, x, y):\n",
    "        fig, [ax1, ax2] = plt.subplots(2, 1)\n",
    "        ax1.xcorr(x, y, maxlags=ks[-1], usevlines = True, normed = True, lw=2)\n",
    "        ax1.grid(True)\n",
    "\n",
    "        # ks x-axis; pho_k = -pho_k\n",
    "        ax2.acorr(y, maxlags=ks[-1], usevlines = True, normed = True, lw=2)\n",
    "        ax2.grid(True)\n",
    "\n",
    "        # plt.title(\"Autocorrelation\")\n",
    "        plt.xlabel('Lags')\n",
    "        plt.ylabel('Autocorrelation')"
   ]
  },
  {
   "cell_type": "code",
   "execution_count": 11,
   "id": "031fc517-efa2-4338-a2dc-39765fa61bca",
   "metadata": {},
   "outputs": [],
   "source": [
    "def graph_est_autocor(x, y, len_rks):\n",
    "    \n",
    "    for idx in range(len_rks):\n",
    "        x.append(r_ks[idx][0])\n",
    "        # print(\"x : \", x)\n",
    "        y.append(r_ks[idx][1])\n",
    "        # print(\"y : \", y, \"\\n\")\n",
    "    plots = Plots()\n",
    "    plots.line_plot(x, y)\n",
    "    plots.autocor_plot(x, y)"
   ]
  },
  {
   "cell_type": "code",
   "execution_count": 12,
   "id": "f040505c-1d27-495b-b1e3-23b5cb0809a8",
   "metadata": {},
   "outputs": [
    {
     "data": {
      "image/png": "[encoded data removed]",
      "text/plain": [
       "<Figure size 432x288 with 1 Axes>"
      ]
     },
     "metadata": {
      "needs_background": "light"
     },
     "output_type": "display_data"
    },
    {
     "data": {
      "image/png": "[encoded data removed]",
      "text/plain": [
       "<Figure size 432x288 with 2 Axes>"
      ]
     },
     "metadata": {
      "needs_background": "light"
     },
     "output_type": "display_data"
    }
   ],
   "source": [
    "lags = []\n",
    "autocor = []\n",
    "len_rks = len(r_ks)\n",
    "graph_est_autocor(lags, autocor, len_rks)"
   ]
  },
  {
   "cell_type": "markdown",
   "id": "68fde5ac-52fc-4c93-b7e8-78fe45647dc2",
   "metadata": {},
   "source": [
    "# SE"
   ]
  },
  {
   "cell_type": "code",
   "execution_count": 73,
   "id": "c56fac0a-9be3-4eae-a2f3-bd925b6ec938",
   "metadata": {},
   "outputs": [
    {
     "name": "stdout",
     "output_type": "stream",
     "text": [
      "[1.0, 0.4673790917364969, 0.11902990929918708, -0.13580642124093772, -0.2383171703857139, -0.2621865486614569, -0.47008285472177724, -0.3697784263879735, -0.15270533220349622, 0.14796629319273133, 0.36730376926215347, 0.2810720898848192, 0.135354486394878, 0.006527947776417874, -0.06734143049932512, -0.05081913190848305, -0.2920691711389383, -0.20125066691774143, -0.10290462291686271, 0.08809747983554594, 0.20780215296739155, 0.1052302043122116, 0.13674638295201313, 0.12254652732008899, 0.09610676960738151, -0.07592662335624396, -0.18798449612403106, -0.14734959043404583, -0.09973794055801402, -0.03082886106141921, 0.011886827982299224, -0.007270187992342198, 0.04034146188368957, 0.05949533942190003, 0.052088629444810644, 0.011511784828798347, -0.07190471706995569, -0.01407274895646992, 0.02184979443241371]\n"
     ]
    }
   ],
   "source": [
    "rks = []\n",
    "\n",
    "for idx in range(len_rks):\n",
    "    # print(\"x : \", x)\n",
    "    rks.append(r_ks[idx][1])\n",
    "    \n",
    "print(rks)"
   ]
  },
  {
   "cell_type": "code",
   "execution_count": 142,
   "id": "00eba4b6-091d-4581-99ab-34a5c248ef4e",
   "metadata": {},
   "outputs": [],
   "source": [
    "def died_out_rks(q, new_rks):\n",
    "    \n",
    "    for k in range(len(ks)): \n",
    "        # print(k)\n",
    "        if k >= q:        \n",
    "            new_rks.append(rks[k])\n",
    "            print(k, new_rks)\n",
    "        # else:\n",
    "        #     print(False) \n",
    "    return new_rks"
   ]
  },
  {
   "cell_type": "code",
   "execution_count": 146,
   "id": "9964272c-47fa-4f9a-bb3f-f30102300604",
   "metadata": {},
   "outputs": [
    {
     "name": "stdout",
     "output_type": "stream",
     "text": [
      "37 [-0.01407274895646992]\n",
      "38 [-0.01407274895646992, 0.02184979443241371]\n"
     ]
    },
    {
     "data": {
      "text/plain": [
       "[-0.01407274895646992, 0.02184979443241371]"
      ]
     },
     "execution_count": 146,
     "metadata": {},
     "output_type": "execute_result"
    }
   ],
   "source": [
    "# q = np.random.randint(len(ks))\n",
    "# print(q)\n",
    "q = 37\n",
    "qs = []\n",
    "new_r_ks = died_out_rks(q, qs)\n",
    "new_r_ks"
   ]
  },
  {
   "cell_type": "code",
   "execution_count": 147,
   "id": "59b48557-c569-40c2-a66e-75cf8c001bb3",
   "metadata": {},
   "outputs": [
    {
     "name": "stdout",
     "output_type": "stream",
     "text": [
      "1 0.02184979443241371 0.4673790917364969\n",
      "1 0.03684324181499655\n"
     ]
    }
   ],
   "source": [
    "# approx_var_r_sub_k\n",
    "\n",
    "for v in range(1, len(qs)):\n",
    "    # which to calc?\n",
    "    print(v, new_r_ks[v], rks[v])\n",
    "    # print(\"Variance of the estimated autocorrelation values are : \") \n",
    "    approx_var_r_sub_k = 1/N * (1 + 2 * (np.square(rks[v])))\n",
    "    print(v, approx_var_r_sub_k)\n",
    "    # approx_var_r_sub_k["
   ]
  },
  {
   "cell_type": "code",
   "execution_count": null,
   "id": "c4832319-00fc-4bfa-b8ae-fdb31499e93c",
   "metadata": {},
   "outputs": [],
   "source": []
  }
 ],
 "metadata": {
  "kernelspec": {
   "display_name": "Python 3",
   "language": "python",
   "name": "python3"
  },
  "language_info": {
   "codemirror_mode": {
    "name": "ipython",
    "version": 3
   },
   "file_extension": ".py",
   "mimetype": "text/x-python",
   "name": "python",
   "nbconvert_exporter": "python",
   "pygments_lexer": "ipython3",
   "version": "3.7.5"
  }
 },
 "nbformat": 4,
 "nbformat_minor": 5
}
