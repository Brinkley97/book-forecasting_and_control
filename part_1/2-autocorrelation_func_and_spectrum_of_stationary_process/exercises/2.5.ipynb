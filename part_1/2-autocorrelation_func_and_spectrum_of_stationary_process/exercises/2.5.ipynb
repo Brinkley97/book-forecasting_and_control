{
 "cells": [
  {
   "cell_type": "markdown",
   "id": "17e012e7-24bd-4e00-8c0f-3683df76a054",
   "metadata": {
    "tags": []
   },
   "source": [
    "# Problem Statement\n",
    "\n",
    "1. On the assumption that $\\rho{_j}$ = 0 for *j* > 2, obtain the following :\n",
    "    - Approximate standard errors for *r${_1}$*, *r${_2}$*, and *r${_j}$*, *j* > 2.\n",
    "    - The approximate correlation between *r${_3}$* and *r${_5}$*.\n",
    "\n",
    "2. My interpretation : \n",
    "    - Problem is primarily dealing w/ section 2.1.6. When given a TS, we want to check if $\\rho{_k}$ = 0 beyond a certain lag (distance apart). *q* is the point at which k is 0/tend to 0.\n",
    "---\n",
    "# Questions/Futher Explore\n",
    "\n",
    "1. Differences between [here](https://github.com/Brinkley97/random_code/blob/main/foilVsNpSum.ipynb) : \n",
    "    - gamma_k = np.sum(z[t] - z_bar * z[t + k] - z_bar)\n",
    "    - gamma_k = z[t] - z_bar * z[t + k] - z_bar\n",
    "    - gamma_k = (z[t] - z_bar) * (z[t + k] - z_bar) \n",
    "    - gamma_k = np.sum(z[t] - z_bar) * (z[t + k] - z_bar) \n",
    "\n",
    "2. How can I intuitively understand that all the ACovs are (-)?\n",
    "---"
   ]
  },
  {
   "cell_type": "markdown",
   "id": "7dbdf242-1622-4a96-b126-f15559311dc8",
   "metadata": {},
   "source": [
    "# TODO\n",
    "\n",
    "- Load Data\n",
    "\n",
    "- **Estimate the ACov @ lag k :** $ \\hat{\\gamma}_{k} $ (gamma hat) = 1/N * $ \\sum_{t=1}^{N - k} (z_{t} - \\bar{z})(z_{t+k} - \\bar{z}) $ k = 0, 1, 2,..., K\n",
    "\n",
    "- Set : $ c_k $ = $ \\hat{\\gamma}_{k} $\n",
    "\n",
    "- **Estimate the ACor @ lag k :** $ \\hat{\\rho}{_k} $ (rho hat) = $ c_k $ / $ c_0 $\n",
    "\n",
    "- Set : $ r_k $ to  $ \\hat{\\rho}{_k} $\n",
    "\n",
    "- **Variance of $ r_k $ :** var[$ r_{k} $] $ \\simeq $ 1/N (1 + 2 * $ \\sum_{v=1}^{q} \\rho^{q}_{v}$) k > q"
   ]
  },
  {
   "cell_type": "markdown",
   "id": "ea6fdb11-3dc2-4025-9541-ba296a964c1b",
   "metadata": {},
   "source": [
    "---"
   ]
  },
  {
   "cell_type": "markdown",
   "id": "a16af8c3-f90c-4784-8bbf-27328d5edfe4",
   "metadata": {},
   "source": [
    "---"
   ]
  },
  {
   "cell_type": "code",
   "execution_count": 2,
   "id": "e2c28eb6-9c90-41ce-9181-b29c8b0ba801",
   "metadata": {},
   "outputs": [],
   "source": [
    "import numpy as np"
   ]
  },
  {
   "cell_type": "markdown",
   "id": "6d2cda3d-0a9a-474d-bbe1-a7e55e053854",
   "metadata": {},
   "source": [
    "## Load Data"
   ]
  },
  {
   "cell_type": "code",
   "execution_count": 3,
   "id": "cf0880d9-c583-41c5-a224-691a98d6565b",
   "metadata": {},
   "outputs": [],
   "source": [
    "z = [200, 202, 208, 204, 204, 207, 207, 204, 202, 199, 201, 198, 200, \n",
    "        202, 203, 205, 207, 211, 204, 206, 203, 203, 201, 198, 200, 206, \n",
    "        207, 206, 200, 203, 203, 200, 200, 195, 202, 204, 207, 206, 200]"
   ]
  },
  {
   "cell_type": "code",
   "execution_count": 4,
   "id": "9a1edfa7-7201-478a-8a08-2dfe28eae891",
   "metadata": {},
   "outputs": [],
   "source": [
    "N = len(z)\n",
    "k = 7\n",
    "zbar = np.mean(z)"
   ]
  },
  {
   "cell_type": "markdown",
   "id": "76db6947-be94-4d9d-ac93-dcc8fc720858",
   "metadata": {},
   "source": [
    "## Estimate ACov @ lag k\n",
    "\n",
    "- **Estimate the ACov @ lag k :** $ \\hat{\\gamma}_{k} $ (gamma hat) = 1/N * $ \\sum_{t=1}^{N - k} (z_{t} - \\bar{z})(z_{t+k} - \\bar{z}) $ k = 0, 1, 2,..., K\n",
    "\n",
    "- Set : $ c_k $ = $ \\hat{\\gamma}_{k} $"
   ]
  },
  {
   "cell_type": "code",
   "execution_count": 11,
   "id": "1cd807d3-7bda-49ea-b2d6-86e41a8d71d8",
   "metadata": {},
   "outputs": [],
   "source": [
    "# Obtain list of ACovs @ lag k and set to ck\n",
    "est_acov = []\n",
    "for t in range(N - k) :\n",
    "    # print(\"\\nt : \", t, \"\\nt + k : \", t + k)\n",
    "    # print(\"(z[t] - zbar)(z[t + k] - zbar) : \", \"(\", z[t], \" - \", zbar, \") * (\", z[t + k], \" - \", zbar, \")\" )\n",
    "    g = np.sum((z[t] - zbar) * (z[t + k] - zbar))\n",
    "    # gamma_hat_k = (z[t] - zbar) * (z[t + k] - zbar)\n",
    "    est_acov.append(g)\n",
    "    # print(\"ACov, gamma_hat_k : \", gamma_hat_k)\n",
    "# acov\n",
    "c_k = est_acov\n",
    "# len(c_k), c_k"
   ]
  },
  {
   "cell_type": "markdown",
   "id": "7b76e398-99a2-4560-8ba5-adce904daa20",
   "metadata": {},
   "source": [
    "## Estimate ACor @ lag k\n",
    "\n",
    "- **Estimate the ACor @ lag k :** $ \\hat{\\rho}{_k} $ (rho hat) = $ c_k $ / $ c_0 $\n",
    "\n",
    "- Set : $ r_k $ to  $ \\hat{\\rho}{_k} $"
   ]
  },
  {
   "cell_type": "code",
   "execution_count": 12,
   "id": "6481e355-d37e-44ef-a687-7f03f7038a72",
   "metadata": {},
   "outputs": [],
   "source": [
    "# Obtain list of ACor @ lag k and set to rk\n",
    "est_acor = []\n",
    "\n",
    "# row_hat_k = np.divide(c_k, c_k[0])\n",
    "row_hat_k = c_k / c_k[0]\n",
    "# correct output bc a # divided by itself is 1 by why dtype is numpy arr instead of py list?\n",
    "# print(\"row_hat_k : \", row_hat_k)\n",
    "\n",
    "# acor.append(row_k)\n",
    "# acor\n",
    "\n",
    "# acor.append(row_k) gives an arr w/ a list so instead\n",
    "est_acor = list(row_hat_k)\n",
    "# print(\"est_acor : \", est_acor)\n",
    "\n",
    "r_k = est_acor\n",
    "# len(r_k), r_k"
   ]
  },
  {
   "cell_type": "markdown",
   "id": "537c3569-4941-4092-a2a2-79e06787e1fb",
   "metadata": {},
   "source": [
    "## Approximate the Variance of the Estimated ACor @ lag k\n",
    "\n",
    "- **Variance of $ r_k $ :** var[$ r_{k} $] $ \\simeq $ 1/N (1 + 2 * $ \\sum_{v=1}^{q} \\rho^{q}_{v}$) k > q"
   ]
  },
  {
   "cell_type": "code",
   "execution_count": 7,
   "id": "8bd437bc-bb94-4f51-b7e8-0ec314590e0a",
   "metadata": {},
   "outputs": [
    {
     "data": {
      "text/plain": [
       "(3,\n",
       " 37,\n",
       " [1.0,\n",
       "  0.06639874191857421,\n",
       "  -0.32203389830508633,\n",
       "  -0.25729512493447626,\n",
       "  -0.25729512493447626,\n",
       "  -0.25729512493447626,\n",
       "  0.2708369736152362,\n",
       "  0.26061506203040447,\n",
       "  -0.13803948977808775,\n",
       "  -1.3442250567883962,\n",
       "  -0.40721649484535977,\n",
       "  -0.3424777214747497,\n",
       "  -0.0051546391752569955,\n",
       "  0.13454481915079486,\n",
       "  0.006770924340379966,\n",
       "  -1.0460859688974342,\n",
       "  -0.25729512493447626,\n",
       "  -1.575921719377952,\n",
       "  0.0016599685479641252,\n",
       "  0.005067272409574685,\n",
       "  -0.003450987244451715,\n",
       "  -0.008561943036867557,\n",
       "  -0.40721649484535977,\n",
       "  0.9931853922767789,\n",
       "  0.7989690721649486,\n",
       "  -0.5878035995107478,\n",
       "  0.7989690721649486,\n",
       "  0.005067272409574685,\n",
       "  -0.0051546391752569955,\n",
       "  -0.0051546391752569955,\n",
       "  -0.0051546391752569955,\n",
       "  -1.6134020618556681,\n",
       "  -0.20618556701030838,\n",
       "  0.5195701555128448,\n",
       "  0,\n",
       "  0,\n",
       "  0],\n",
       " [0, 0, 0])"
      ]
     },
     "execution_count": 7,
     "metadata": {},
     "output_type": "execute_result"
    }
   ],
   "source": [
    "# come back to; \n",
    "# looping entire list of est ACor\n",
    "# when v is > q, assign the ACor at that v to 0\n",
    "q_num = 33\n",
    "\n",
    "est_acor_len = len(r_k)\n",
    "\n",
    "# print(\"est_acor_len : \", est_acor_len)\n",
    "v_more_than_q = 0\n",
    "\n",
    "for v in range(est_acor_len) :\n",
    "    # print(\"v : \", v, \"\\nq_num : \", q_num, \"\\nest_acor[v] : \", est_acor[v], \"\\n\")\n",
    "    # q_list.append(q_num)\n",
    "    # print(\"q_list : \", q_list)\n",
    "    if v > q_num : \n",
    "        r_k[v] = 0\n",
    "        v_more_than_q = v_more_than_q + 1\n",
    "        \n",
    "    else : \n",
    "        pass\n",
    "\n",
    "# remove + 1 to check values - this will start at the very last # in the list of r_ks instead of 0 ; + 1 to start at 0\n",
    "v_more_than_q, len(r_k), r_k, r_k[q_num + 1 :]"
   ]
  },
  {
   "cell_type": "code",
   "execution_count": 9,
   "id": "67791ba8-e1b6-4012-adbb-a2abb778bcba",
   "metadata": {},
   "outputs": [
    {
     "name": "stdout",
     "output_type": "stream",
     "text": [
      "q_num :  2\n",
      "idx :  34\n"
     ]
    },
    {
     "data": {
      "text/plain": [
       "(34,\n",
       " [0.02564102564102564,\n",
       "  0.02564102564102564,\n",
       "  0,\n",
       "  0,\n",
       "  0,\n",
       "  0,\n",
       "  0,\n",
       "  0,\n",
       "  0,\n",
       "  0,\n",
       "  0,\n",
       "  0,\n",
       "  0,\n",
       "  0,\n",
       "  0,\n",
       "  0,\n",
       "  0,\n",
       "  0,\n",
       "  0,\n",
       "  0,\n",
       "  0,\n",
       "  0,\n",
       "  0,\n",
       "  0,\n",
       "  0,\n",
       "  0,\n",
       "  0,\n",
       "  0,\n",
       "  0,\n",
       "  0,\n",
       "  0,\n",
       "  0,\n",
       "  0,\n",
       "  0])"
      ]
     },
     "execution_count": 9,
     "metadata": {},
     "output_type": "execute_result"
    }
   ],
   "source": [
    "v_more_than_q_len = v_more_than_q\n",
    "# print(\"v_more_than_q : \", v_more_than_q)\n",
    "\n",
    "var_r_k_list = []\n",
    "\n",
    "# after 1st condition (v > q), check those where k > q\n",
    "# also stated as : \n",
    "# for any process which all the ACors rho sub v are 0 for v > q, terms k > q are 0 - ACor func may be deemed to have \"died out\"\n",
    "# so, check only those of v > q & set var[r sub k] to (2.1.15) in book [P 32/60]\n",
    "# go from q to end of r_k\n",
    "\n",
    "print(\"q_num : \", q_num)\n",
    "idx = len(r_k[q_num + 1 :])\n",
    "\n",
    "print(\"idx : \", idx)\n",
    "\n",
    "for q in range(idx) :\n",
    "    # print(\"\\nq : \", q, \"\\nk : \", k)\n",
    "    if k > q : \n",
    "        var_r_k_list.append(1 / N * (1 + 2 * np.sum(np.square(r_k[v]))))\n",
    "    else :\n",
    "        var_r_k_list.append(0)\n",
    "\n",
    "# test = (r_k, var_r_k_list)       \n",
    "\n",
    "len(var_r_k_list), var_r_k_list"
   ]
  },
  {
   "cell_type": "code",
   "execution_count": null,
   "id": "3c21fc4c-38c3-4af1-b647-dc07a2b1a0ee",
   "metadata": {},
   "outputs": [],
   "source": []
  }
 ],
 "metadata": {
  "kernelspec": {
   "display_name": "Python 3",
   "language": "python",
   "name": "python3"
  },
  "language_info": {
   "codemirror_mode": {
    "name": "ipython",
    "version": 3
   },
   "file_extension": ".py",
   "mimetype": "text/x-python",
   "name": "python",
   "nbconvert_exporter": "python",
   "pygments_lexer": "ipython3",
   "version": "3.7.5"
  }
 },
 "nbformat": 4,
 "nbformat_minor": 5
}
