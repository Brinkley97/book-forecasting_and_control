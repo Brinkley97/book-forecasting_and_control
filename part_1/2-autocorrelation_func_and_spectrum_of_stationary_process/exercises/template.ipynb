{
 "cells": [
  {
   "cell_type": "markdown",
   "id": "88b77415-06de-4655-ab7c-15a44f9e0d0b",
   "metadata": {},
   "source": [
    "# Template"
   ]
  },
  {
   "cell_type": "markdown",
   "id": "065f6a8a-a117-4573-8e95-c3543d72c650",
   "metadata": {},
   "source": [
    "# Problem Statement"
   ]
  },
  {
   "cell_type": "markdown",
   "id": "49b66f5d-311c-492a-a27a-04212abc26d4",
   "metadata": {},
   "source": [
    "# Questions + Futher Explore"
   ]
  },
  {
   "cell_type": "markdown",
   "id": "b4d29512-8e7e-4452-a099-a5ab25bc537b",
   "metadata": {},
   "source": [
    "# Import + Load Data"
   ]
  },
  {
   "cell_type": "markdown",
   "id": "925d1d6a-b237-444d-8238-d993407d8f42",
   "metadata": {},
   "source": [
    "# TODO"
   ]
  },
  {
   "cell_type": "markdown",
   "id": "621db00c-53d1-4f1c-aed2-953c5e60c3e8",
   "metadata": {},
   "source": [
    "## TODO 1"
   ]
  },
  {
   "cell_type": "markdown",
   "id": "71549a79-2caf-4ede-aa5d-80114eaa5431",
   "metadata": {},
   "source": [
    "## TODO 2"
   ]
  },
  {
   "cell_type": "code",
   "execution_count": null,
   "id": "c9ce1c4f-547e-482f-bf8d-d11b92f8c025",
   "metadata": {},
   "outputs": [],
   "source": []
  }
 ],
 "metadata": {
  "kernelspec": {
   "display_name": "Python 3",
   "language": "python",
   "name": "python3"
  },
  "language_info": {
   "codemirror_mode": {
    "name": "ipython",
    "version": 3
   },
   "file_extension": ".py",
   "mimetype": "text/x-python",
   "name": "python",
   "nbconvert_exporter": "python",
   "pygments_lexer": "ipython3",
   "version": "3.7.5"
  }
 },
 "nbformat": 4,
 "nbformat_minor": 5
}
