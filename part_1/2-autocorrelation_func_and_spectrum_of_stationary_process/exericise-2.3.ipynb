{
 "cells": [
  {
   "cell_type": "code",
   "execution_count": 1,
   "id": "eb5cde78-1412-469a-a7b8-c4f9e17a98dc",
   "metadata": {},
   "outputs": [],
   "source": [
    "import numpy as np\n",
    "import pandas as pd"
   ]
  },
  {
   "cell_type": "markdown",
   "id": "0f5f72bb-dc97-4ea6-b945-0fd032892171",
   "metadata": {},
   "source": [
    "# Problem Statement : \n",
    "- Two stationary stochastic processes z${_1}{_t}$ and z${_2}{_t}$ have the following autocovariance functions:\n",
    "    1. z${_1}{_t}$ ∶ \n",
    "        - $ \\gamma{_0} $ = 0.5\n",
    "        - $ \\gamma{_1} $ = 0.2\n",
    "        - $ \\gamma{_j} $ = 0 (j $\\ge $ 2)\n",
    "    2. z${_2}{_t}$ ∶ \n",
    "        - $ \\gamma{_0} $ = 2.30\n",
    "        - $ \\gamma{_1} $ = −1.43\n",
    "        - $ \\gamma{_2} $ = 0.30\n",
    "        - $ \\gamma{_j} $ = 0 (j $\\ge $ 3)\n",
    "        \n",
    "# TODO : \n",
    "   - Calculate the autocovariance function of the process z${_3}{_t}$ = z${_1}{_t}$ + 2z${_2}{_t}$\n",
    "   - Verify that it is a valid stationary process"
   ]
  },
  {
   "cell_type": "markdown",
   "id": "3bc1f585-d30c-4edc-b0be-8725cd388047",
   "metadata": {},
   "source": [
    "### TODO : fix iteration - when I remove the print above the return, I don't get the updated list"
   ]
  },
  {
   "cell_type": "code",
   "execution_count": 389,
   "id": "1b20f080-5a6e-4526-b44f-66e2beca1e98",
   "metadata": {},
   "outputs": [],
   "source": [
    "z_1t = []\n",
    "final_z_1t = []\n",
    "\n",
    "def user_in(user_input, eles_z_1t) :\n",
    "\n",
    "    for val in range(user_input) :\n",
    "\n",
    "        z_1t = np.empty(user_input)\n",
    "        print(\"z_1t : \", z_1t)\n",
    "\n",
    "        if val == 0 : \n",
    "            z_1t[val] = eles_z_1t[0]\n",
    "        elif val == 1 : \n",
    "            z_1t[val] = eles_z_1t[1]\n",
    "        else :\n",
    "            z_1t[val] = 0\n",
    "            # print(\"z_1t : \", z_1t)\n",
    "        \n",
    "        print(\"z_1t : \", z_1t)\n",
    "    final_z_1t.append(z_1t)\n",
    "    return final_z_1t[0]"
   ]
  },
  {
   "cell_type": "code",
   "execution_count": 390,
   "id": "ee8f8144-3164-4fc7-86b9-1ec1e0147007",
   "metadata": {},
   "outputs": [
    {
     "name": "stdout",
     "output_type": "stream",
     "text": [
      "z_1t :  [0.5 1.2 0.  0.  0.  0.  0.  0.  0.  0. ]\n",
      "z_1t :  [0.5 1.2 0.  0.  0.  0.  0.  0.  0.  0. ]\n",
      "z_1t :  [0.5 1.2 0.  0.  0.  0.  0.  0.  0.  0. ]\n",
      "z_1t :  [0.5 1.2 0.  0.  0.  0.  0.  0.  0.  0. ]\n",
      "z_1t :  [0.5 1.2 0.  0.  0.  0.  0.  0.  0.  0. ]\n",
      "z_1t :  [0.5 1.2 0.  0.  0.  0.  0.  0.  0.  0. ]\n",
      "z_1t :  [0.5 1.2 0.  0.  0.  0.  0.  0.  0.  0. ]\n",
      "z_1t :  [0.5 1.2 0.  0.  0.  0.  0.  0.  0.  0. ]\n",
      "z_1t :  [0.5 1.2 0.  0.  0.  0.  0.  0.  0.  0. ]\n",
      "z_1t :  [0.5 1.2 0.  0.  0.  0.  0.  0.  0.  0. ]\n",
      "z_1t :  [0.5 1.2 0.  0.  0.  0.  0.  0.  0.  0. ]\n",
      "z_1t :  [0.5 1.2 0.  0.  0.  0.  0.  0.  0.  0. ]\n",
      "z_1t :  [0.5 1.2 0.  0.  0.  0.  0.  0.  0.  0. ]\n",
      "z_1t :  [0.5 1.2 0.  0.  0.  0.  0.  0.  0.  0. ]\n",
      "z_1t :  [0.5 1.2 0.  0.  0.  0.  0.  0.  0.  0. ]\n",
      "z_1t :  [0.5 1.2 0.  0.  0.  0.  0.  0.  0.  0. ]\n",
      "z_1t :  [0.5 1.2 0.  0.  0.  0.  0.  0.  0.  0. ]\n",
      "z_1t :  [0.5 1.2 0.  0.  0.  0.  0.  0.  0.  0. ]\n",
      "z_1t :  [0.5 1.2 0.  0.  0.  0.  0.  0.  0.  0. ]\n",
      "z_1t :  [0.5 1.2 0.  0.  0.  0.  0.  0.  0.  0. ]\n",
      "\n",
      "z_1 :  [0.5 1.2 0.  0.  0.  0.  0.  0.  0.  0. ]\n"
     ]
    }
   ],
   "source": [
    "user_input = 10\n",
    "eles_1 = [0.5, 1.2]\n",
    "\n",
    "z_1 = user_in(user_input, eles_1)\n",
    "print(\"\\nz_1 : \", z_1)"
   ]
  },
  {
   "cell_type": "code",
   "execution_count": 391,
   "id": "3e362779-914b-4e0a-9258-095355c14007",
   "metadata": {},
   "outputs": [],
   "source": [
    "z_2t = []\n",
    "final_z_2t = []\n",
    "\n",
    "def user_in(user_input, eles_z_2t) :\n",
    "\n",
    "    for val in range(user_input) :\n",
    "\n",
    "        z_2t = np.empty(user_input)\n",
    "\n",
    "        if val == 0 : \n",
    "            z_2t[val] = eles_z_2t[0]\n",
    "        elif val == 1 : \n",
    "            z_2t[val] = eles_z_2t[1]\n",
    "        elif val == 2 :\n",
    "            z_2t[val] = eles_z_2t[2]\n",
    "        else : \n",
    "            z_2t[val] = 0\n",
    "\n",
    "        print(\"z_2t : \", z_2t)\n",
    "    final_z_2t.append(z_2t)\n",
    "    return final_z_2t[0]"
   ]
  },
  {
   "cell_type": "code",
   "execution_count": 393,
   "id": "9dc0287c-961d-4a0c-b580-ef663fc9f226",
   "metadata": {},
   "outputs": [
    {
     "name": "stdout",
     "output_type": "stream",
     "text": [
      "z_2t :  [ 2.3  -1.43  0.3   0.    0.    0.    0.    0.    0.    0.  ]\n",
      "z_2t :  [ 2.3  -1.43  0.3   0.    0.    0.    0.    0.    0.    0.  ]\n",
      "z_2t :  [ 2.3  -1.43  0.3   0.    0.    0.    0.    0.    0.    0.  ]\n",
      "z_2t :  [ 2.3  -1.43  0.3   0.    0.    0.    0.    0.    0.    0.  ]\n",
      "z_2t :  [ 2.3  -1.43  0.3   0.    0.    0.    0.    0.    0.    0.  ]\n",
      "z_2t :  [ 2.3  -1.43  0.3   0.    0.    0.    0.    0.    0.    0.  ]\n",
      "z_2t :  [ 2.3  -1.43  0.3   0.    0.    0.    0.    0.    0.    0.  ]\n",
      "z_2t :  [ 2.3  -1.43  0.3   0.    0.    0.    0.    0.    0.    0.  ]\n",
      "z_2t :  [ 2.3  -1.43  0.3   0.    0.    0.    0.    0.    0.    0.  ]\n",
      "z_2t :  [ 2.3  -1.43  0.3   0.    0.    0.    0.    0.    0.    0.  ]\n",
      "\n",
      "z_2 :  [ 2.3  -1.43  0.3   0.    0.    0.    0.    0.    0.    0.  ]\n"
     ]
    }
   ],
   "source": [
    "user_input = 10\n",
    "eles_1 = [2.30, -1.43, 0.30]\n",
    "\n",
    "z_2 = user_in(user_input, eles_1)\n",
    "print(\"\\nz_2 : \", z_2)"
   ]
  },
  {
   "cell_type": "code",
   "execution_count": 400,
   "id": "92b1d2e2-96d5-459a-b990-871b262c7c7f",
   "metadata": {},
   "outputs": [
    {
     "name": "stdout",
     "output_type": "stream",
     "text": [
      "z_1 :  [0.5 1.2 0.  0.  0.  0.  0.  0.  0.  0. ]\n",
      "z_2 :  [ 2.3  -1.43  0.3   0.    0.    0.    0.    0.    0.    0.  ]\n",
      "two_z_2t :  [ 4.6  -2.86  0.6   0.    0.    0.    0.    0.    0.    0.  ]\n"
     ]
    }
   ],
   "source": [
    "print(\"z_1 : \", z_1)\n",
    "print(\"z_2 : \", z_2)\n",
    "\n",
    "two_z_2t = 2 * z_2\n",
    "print(\"two_z_2t : \", two_z_2t)"
   ]
  },
  {
   "cell_type": "markdown",
   "id": "8658ed1a-b96b-4980-96a8-5b5a0661ff74",
   "metadata": {},
   "source": [
    "## Covariance \n",
    "\n",
    "1. general func : $ \\gamma{_k}$ = cov[$ z{_t}, z{_t}{_+}{_k} $] = $ E[(z{_t} - \\mu)(z{_t}{_+}{_k} - \\mu)] $\n",
    "\n",
    "2. prob specific func : $ \\gamma{_k}$ = cov[$ z{_1}{_t}, 2z{_2}_t $] = $ E[(z{_1}{_t} - \\mu)(2z{_2}{_t} - \\mu)] $"
   ]
  },
  {
   "cell_type": "code",
   "execution_count": 424,
   "id": "df174d47-e204-447f-91fb-67dcb4db5740",
   "metadata": {},
   "outputs": [],
   "source": [
    "def get_covariance(a, b) :\n",
    "    print(\"a : \", a)\n",
    "    print(\"b : \", b)\n",
    "    \n",
    "    print(\"np.mean(z_1) : \", np.mean(z_1))\n",
    "    # print(\"np.mean(two_z_2t) : \", np.mean(two_z_2t))\n",
    "    \n",
    "    gamma_k_1 = np.subtract(a, np.mean(z_1))\n",
    "    print(\"gamma_k_1 : \", gamma_k_1)\n",
    "    \n",
    "    gamma_k_2 = np.subtract(a, np.mean(two_z_2t))\n",
    "    print(\"gamma_k_2 : \", gamma_k_2)\n",
    "    \n",
    "    gamma_k = gamma_k_1 * gamma_k_2 "
   ]
  },
  {
   "cell_type": "code",
   "execution_count": 425,
   "id": "9329b9de-8907-4d30-9475-8324dc1f808b",
   "metadata": {},
   "outputs": [
    {
     "name": "stdout",
     "output_type": "stream",
     "text": [
      "a :  [0.5 1.2 0.  0.  0.  0.  0.  0.  0.  0. ]\n",
      "b :  [ 4.6  -2.86  0.6   0.    0.    0.    0.    0.    0.    0.  ]\n",
      "np.mean(z_1) :  0.16999999999999998\n",
      "gamma_k_1 :  [ 0.33  1.03 -0.17 -0.17 -0.17 -0.17 -0.17 -0.17 -0.17 -0.17]\n",
      "gamma_k_2 :  [ 0.266  0.966 -0.234 -0.234 -0.234 -0.234 -0.234 -0.234 -0.234 -0.234]\n",
      "None\n"
     ]
    }
   ],
   "source": [
    "y = get_covariance(z_1, two_z_2t)\n",
    "print(y)"
   ]
  },
  {
   "cell_type": "code",
   "execution_count": null,
   "id": "7222daf3-c71d-41d9-8dd8-3859203f0532",
   "metadata": {},
   "outputs": [],
   "source": []
  }
 ],
 "metadata": {
  "kernelspec": {
   "display_name": "Python 3 (ipykernel)",
   "language": "python",
   "name": "python3"
  },
  "language_info": {
   "codemirror_mode": {
    "name": "ipython",
    "version": 3
   },
   "file_extension": ".py",
   "mimetype": "text/x-python",
   "name": "python",
   "nbconvert_exporter": "python",
   "pygments_lexer": "ipython3",
   "version": "3.9.7"
  }
 },
 "nbformat": 4,
 "nbformat_minor": 5
}
