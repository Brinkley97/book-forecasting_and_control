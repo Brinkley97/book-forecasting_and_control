{
 "cells": [
  {
   "cell_type": "markdown",
   "id": "097e109e-22a1-4b6d-b585-372c0de8235c",
   "metadata": {},
   "source": [
    "# Backward Shift Operator (B)\n",
    "\n",
    "$$ \\begin{align} B * z_t = z_{t - 1} \\end{align} $$"
   ]
  },
  {
   "cell_type": "code",
   "execution_count": 1,
   "id": "4e677b3a-36b0-466e-be56-04f2aafa86ea",
   "metadata": {},
   "outputs": [],
   "source": [
    "observations = [10, 10, 10, 5]"
   ]
  },
  {
   "cell_type": "code",
   "execution_count": 4,
   "id": "b2397929-d400-4b35-ae68-c8138e663a82",
   "metadata": {},
   "outputs": [
    {
     "data": {
      "text/plain": [
       "2.0"
      ]
     },
     "execution_count": 4,
     "metadata": {},
     "output_type": "execute_result"
    }
   ],
   "source": [
    "z_t_minus_1 = observations[-2]\n",
    "z_t = observations[-1]\n",
    "B = z_t_minus_1 / z_t\n",
    "B"
   ]
  },
  {
   "cell_type": "code",
   "execution_count": null,
   "id": "72fb708d-7559-42ac-96c8-038731dc7af8",
   "metadata": {},
   "outputs": [],
   "source": []
  },
  {
   "cell_type": "code",
   "execution_count": 2,
   "id": "a0c0ce32-fe78-4893-b863-6947ec493ede",
   "metadata": {},
   "outputs": [],
   "source": [
    "def find_b(observations, t, j):\n",
    "    \n",
    "#     z_t = observations[t]\n",
    "#     print(\"z_t = \", z_t)\n",
    "    \n",
    "#     z_tj = observations[j]\n",
    "#     print(\"z_tj = \", z_tj)\n",
    "\n",
    "    B = z_t_minus_1 / z_t\n",
    "    print(\"B = \", B)\n",
    "    \n",
    "    return B"
   ]
  },
  {
   "cell_type": "code",
   "execution_count": 3,
   "id": "18f21317-e9b3-417a-9286-9ec8af90a8cc",
   "metadata": {},
   "outputs": [
    {
     "name": "stdout",
     "output_type": "stream",
     "text": [
      "5\n"
     ]
    },
    {
     "ename": "NameError",
     "evalue": "name 'z_t_minus_1' is not defined",
     "output_type": "error",
     "traceback": [
      "\u001b[0;31m---------------------------------------------------------------------------\u001b[0m",
      "\u001b[0;31mNameError\u001b[0m                                 Traceback (most recent call last)",
      "Cell \u001b[0;32mIn[3], line 5\u001b[0m\n\u001b[1;32m      2\u001b[0m \u001b[38;5;28mprint\u001b[39m(t)\n\u001b[1;32m      4\u001b[0m j \u001b[38;5;241m=\u001b[39m \u001b[38;5;241m1\u001b[39m\n\u001b[0;32m----> 5\u001b[0m B \u001b[38;5;241m=\u001b[39m \u001b[43mfind_b\u001b[49m\u001b[43m(\u001b[49m\u001b[43mobservations\u001b[49m\u001b[43m,\u001b[49m\u001b[43m \u001b[49m\u001b[43mt\u001b[49m\u001b[43m,\u001b[49m\u001b[43m \u001b[49m\u001b[43mj\u001b[49m\u001b[43m)\u001b[49m\n\u001b[1;32m      6\u001b[0m \u001b[38;5;66;03m# z_tj = B*z_t\u001b[39;00m\n\u001b[1;32m      7\u001b[0m \u001b[38;5;66;03m# print(z_tj)\u001b[39;00m\n",
      "Cell \u001b[0;32mIn[2], line 9\u001b[0m, in \u001b[0;36mfind_b\u001b[0;34m(observations, t, j)\u001b[0m\n\u001b[1;32m      1\u001b[0m \u001b[38;5;28;01mdef\u001b[39;00m \u001b[38;5;21mfind_b\u001b[39m(observations, t, j):\n\u001b[1;32m      2\u001b[0m     \n\u001b[1;32m      3\u001b[0m \u001b[38;5;66;03m#     z_t = observations[t]\u001b[39;00m\n\u001b[0;32m   (...)\u001b[0m\n\u001b[1;32m      6\u001b[0m \u001b[38;5;66;03m#     z_tj = observations[j]\u001b[39;00m\n\u001b[1;32m      7\u001b[0m \u001b[38;5;66;03m#     print(\"z_tj = \", z_tj)\u001b[39;00m\n\u001b[0;32m----> 9\u001b[0m     B \u001b[38;5;241m=\u001b[39m \u001b[43mz_t_minus_1\u001b[49m \u001b[38;5;241m/\u001b[39m z_t\n\u001b[1;32m     10\u001b[0m     \u001b[38;5;28mprint\u001b[39m(\u001b[38;5;124m\"\u001b[39m\u001b[38;5;124mB = \u001b[39m\u001b[38;5;124m\"\u001b[39m, B)\n\u001b[1;32m     12\u001b[0m     \u001b[38;5;28;01mreturn\u001b[39;00m B\n",
      "\u001b[0;31mNameError\u001b[0m: name 'z_t_minus_1' is not defined"
     ]
    }
   ],
   "source": [
    "t = observations[-1]\n",
    "print(t)\n",
    "\n",
    "j = 1\n",
    "B = find_b(observations, t, j)\n",
    "# z_tj = B*z_t\n",
    "# print(z_tj)"
   ]
  },
  {
   "cell_type": "code",
   "execution_count": 21,
   "id": "34320459-46f2-4538-a489-633caeb6da83",
   "metadata": {},
   "outputs": [],
   "source": [
    "# def find_b(observations, j):\n",
    "#     for observations_idx in range(1, len(observations)):\n",
    "#         z_t = observations[observations_idx]\n",
    "#         print(\"z_t = \", z_t)\n",
    "#         z_t_minus_1 = observations[observations_idx - 1]\n",
    "#         print(\"z_t_minus_1 = \", z_t_minus_1)\n",
    "\n",
    "#         B = z_t_minus_1 / z_t\n",
    "#         print(\"B = \", B)\n",
    "#         print()\n",
    "#     return B"
   ]
  },
  {
   "cell_type": "code",
   "execution_count": 6,
   "id": "e6243a77-aa2e-4c58-839a-b1c224cc2fec",
   "metadata": {},
   "outputs": [
    {
     "data": {
      "text/plain": [
       "405"
      ]
     },
     "execution_count": 6,
     "metadata": {},
     "output_type": "execute_result"
    }
   ],
   "source": [
    "B = 3\n",
    "j = 4\n",
    "z_t = 5\n",
    "z_t_m1 = (B**j) * z_t\n",
    "z_t_m1"
   ]
  },
  {
   "cell_type": "code",
   "execution_count": null,
   "id": "c4b6aab8-fbe3-43bd-a75c-2ec6461b44fb",
   "metadata": {},
   "outputs": [],
   "source": []
  }
 ],
 "metadata": {
  "kernelspec": {
   "display_name": "Python 3 (ipykernel)",
   "language": "python",
   "name": "python3"
  },
  "language_info": {
   "codemirror_mode": {
    "name": "ipython",
    "version": 3
   },
   "file_extension": ".py",
   "mimetype": "text/x-python",
   "name": "python",
   "nbconvert_exporter": "python",
   "pygments_lexer": "ipython3",
   "version": "3.9.7"
  }
 },
 "nbformat": 4,
 "nbformat_minor": 5
}
