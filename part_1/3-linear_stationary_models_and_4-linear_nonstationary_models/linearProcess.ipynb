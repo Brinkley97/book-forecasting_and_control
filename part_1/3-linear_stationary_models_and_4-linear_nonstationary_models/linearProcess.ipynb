{
 "cells": [
  {
   "cell_type": "markdown",
   "id": "459fa4b8-110d-4dee-bf85-7e1896c68166",
   "metadata": {},
   "source": [
    "# 3.1 General Linear Process\n",
    "$$\n",
    "\\tilde{z}_t = a_t + \\psi_1a_{t - 1} + \\psi_2a_{t - 2} ... \\newline\n",
    " = a_t + \\sum_{j = 1}^\\infty \\psi_ja_{t - j}\n",
    "$$"
   ]
  },
  {
   "cell_type": "markdown",
   "id": "d481a11c-5aa6-49c4-b573-43da5eeca877",
   "metadata": {},
   "source": [
    "Think in terms of slopes: y = mx + b (general function)"
   ]
  },
  {
   "cell_type": "markdown",
   "id": "d2df1d51-d3bd-41d8-884a-0e9b2c84b454",
   "metadata": {},
   "source": [
    "# Imports"
   ]
  },
  {
   "cell_type": "code",
   "execution_count": 3,
   "id": "8172a769-0fb8-4a53-98b9-a9d60e7b6c2e",
   "metadata": {},
   "outputs": [],
   "source": [
    "import numpy as np\n",
    "import pandas as pd\n",
    "\n",
    "from typing import List\n",
    "\n",
    "from matplotlib import pyplot as plt"
   ]
  },
  {
   "cell_type": "markdown",
   "id": "50753a15-d6c0-4bce-80c7-e990c74405b5",
   "metadata": {},
   "source": [
    "$\n",
    "\\tilde{z}_t = a_t + \\psi_1a_{t - 1} + \\psi_2a_{t - 2} ... \\newline\n",
    " = a_t + \\sum_{j = 1}^{\\infty} \\psi_ja_{t - j}\n",
    "$"
   ]
  },
  {
   "cell_type": "code",
   "execution_count": 73,
   "id": "28c82b7c-9396-4bcd-bd0d-0f7badccd57c",
   "metadata": {},
   "outputs": [],
   "source": [
    "def generate_linear_process_2(a:List[float], psi:List[float]) -> List[float]:\n",
    "    \"\"\"Generate a linear process\n",
    "    \n",
    "    Parameters\n",
    "    ----------\n",
    "    a : list of floats\n",
    "        The noise of our linear process\n",
    "    psi : list of floats\n",
    "        The weights of our linear process\n",
    "    \n",
    "    Returns\n",
    "    -------\n",
    "    tilde_zs: list\n",
    "        The linear process\n",
    "    \"\"\"\n",
    "    t = len(a) - 1\n",
    "    js = len(psi)\n",
    "    \n",
    "    tilde_z = a[t]\n",
    "    tilde_zs = []\n",
    "    \n",
    "    for j in range(1, js + 1):\n",
    "        print(\"j\", j)\n",
    "        if t - j >= 0:\n",
    "            print(\"t - j\", t - j)\n",
    "            tilde_z += psi[j - 1] * a[t - j]\n",
    "            tilde_zs.append(tilde_z)\n",
    "    \n",
    "    return tilde_zs"
   ]
  },
  {
   "cell_type": "code",
   "execution_count": 74,
   "id": "cc3c5ec6-7e3e-4bcb-bd93-f0f387071c62",
   "metadata": {},
   "outputs": [
    {
     "name": "stdout",
     "output_type": "stream",
     "text": [
      "j 1\n",
      "t - j 3\n",
      "j 2\n",
      "t - j 2\n",
      "j 3\n",
      "t - j 1\n",
      "Result: [2, 7, 8]\n"
     ]
    },
    {
     "data": {
      "image/png": "[encoded data removed]",
      "text/plain": [
       "<Figure size 640x480 with 1 Axes>"
      ]
     },
     "metadata": {},
     "output_type": "display_data"
    }
   ],
   "source": [
    "a = [1, 1, 1, 1, 1]\n",
    "psi = [1, 5, 1]\n",
    "\n",
    "glp = generate_linear_process_2(a, psi)\n",
    "print(\"Result:\", glp)\n",
    "\n",
    "plt.plot(glp)\n",
    "plt.show()"
   ]
  },
  {
   "cell_type": "code",
   "execution_count": null,
   "id": "57577710-b2d5-4da8-b722-c2e71850efab",
   "metadata": {},
   "outputs": [],
   "source": []
  },
  {
   "cell_type": "code",
   "execution_count": null,
   "id": "b6f7e718-48ff-4101-ace3-c56dc6e3473c",
   "metadata": {},
   "outputs": [],
   "source": []
  }
 ],
 "metadata": {
  "kernelspec": {
   "display_name": "Python 3 (ipykernel)",
   "language": "python",
   "name": "python3"
  },
  "language_info": {
   "codemirror_mode": {
    "name": "ipython",
    "version": 3
   },
   "file_extension": ".py",
   "mimetype": "text/x-python",
   "name": "python",
   "nbconvert_exporter": "python",
   "pygments_lexer": "ipython3",
   "version": "3.9.16"
  }
 },
 "nbformat": 4,
 "nbformat_minor": 5
}
